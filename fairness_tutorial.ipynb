{
  "nbformat": 4,
  "nbformat_minor": 0,
  "metadata": {
    "colab": {
      "name": "fairness_tutorial.ipynb",
      "provenance": [],
      "collapsed_sections": []
    },
    "kernelspec": {
      "name": "python3",
      "display_name": "Python 3"
    },
    "language_info": {
      "name": "python"
    }
  },
  "cells": [
    {
      "cell_type": "markdown",
      "source": [
        "# Fairness in Machine Learning"
      ],
      "metadata": {
        "id": "pH7nOIraEFNP"
      }
    },
    {
      "cell_type": "markdown",
      "source": [
        "where we discuss some techniques to assess Fairness and Mitigate bias in Machine Learning algorithms"
      ],
      "metadata": {
        "id": "WfLd6_Oa8sJE"
      }
    },
    {
      "cell_type": "markdown",
      "source": [
        "### packages import"
      ],
      "metadata": {
        "id": "MGvuELwtENbT"
      }
    },
    {
      "cell_type": "code",
      "source": [
        "import pandas as pd\n",
        "import numpy as np\n",
        "# plotting\n",
        "import matplotlib.pyplot as plt\n",
        "import seaborn as sns\n",
        "# sklearn model (logistic), utils and metrics\n",
        "from sklearn.linear_model import LogisticRegression\n",
        "from sklearn.ensemble import RandomForestClassifier\n",
        "from sklearn.model_selection import train_test_split\n",
        "from sklearn.preprocessing import StandardScaler\n",
        "from sklearn.pipeline import Pipeline\n",
        "from sklearn.metrics import (\n",
        "    balanced_accuracy_score,\n",
        "    roc_auc_score,\n",
        "    accuracy_score,\n",
        "    recall_score,\n",
        "    precision_score,\n",
        "    f1_score,\n",
        "    confusion_matrix,\n",
        "    roc_auc_score,\n",
        "    roc_curve,\n",
        "    plot_roc_curve)"
      ],
      "metadata": {
        "id": "LAf1lNfpuWTX"
      },
      "execution_count": 2,
      "outputs": []
    },
    {
      "cell_type": "markdown",
      "source": [
        "### downlaod German credit dataset from UCI (University of California at Irvine) https://archive.ics.uci.edu/"
      ],
      "metadata": {
        "id": "u6LjoL-uC50M"
      }
    },
    {
      "cell_type": "code",
      "execution_count": 3,
      "metadata": {
        "colab": {
          "base_uri": "https://localhost:8080/",
          "height": 353
        },
        "id": "8cMbePA8VqHp",
        "outputId": "7675f0ef-e41e-48bb-c8de-0e4a5ef4ac91"
      },
      "outputs": [
        {
          "output_type": "stream",
          "name": "stderr",
          "text": [
            "/usr/local/lib/python3.7/dist-packages/pandas/util/_decorators.py:311: ParserWarning: Falling back to the 'python' engine because the 'c' engine does not support regex separators (separators > 1 char and different from '\\s+' are interpreted as regex); you can avoid this warning by specifying engine='python'.\n",
            "  return func(*args, **kwargs)\n"
          ]
        },
        {
          "output_type": "stream",
          "name": "stdout",
          "text": [
            "German credit dataset. Number of observations: 1000; number of columns: 21.\n"
          ]
        },
        {
          "output_type": "execute_result",
          "data": {
            "text/plain": [
              "  existingchecking  duration credithistory purpose  creditamount savings  \\\n",
              "0              A11         6           A34     A43          1169     A65   \n",
              "1              A12        48           A32     A43          5951     A61   \n",
              "2              A14        12           A34     A46          2096     A61   \n",
              "3              A11        42           A32     A42          7882     A61   \n",
              "4              A11        24           A33     A40          4870     A61   \n",
              "\n",
              "  employmentsince  installmentrate statussex otherdebtors  ...  property age  \\\n",
              "0             A75                4       A93         A101  ...      A121  67   \n",
              "1             A73                2       A92         A101  ...      A121  22   \n",
              "2             A74                2       A93         A101  ...      A121  49   \n",
              "3             A74                2       A93         A103  ...      A122  45   \n",
              "4             A73                3       A93         A101  ...      A124  53   \n",
              "\n",
              "   otherinstallmentplans housing existingcredits   job peopleliable  \\\n",
              "0                   A143    A152               2  A173            1   \n",
              "1                   A143    A152               1  A173            1   \n",
              "2                   A143    A152               1  A172            2   \n",
              "3                   A143    A153               1  A173            2   \n",
              "4                   A143    A153               2  A173            2   \n",
              "\n",
              "   telephone foreignworker classification  \n",
              "0       A192          A201              1  \n",
              "1       A191          A201              2  \n",
              "2       A191          A201              1  \n",
              "3       A191          A201              1  \n",
              "4       A191          A201              2  \n",
              "\n",
              "[5 rows x 21 columns]"
            ],
            "text/html": [
              "\n",
              "  <div id=\"df-8eb71d49-39f5-4c01-822d-8b207c9af631\">\n",
              "    <div class=\"colab-df-container\">\n",
              "      <div>\n",
              "<style scoped>\n",
              "    .dataframe tbody tr th:only-of-type {\n",
              "        vertical-align: middle;\n",
              "    }\n",
              "\n",
              "    .dataframe tbody tr th {\n",
              "        vertical-align: top;\n",
              "    }\n",
              "\n",
              "    .dataframe thead th {\n",
              "        text-align: right;\n",
              "    }\n",
              "</style>\n",
              "<table border=\"1\" class=\"dataframe\">\n",
              "  <thead>\n",
              "    <tr style=\"text-align: right;\">\n",
              "      <th></th>\n",
              "      <th>existingchecking</th>\n",
              "      <th>duration</th>\n",
              "      <th>credithistory</th>\n",
              "      <th>purpose</th>\n",
              "      <th>creditamount</th>\n",
              "      <th>savings</th>\n",
              "      <th>employmentsince</th>\n",
              "      <th>installmentrate</th>\n",
              "      <th>statussex</th>\n",
              "      <th>otherdebtors</th>\n",
              "      <th>...</th>\n",
              "      <th>property</th>\n",
              "      <th>age</th>\n",
              "      <th>otherinstallmentplans</th>\n",
              "      <th>housing</th>\n",
              "      <th>existingcredits</th>\n",
              "      <th>job</th>\n",
              "      <th>peopleliable</th>\n",
              "      <th>telephone</th>\n",
              "      <th>foreignworker</th>\n",
              "      <th>classification</th>\n",
              "    </tr>\n",
              "  </thead>\n",
              "  <tbody>\n",
              "    <tr>\n",
              "      <th>0</th>\n",
              "      <td>A11</td>\n",
              "      <td>6</td>\n",
              "      <td>A34</td>\n",
              "      <td>A43</td>\n",
              "      <td>1169</td>\n",
              "      <td>A65</td>\n",
              "      <td>A75</td>\n",
              "      <td>4</td>\n",
              "      <td>A93</td>\n",
              "      <td>A101</td>\n",
              "      <td>...</td>\n",
              "      <td>A121</td>\n",
              "      <td>67</td>\n",
              "      <td>A143</td>\n",
              "      <td>A152</td>\n",
              "      <td>2</td>\n",
              "      <td>A173</td>\n",
              "      <td>1</td>\n",
              "      <td>A192</td>\n",
              "      <td>A201</td>\n",
              "      <td>1</td>\n",
              "    </tr>\n",
              "    <tr>\n",
              "      <th>1</th>\n",
              "      <td>A12</td>\n",
              "      <td>48</td>\n",
              "      <td>A32</td>\n",
              "      <td>A43</td>\n",
              "      <td>5951</td>\n",
              "      <td>A61</td>\n",
              "      <td>A73</td>\n",
              "      <td>2</td>\n",
              "      <td>A92</td>\n",
              "      <td>A101</td>\n",
              "      <td>...</td>\n",
              "      <td>A121</td>\n",
              "      <td>22</td>\n",
              "      <td>A143</td>\n",
              "      <td>A152</td>\n",
              "      <td>1</td>\n",
              "      <td>A173</td>\n",
              "      <td>1</td>\n",
              "      <td>A191</td>\n",
              "      <td>A201</td>\n",
              "      <td>2</td>\n",
              "    </tr>\n",
              "    <tr>\n",
              "      <th>2</th>\n",
              "      <td>A14</td>\n",
              "      <td>12</td>\n",
              "      <td>A34</td>\n",
              "      <td>A46</td>\n",
              "      <td>2096</td>\n",
              "      <td>A61</td>\n",
              "      <td>A74</td>\n",
              "      <td>2</td>\n",
              "      <td>A93</td>\n",
              "      <td>A101</td>\n",
              "      <td>...</td>\n",
              "      <td>A121</td>\n",
              "      <td>49</td>\n",
              "      <td>A143</td>\n",
              "      <td>A152</td>\n",
              "      <td>1</td>\n",
              "      <td>A172</td>\n",
              "      <td>2</td>\n",
              "      <td>A191</td>\n",
              "      <td>A201</td>\n",
              "      <td>1</td>\n",
              "    </tr>\n",
              "    <tr>\n",
              "      <th>3</th>\n",
              "      <td>A11</td>\n",
              "      <td>42</td>\n",
              "      <td>A32</td>\n",
              "      <td>A42</td>\n",
              "      <td>7882</td>\n",
              "      <td>A61</td>\n",
              "      <td>A74</td>\n",
              "      <td>2</td>\n",
              "      <td>A93</td>\n",
              "      <td>A103</td>\n",
              "      <td>...</td>\n",
              "      <td>A122</td>\n",
              "      <td>45</td>\n",
              "      <td>A143</td>\n",
              "      <td>A153</td>\n",
              "      <td>1</td>\n",
              "      <td>A173</td>\n",
              "      <td>2</td>\n",
              "      <td>A191</td>\n",
              "      <td>A201</td>\n",
              "      <td>1</td>\n",
              "    </tr>\n",
              "    <tr>\n",
              "      <th>4</th>\n",
              "      <td>A11</td>\n",
              "      <td>24</td>\n",
              "      <td>A33</td>\n",
              "      <td>A40</td>\n",
              "      <td>4870</td>\n",
              "      <td>A61</td>\n",
              "      <td>A73</td>\n",
              "      <td>3</td>\n",
              "      <td>A93</td>\n",
              "      <td>A101</td>\n",
              "      <td>...</td>\n",
              "      <td>A124</td>\n",
              "      <td>53</td>\n",
              "      <td>A143</td>\n",
              "      <td>A153</td>\n",
              "      <td>2</td>\n",
              "      <td>A173</td>\n",
              "      <td>2</td>\n",
              "      <td>A191</td>\n",
              "      <td>A201</td>\n",
              "      <td>2</td>\n",
              "    </tr>\n",
              "  </tbody>\n",
              "</table>\n",
              "<p>5 rows × 21 columns</p>\n",
              "</div>\n",
              "      <button class=\"colab-df-convert\" onclick=\"convertToInteractive('df-8eb71d49-39f5-4c01-822d-8b207c9af631')\"\n",
              "              title=\"Convert this dataframe to an interactive table.\"\n",
              "              style=\"display:none;\">\n",
              "        \n",
              "  <svg xmlns=\"http://www.w3.org/2000/svg\" height=\"24px\"viewBox=\"0 0 24 24\"\n",
              "       width=\"24px\">\n",
              "    <path d=\"M0 0h24v24H0V0z\" fill=\"none\"/>\n",
              "    <path d=\"M18.56 5.44l.94 2.06.94-2.06 2.06-.94-2.06-.94-.94-2.06-.94 2.06-2.06.94zm-11 1L8.5 8.5l.94-2.06 2.06-.94-2.06-.94L8.5 2.5l-.94 2.06-2.06.94zm10 10l.94 2.06.94-2.06 2.06-.94-2.06-.94-.94-2.06-.94 2.06-2.06.94z\"/><path d=\"M17.41 7.96l-1.37-1.37c-.4-.4-.92-.59-1.43-.59-.52 0-1.04.2-1.43.59L10.3 9.45l-7.72 7.72c-.78.78-.78 2.05 0 2.83L4 21.41c.39.39.9.59 1.41.59.51 0 1.02-.2 1.41-.59l7.78-7.78 2.81-2.81c.8-.78.8-2.07 0-2.86zM5.41 20L4 18.59l7.72-7.72 1.47 1.35L5.41 20z\"/>\n",
              "  </svg>\n",
              "      </button>\n",
              "      \n",
              "  <style>\n",
              "    .colab-df-container {\n",
              "      display:flex;\n",
              "      flex-wrap:wrap;\n",
              "      gap: 12px;\n",
              "    }\n",
              "\n",
              "    .colab-df-convert {\n",
              "      background-color: #E8F0FE;\n",
              "      border: none;\n",
              "      border-radius: 50%;\n",
              "      cursor: pointer;\n",
              "      display: none;\n",
              "      fill: #1967D2;\n",
              "      height: 32px;\n",
              "      padding: 0 0 0 0;\n",
              "      width: 32px;\n",
              "    }\n",
              "\n",
              "    .colab-df-convert:hover {\n",
              "      background-color: #E2EBFA;\n",
              "      box-shadow: 0px 1px 2px rgba(60, 64, 67, 0.3), 0px 1px 3px 1px rgba(60, 64, 67, 0.15);\n",
              "      fill: #174EA6;\n",
              "    }\n",
              "\n",
              "    [theme=dark] .colab-df-convert {\n",
              "      background-color: #3B4455;\n",
              "      fill: #D2E3FC;\n",
              "    }\n",
              "\n",
              "    [theme=dark] .colab-df-convert:hover {\n",
              "      background-color: #434B5C;\n",
              "      box-shadow: 0px 1px 3px 1px rgba(0, 0, 0, 0.15);\n",
              "      filter: drop-shadow(0px 1px 2px rgba(0, 0, 0, 0.3));\n",
              "      fill: #FFFFFF;\n",
              "    }\n",
              "  </style>\n",
              "\n",
              "      <script>\n",
              "        const buttonEl =\n",
              "          document.querySelector('#df-8eb71d49-39f5-4c01-822d-8b207c9af631 button.colab-df-convert');\n",
              "        buttonEl.style.display =\n",
              "          google.colab.kernel.accessAllowed ? 'block' : 'none';\n",
              "\n",
              "        async function convertToInteractive(key) {\n",
              "          const element = document.querySelector('#df-8eb71d49-39f5-4c01-822d-8b207c9af631');\n",
              "          const dataTable =\n",
              "            await google.colab.kernel.invokeFunction('convertToInteractive',\n",
              "                                                     [key], {});\n",
              "          if (!dataTable) return;\n",
              "\n",
              "          const docLinkHtml = 'Like what you see? Visit the ' +\n",
              "            '<a target=\"_blank\" href=https://colab.research.google.com/notebooks/data_table.ipynb>data table notebook</a>'\n",
              "            + ' to learn more about interactive tables.';\n",
              "          element.innerHTML = '';\n",
              "          dataTable['output_type'] = 'display_data';\n",
              "          await google.colab.output.renderOutput(dataTable, element);\n",
              "          const docLink = document.createElement('div');\n",
              "          docLink.innerHTML = docLinkHtml;\n",
              "          element.appendChild(docLink);\n",
              "        }\n",
              "      </script>\n",
              "    </div>\n",
              "  </div>\n",
              "  "
            ]
          },
          "metadata": {},
          "execution_count": 3
        }
      ],
      "source": [
        "filepath = r'https://archive.ics.uci.edu/ml/machine-learning-databases/statlog/german/german.data'\n",
        "# data file is a space separated table, and has no column names, \n",
        "# so we need to attach them \"by hand\" looking at metadata\n",
        "df = pd.read_csv(filepath, sep='\\s', header=None)\n",
        "df.columns = ['existingchecking', 'duration', 'credithistory', 'purpose', \n",
        "              'creditamount', 'savings', 'employmentsince', 'installmentrate', \n",
        "              'statussex', 'otherdebtors', 'residencesince', 'property', 'age',\n",
        "              'otherinstallmentplans', 'housing', 'existingcredits', 'job', \n",
        "              'peopleliable', 'telephone' , 'foreignworker', \n",
        "              'classification']\n",
        "\n",
        "print(f\"German credit dataset. Number of observations: {df.shape[0]}; number of columns: {df.shape[1]}.\")\n",
        "df.head()"
      ]
    },
    {
      "cell_type": "markdown",
      "source": [
        "prepare dataset for the classification task"
      ],
      "metadata": {
        "id": "OB1r0z0PzAkV"
      }
    },
    {
      "cell_type": "code",
      "source": [
        "#create quickaccess list with categorical variables labels\n",
        "catvars = ['existingchecking', 'credithistory', 'purpose', 'savings', 'employmentsince',\n",
        "            'statussex', 'otherdebtors', 'property', 'otherinstallmentplans', 'housing', 'job',\n",
        "            'telephone', 'foreignworker']\n",
        "#create quickaccess list with numerical variables labels\n",
        "numvars = ['creditamount', 'duration', 'installmentrate', 'residencesince', 'age',\n",
        "            'existingcredits', 'peopleliable', 'classification']\n",
        "\n",
        "# Binarize the target 0 = 'bad' credit; 1 = 'good' credit\n",
        "df.classification.replace([1,2], [1,0], inplace=True)\n",
        "\n",
        "\n",
        "# For simplicity we encode categories with ordinal numbers\n",
        "# DON'T DO THIS AT HOME!!\n",
        "for c in catvars:\n",
        "    df[c] = df[c].astype(\"category\").cat.codes\n",
        "\n",
        "#  create gender variable deriving it from the statussex one\n",
        "# -> 1= female 0 = male\n",
        "df.loc[df[\"statussex\"] == 0, \"gender\"] = 0\n",
        "df.loc[df[\"statussex\"] == 1, \"gender\"] = 1\n",
        "df.loc[df[\"statussex\"] == 2, \"gender\"] = 0\n",
        "df.loc[df[\"statussex\"] == 3, \"gender\"] = 0\n",
        "df.loc[df[\"statussex\"] == 4, \"gender\"] = 1\n",
        "\n",
        "# transform all features into floats, also categorical\n",
        "df = df.astype(\"float64\")\n",
        "df[\"classification\"] = df[\"classification\"].astype(\"int32\")\n",
        "\n",
        "# show a snippet of data\n",
        "df.head()"
      ],
      "metadata": {
        "colab": {
          "base_uri": "https://localhost:8080/",
          "height": 300
        },
        "id": "INwcULAVuVIh",
        "outputId": "9a963c0b-e21a-4070-9d0f-b91ca543f446"
      },
      "execution_count": 4,
      "outputs": [
        {
          "output_type": "execute_result",
          "data": {
            "text/plain": [
              "   existingchecking  duration  credithistory  purpose  creditamount  savings  \\\n",
              "0               0.0       6.0            4.0      4.0        1169.0      4.0   \n",
              "1               1.0      48.0            2.0      4.0        5951.0      0.0   \n",
              "2               3.0      12.0            4.0      7.0        2096.0      0.0   \n",
              "3               0.0      42.0            2.0      3.0        7882.0      0.0   \n",
              "4               0.0      24.0            3.0      0.0        4870.0      0.0   \n",
              "\n",
              "   employmentsince  installmentrate  statussex  otherdebtors  ...   age  \\\n",
              "0              4.0              4.0        2.0           0.0  ...  67.0   \n",
              "1              2.0              2.0        1.0           0.0  ...  22.0   \n",
              "2              3.0              2.0        2.0           0.0  ...  49.0   \n",
              "3              3.0              2.0        2.0           2.0  ...  45.0   \n",
              "4              2.0              3.0        2.0           0.0  ...  53.0   \n",
              "\n",
              "   otherinstallmentplans  housing  existingcredits  job  peopleliable  \\\n",
              "0                    2.0      1.0              2.0  2.0           1.0   \n",
              "1                    2.0      1.0              1.0  2.0           1.0   \n",
              "2                    2.0      1.0              1.0  1.0           2.0   \n",
              "3                    2.0      2.0              1.0  2.0           2.0   \n",
              "4                    2.0      2.0              2.0  2.0           2.0   \n",
              "\n",
              "   telephone  foreignworker  classification  gender  \n",
              "0        1.0            0.0               1     0.0  \n",
              "1        0.0            0.0               0     1.0  \n",
              "2        0.0            0.0               1     0.0  \n",
              "3        0.0            0.0               1     0.0  \n",
              "4        0.0            0.0               0     0.0  \n",
              "\n",
              "[5 rows x 22 columns]"
            ],
            "text/html": [
              "\n",
              "  <div id=\"df-9ce1db46-6b3f-47fd-88fc-b15e7f7afa4f\">\n",
              "    <div class=\"colab-df-container\">\n",
              "      <div>\n",
              "<style scoped>\n",
              "    .dataframe tbody tr th:only-of-type {\n",
              "        vertical-align: middle;\n",
              "    }\n",
              "\n",
              "    .dataframe tbody tr th {\n",
              "        vertical-align: top;\n",
              "    }\n",
              "\n",
              "    .dataframe thead th {\n",
              "        text-align: right;\n",
              "    }\n",
              "</style>\n",
              "<table border=\"1\" class=\"dataframe\">\n",
              "  <thead>\n",
              "    <tr style=\"text-align: right;\">\n",
              "      <th></th>\n",
              "      <th>existingchecking</th>\n",
              "      <th>duration</th>\n",
              "      <th>credithistory</th>\n",
              "      <th>purpose</th>\n",
              "      <th>creditamount</th>\n",
              "      <th>savings</th>\n",
              "      <th>employmentsince</th>\n",
              "      <th>installmentrate</th>\n",
              "      <th>statussex</th>\n",
              "      <th>otherdebtors</th>\n",
              "      <th>...</th>\n",
              "      <th>age</th>\n",
              "      <th>otherinstallmentplans</th>\n",
              "      <th>housing</th>\n",
              "      <th>existingcredits</th>\n",
              "      <th>job</th>\n",
              "      <th>peopleliable</th>\n",
              "      <th>telephone</th>\n",
              "      <th>foreignworker</th>\n",
              "      <th>classification</th>\n",
              "      <th>gender</th>\n",
              "    </tr>\n",
              "  </thead>\n",
              "  <tbody>\n",
              "    <tr>\n",
              "      <th>0</th>\n",
              "      <td>0.0</td>\n",
              "      <td>6.0</td>\n",
              "      <td>4.0</td>\n",
              "      <td>4.0</td>\n",
              "      <td>1169.0</td>\n",
              "      <td>4.0</td>\n",
              "      <td>4.0</td>\n",
              "      <td>4.0</td>\n",
              "      <td>2.0</td>\n",
              "      <td>0.0</td>\n",
              "      <td>...</td>\n",
              "      <td>67.0</td>\n",
              "      <td>2.0</td>\n",
              "      <td>1.0</td>\n",
              "      <td>2.0</td>\n",
              "      <td>2.0</td>\n",
              "      <td>1.0</td>\n",
              "      <td>1.0</td>\n",
              "      <td>0.0</td>\n",
              "      <td>1</td>\n",
              "      <td>0.0</td>\n",
              "    </tr>\n",
              "    <tr>\n",
              "      <th>1</th>\n",
              "      <td>1.0</td>\n",
              "      <td>48.0</td>\n",
              "      <td>2.0</td>\n",
              "      <td>4.0</td>\n",
              "      <td>5951.0</td>\n",
              "      <td>0.0</td>\n",
              "      <td>2.0</td>\n",
              "      <td>2.0</td>\n",
              "      <td>1.0</td>\n",
              "      <td>0.0</td>\n",
              "      <td>...</td>\n",
              "      <td>22.0</td>\n",
              "      <td>2.0</td>\n",
              "      <td>1.0</td>\n",
              "      <td>1.0</td>\n",
              "      <td>2.0</td>\n",
              "      <td>1.0</td>\n",
              "      <td>0.0</td>\n",
              "      <td>0.0</td>\n",
              "      <td>0</td>\n",
              "      <td>1.0</td>\n",
              "    </tr>\n",
              "    <tr>\n",
              "      <th>2</th>\n",
              "      <td>3.0</td>\n",
              "      <td>12.0</td>\n",
              "      <td>4.0</td>\n",
              "      <td>7.0</td>\n",
              "      <td>2096.0</td>\n",
              "      <td>0.0</td>\n",
              "      <td>3.0</td>\n",
              "      <td>2.0</td>\n",
              "      <td>2.0</td>\n",
              "      <td>0.0</td>\n",
              "      <td>...</td>\n",
              "      <td>49.0</td>\n",
              "      <td>2.0</td>\n",
              "      <td>1.0</td>\n",
              "      <td>1.0</td>\n",
              "      <td>1.0</td>\n",
              "      <td>2.0</td>\n",
              "      <td>0.0</td>\n",
              "      <td>0.0</td>\n",
              "      <td>1</td>\n",
              "      <td>0.0</td>\n",
              "    </tr>\n",
              "    <tr>\n",
              "      <th>3</th>\n",
              "      <td>0.0</td>\n",
              "      <td>42.0</td>\n",
              "      <td>2.0</td>\n",
              "      <td>3.0</td>\n",
              "      <td>7882.0</td>\n",
              "      <td>0.0</td>\n",
              "      <td>3.0</td>\n",
              "      <td>2.0</td>\n",
              "      <td>2.0</td>\n",
              "      <td>2.0</td>\n",
              "      <td>...</td>\n",
              "      <td>45.0</td>\n",
              "      <td>2.0</td>\n",
              "      <td>2.0</td>\n",
              "      <td>1.0</td>\n",
              "      <td>2.0</td>\n",
              "      <td>2.0</td>\n",
              "      <td>0.0</td>\n",
              "      <td>0.0</td>\n",
              "      <td>1</td>\n",
              "      <td>0.0</td>\n",
              "    </tr>\n",
              "    <tr>\n",
              "      <th>4</th>\n",
              "      <td>0.0</td>\n",
              "      <td>24.0</td>\n",
              "      <td>3.0</td>\n",
              "      <td>0.0</td>\n",
              "      <td>4870.0</td>\n",
              "      <td>0.0</td>\n",
              "      <td>2.0</td>\n",
              "      <td>3.0</td>\n",
              "      <td>2.0</td>\n",
              "      <td>0.0</td>\n",
              "      <td>...</td>\n",
              "      <td>53.0</td>\n",
              "      <td>2.0</td>\n",
              "      <td>2.0</td>\n",
              "      <td>2.0</td>\n",
              "      <td>2.0</td>\n",
              "      <td>2.0</td>\n",
              "      <td>0.0</td>\n",
              "      <td>0.0</td>\n",
              "      <td>0</td>\n",
              "      <td>0.0</td>\n",
              "    </tr>\n",
              "  </tbody>\n",
              "</table>\n",
              "<p>5 rows × 22 columns</p>\n",
              "</div>\n",
              "      <button class=\"colab-df-convert\" onclick=\"convertToInteractive('df-9ce1db46-6b3f-47fd-88fc-b15e7f7afa4f')\"\n",
              "              title=\"Convert this dataframe to an interactive table.\"\n",
              "              style=\"display:none;\">\n",
              "        \n",
              "  <svg xmlns=\"http://www.w3.org/2000/svg\" height=\"24px\"viewBox=\"0 0 24 24\"\n",
              "       width=\"24px\">\n",
              "    <path d=\"M0 0h24v24H0V0z\" fill=\"none\"/>\n",
              "    <path d=\"M18.56 5.44l.94 2.06.94-2.06 2.06-.94-2.06-.94-.94-2.06-.94 2.06-2.06.94zm-11 1L8.5 8.5l.94-2.06 2.06-.94-2.06-.94L8.5 2.5l-.94 2.06-2.06.94zm10 10l.94 2.06.94-2.06 2.06-.94-2.06-.94-.94-2.06-.94 2.06-2.06.94z\"/><path d=\"M17.41 7.96l-1.37-1.37c-.4-.4-.92-.59-1.43-.59-.52 0-1.04.2-1.43.59L10.3 9.45l-7.72 7.72c-.78.78-.78 2.05 0 2.83L4 21.41c.39.39.9.59 1.41.59.51 0 1.02-.2 1.41-.59l7.78-7.78 2.81-2.81c.8-.78.8-2.07 0-2.86zM5.41 20L4 18.59l7.72-7.72 1.47 1.35L5.41 20z\"/>\n",
              "  </svg>\n",
              "      </button>\n",
              "      \n",
              "  <style>\n",
              "    .colab-df-container {\n",
              "      display:flex;\n",
              "      flex-wrap:wrap;\n",
              "      gap: 12px;\n",
              "    }\n",
              "\n",
              "    .colab-df-convert {\n",
              "      background-color: #E8F0FE;\n",
              "      border: none;\n",
              "      border-radius: 50%;\n",
              "      cursor: pointer;\n",
              "      display: none;\n",
              "      fill: #1967D2;\n",
              "      height: 32px;\n",
              "      padding: 0 0 0 0;\n",
              "      width: 32px;\n",
              "    }\n",
              "\n",
              "    .colab-df-convert:hover {\n",
              "      background-color: #E2EBFA;\n",
              "      box-shadow: 0px 1px 2px rgba(60, 64, 67, 0.3), 0px 1px 3px 1px rgba(60, 64, 67, 0.15);\n",
              "      fill: #174EA6;\n",
              "    }\n",
              "\n",
              "    [theme=dark] .colab-df-convert {\n",
              "      background-color: #3B4455;\n",
              "      fill: #D2E3FC;\n",
              "    }\n",
              "\n",
              "    [theme=dark] .colab-df-convert:hover {\n",
              "      background-color: #434B5C;\n",
              "      box-shadow: 0px 1px 3px 1px rgba(0, 0, 0, 0.15);\n",
              "      filter: drop-shadow(0px 1px 2px rgba(0, 0, 0, 0.3));\n",
              "      fill: #FFFFFF;\n",
              "    }\n",
              "  </style>\n",
              "\n",
              "      <script>\n",
              "        const buttonEl =\n",
              "          document.querySelector('#df-9ce1db46-6b3f-47fd-88fc-b15e7f7afa4f button.colab-df-convert');\n",
              "        buttonEl.style.display =\n",
              "          google.colab.kernel.accessAllowed ? 'block' : 'none';\n",
              "\n",
              "        async function convertToInteractive(key) {\n",
              "          const element = document.querySelector('#df-9ce1db46-6b3f-47fd-88fc-b15e7f7afa4f');\n",
              "          const dataTable =\n",
              "            await google.colab.kernel.invokeFunction('convertToInteractive',\n",
              "                                                     [key], {});\n",
              "          if (!dataTable) return;\n",
              "\n",
              "          const docLinkHtml = 'Like what you see? Visit the ' +\n",
              "            '<a target=\"_blank\" href=https://colab.research.google.com/notebooks/data_table.ipynb>data table notebook</a>'\n",
              "            + ' to learn more about interactive tables.';\n",
              "          element.innerHTML = '';\n",
              "          dataTable['output_type'] = 'display_data';\n",
              "          await google.colab.output.renderOutput(dataTable, element);\n",
              "          const docLink = document.createElement('div');\n",
              "          docLink.innerHTML = docLinkHtml;\n",
              "          element.appendChild(docLink);\n",
              "        }\n",
              "      </script>\n",
              "    </div>\n",
              "  </div>\n",
              "  "
            ]
          },
          "metadata": {},
          "execution_count": 4
        }
      ]
    },
    {
      "cell_type": "markdown",
      "source": [
        "inspect target variable statistics"
      ],
      "metadata": {
        "id": "pU1Q_s32E3tp"
      }
    },
    {
      "cell_type": "code",
      "source": [
        "counts = df[\"classification\"].value_counts() # counts\n",
        "freqs = df[\"classification\"].value_counts(normalize=True) # frequencies\n",
        "print(f\"unconditional target counts:\")\n",
        "print(counts)\n",
        "print(f\"unconditional target frequencies:\")\n",
        "print(freqs)"
      ],
      "metadata": {
        "colab": {
          "base_uri": "https://localhost:8080/"
        },
        "id": "ZAuhIOFa813C",
        "outputId": "57c99c99-ded2-40c1-d829-cf699490bf52"
      },
      "execution_count": 5,
      "outputs": [
        {
          "output_type": "stream",
          "name": "stdout",
          "text": [
            "unconditional target counts:\n",
            "1    700\n",
            "0    300\n",
            "Name: classification, dtype: int64\n",
            "unconditional target frequencies:\n",
            "1    0.7\n",
            "0    0.3\n",
            "Name: classification, dtype: float64\n"
          ]
        }
      ]
    },
    {
      "cell_type": "markdown",
      "source": [
        "inspect age distribution"
      ],
      "metadata": {
        "id": "-0xIwdvF8ZwM"
      }
    },
    {
      "cell_type": "code",
      "source": [
        "df[\"age\"].describe()"
      ],
      "metadata": {
        "colab": {
          "base_uri": "https://localhost:8080/"
        },
        "id": "hE_Yv9Ls8Ivm",
        "outputId": "7da2ba89-678f-4c5a-fd44-f410c559e4fe"
      },
      "execution_count": 6,
      "outputs": [
        {
          "output_type": "execute_result",
          "data": {
            "text/plain": [
              "count    1000.000000\n",
              "mean       35.546000\n",
              "std        11.375469\n",
              "min        19.000000\n",
              "25%        27.000000\n",
              "50%        33.000000\n",
              "75%        42.000000\n",
              "max        75.000000\n",
              "Name: age, dtype: float64"
            ]
          },
          "metadata": {},
          "execution_count": 6
        }
      ]
    },
    {
      "cell_type": "code",
      "source": [
        "fig, ax = plt.subplots(figsize=(14, 10))\n",
        "df[\"age\"].value_counts().plot(kind='bar', rot=45)\n",
        "ax.plot()"
      ],
      "metadata": {
        "colab": {
          "base_uri": "https://localhost:8080/",
          "height": 622
        },
        "id": "YfZfJ2ZM8OqG",
        "outputId": "695e88d0-e94d-4183-d6db-e3596649f300"
      },
      "execution_count": 7,
      "outputs": [
        {
          "output_type": "execute_result",
          "data": {
            "text/plain": [
              "[]"
            ]
          },
          "metadata": {},
          "execution_count": 7
        },
        {
          "output_type": "display_data",
          "data": {
            "text/plain": [
              "<Figure size 1008x720 with 1 Axes>"
            ],
            "image/png": "[encoded data removed]"
          },
          "metadata": {
            "needs_background": "light"
          }
        }
      ]
    },
    {
      "cell_type": "markdown",
      "source": [
        "aggregate age in 3 groups --> problem of aggregation"
      ],
      "metadata": {
        "id": "EJsfkgnQE9J6"
      }
    },
    {
      "cell_type": "code",
      "source": [
        "df.loc[df['age'] >= 50, 'age_group'] = 2\n",
        "df.loc[(df['age'] >= 30) & (df['age'] < 50), 'age_group'] = 1\n",
        "df.loc[df['age'] < 30, 'age_group'] = 0\n",
        "df['age_group'].value_counts(normalize=True) "
      ],
      "metadata": {
        "colab": {
          "base_uri": "https://localhost:8080/"
        },
        "id": "1J7oEyW6ERKc",
        "outputId": "5e03b0a2-1ca1-42b6-b212-1a92a75cf048"
      },
      "execution_count": 8,
      "outputs": [
        {
          "output_type": "execute_result",
          "data": {
            "text/plain": [
              "1.0    0.504\n",
              "0.0    0.371\n",
              "2.0    0.125\n",
              "Name: age_group, dtype: float64"
            ]
          },
          "metadata": {},
          "execution_count": 8
        }
      ]
    },
    {
      "cell_type": "markdown",
      "source": [
        "## (Group) Fairness Metrics"
      ],
      "metadata": {
        "id": "-XUobe08GqjZ"
      }
    },
    {
      "cell_type": "code",
      "source": [
        "import warnings\n",
        "def metrics_by_group(y, y_proba, A, thr=.5, pos_label=1):\n",
        "    \"\"\"\n",
        "    computes performance metrics and plots the ROC by group \n",
        "    of a specific attribute of a binary classifier\n",
        "\n",
        "    :param y: array or pd.Series with true labels\n",
        "    :param y_proba: array or pd.Series with score outcome for the positive class\n",
        "      of a binary classifier\n",
        "    :param A: pd.Series with group membership\n",
        "    :param thr: threshold used to compute the threshold-specific metric\n",
        "    :param pos_label: the label of the positive class\n",
        "\n",
        "    :return: \n",
        "      pd.DataFrame with metrics\n",
        "      plot of the ROC by group\n",
        "    \"\"\"\n",
        "\n",
        "\n",
        "    fig, ax = plt.subplots()  # prepare the figure for plotting\n",
        "    df = []  # df that will contain the output\n",
        "\n",
        "    # checks to be sure that A is given as a pd.Series\n",
        "    if isinstance(A, pd.DataFrame):\n",
        "      warnings.warn(\"A is a dataframe, we take the first column only\")\n",
        "      A = A.iloc[:, 0]\n",
        "    \n",
        "    if not isinstance(A, pd.Series):\n",
        "      A = pd.Series(A)\n",
        "\n",
        "    # loop over unique values of the sensitive attribute A\n",
        "    for i in set(A):\n",
        "        idx = A == i\n",
        "        score_i = y_proba[idx]\n",
        "        pred_i = 1*(score_i >= thr)\n",
        "        y_i = y[idx]\n",
        "\n",
        "        fpr, tpr, _ = roc_curve(y_i, score_i)\n",
        "        df_i = pd.DataFrame(\n",
        "            {\"acc\": accuracy_score(y_i, pred_i),\n",
        "             \"prec\": precision_score(y_i, pred_i, pos_label=pos_label),\n",
        "             \"rec\": recall_score(y_i, pred_i, pos_label=pos_label),\n",
        "             \"F1\": f1_score(y_i, pred_i, pos_label=pos_label),\n",
        "             \"AUC\": roc_auc_score(y_i, score_i),\n",
        "             \"ppr\": sum(pred_i == pos_label) / len(pred_i)\n",
        "             },\n",
        "            index=[i]\n",
        "        )\n",
        "        if bool(A.name):\n",
        "          df_i.index.name = A.name\n",
        "        df.append(df_i)\n",
        "\n",
        "        ax.plot(fpr, tpr, label=i)\n",
        "        ax.set_xlabel(\"false positive rate\")\n",
        "        ax.set_ylabel(\"true positive rate\")\n",
        "        ax.legend()\n",
        "\n",
        "    return pd.concat(df)"
      ],
      "metadata": {
        "id": "vAo0r8_QOici"
      },
      "execution_count": 9,
      "outputs": []
    },
    {
      "cell_type": "markdown",
      "source": [
        "try with a random classifier"
      ],
      "metadata": {
        "id": "TT48Q8G5FzM1"
      }
    },
    {
      "cell_type": "code",
      "source": [
        "y_rand = np.random.uniform(0, 1, size=df.shape[0])\n",
        "df_metrics = metrics_by_group(y=df.classification, y_proba=y_rand, A=df.gender)"
      ],
      "metadata": {
        "colab": {
          "base_uri": "https://localhost:8080/",
          "height": 279
        },
        "id": "-2WEhaPQOlF6",
        "outputId": "376d34ba-f55c-4953-e61f-63c63a17943a"
      },
      "execution_count": 10,
      "outputs": [
        {
          "output_type": "display_data",
          "data": {
            "text/plain": [
              "<Figure size 432x288 with 1 Axes>"
            ],
            "image/png": "[encoded data removed]"
          },
          "metadata": {
            "needs_background": "light"
          }
        }
      ]
    },
    {
      "cell_type": "code",
      "source": [
        "print(df_metrics)"
      ],
      "metadata": {
        "colab": {
          "base_uri": "https://localhost:8080/"
        },
        "id": "sixOtPyomC1J",
        "outputId": "5b6af8ce-fbee-412f-ba76-dd5eb50a48c8"
      },
      "execution_count": 11,
      "outputs": [
        {
          "output_type": "stream",
          "name": "stdout",
          "text": [
            "             acc      prec       rec        F1       AUC       ppr\n",
            "gender                                                            \n",
            "0.0     0.494203  0.724551  0.484970  0.581032  0.522301  0.484058\n",
            "1.0     0.470968  0.620915  0.472637  0.536723  0.475193  0.493548\n"
          ]
        }
      ]
    },
    {
      "cell_type": "code",
      "source": [
        "df_metrics.T.plot.bar(color={1: 'blue', 0: \"magenta\"}, rot=0, figsize=(14, 8))"
      ],
      "metadata": {
        "colab": {
          "base_uri": "https://localhost:8080/",
          "height": 501
        },
        "id": "j3LfoVWRt7FP",
        "outputId": "c1ef9cf2-36cd-4e56-cc93-34b2dd876d53"
      },
      "execution_count": 12,
      "outputs": [
        {
          "output_type": "execute_result",
          "data": {
            "text/plain": [
              "<matplotlib.axes._subplots.AxesSubplot at 0x7f793b3ba550>"
            ]
          },
          "metadata": {},
          "execution_count": 12
        },
        {
          "output_type": "display_data",
          "data": {
            "text/plain": [
              "<Figure size 1008x576 with 1 Axes>"
            ],
            "image/png": "[encoded data removed]"
          },
          "metadata": {
            "needs_background": "light"
          }
        }
      ]
    },
    {
      "cell_type": "markdown",
      "source": [
        "inspect acceptance rate on orignal data"
      ],
      "metadata": {
        "id": "mjhHanc3SoiF"
      }
    },
    {
      "cell_type": "markdown",
      "source": [
        "build functions of target (y) and prediction (yhat) \n",
        "it seems redundant, but will be useful later on"
      ],
      "metadata": {
        "id": "Dst1kcL9-gfC"
      }
    },
    {
      "cell_type": "markdown",
      "source": [
        "we define **positive prediction rate** as $ P(\\hat{Y} = 1)$ and the **base rate** as $P(Y = 1)$"
      ],
      "metadata": {
        "id": "omWZhe2FAD3h"
      }
    },
    {
      "cell_type": "code",
      "source": [
        "# positive prediction rate P(Yhat = 1)\n",
        "def ppr(y, yhat, pos_label=1):\n",
        "  return np.sum(yhat == pos_label) / len(yhat)\n",
        "# base rate P(Y = 1)\n",
        "def br(y, yhat, pos_label=1):\n",
        "  return np.sum(y == pos_label) / len(y)"
      ],
      "metadata": {
        "id": "HT_Lla8z2mSi"
      },
      "execution_count": 13,
      "outputs": []
    },
    {
      "cell_type": "code",
      "source": [
        "# these 2 will give the same output, i.e the base rate\n",
        "print(ppr(None, df.classification))\n",
        "print(br(df.classification, None))"
      ],
      "metadata": {
        "colab": {
          "base_uri": "https://localhost:8080/"
        },
        "id": "_ZZ1nKRJ3QVr",
        "outputId": "3ebb8f40-e39c-443d-a3c0-2c8b7f8af166"
      },
      "execution_count": 14,
      "outputs": [
        {
          "output_type": "stream",
          "name": "stdout",
          "text": [
            "0.7\n",
            "0.7\n"
          ]
        }
      ]
    },
    {
      "cell_type": "code",
      "source": [
        "# compute base rate by group\n",
        "df.groupby('gender')['classification'].apply(lambda x: ppr(None, x))"
      ],
      "metadata": {
        "colab": {
          "base_uri": "https://localhost:8080/"
        },
        "id": "xSDYa1b326qP",
        "outputId": "55e45c10-1895-43aa-cacf-02b4a96629de"
      },
      "execution_count": 15,
      "outputs": [
        {
          "output_type": "execute_result",
          "data": {
            "text/plain": [
              "gender\n",
              "0.0    0.723188\n",
              "1.0    0.648387\n",
              "Name: classification, dtype: float64"
            ]
          },
          "metadata": {},
          "execution_count": 15
        }
      ]
    },
    {
      "cell_type": "code",
      "source": [
        "# notice that we have simply done the following\n",
        "ppr_1 = np.sum(df.classification[df.gender == 1] == 1) / np.sum(df.gender == 1)\n",
        "ppr_0 = np.sum(df.classification[df.gender == 0] == 1) / np.sum(df.gender == 0)\n",
        "print(f\"acceptance rate for 1: {ppr_1: .2},\\nacceptance rate for 0 {ppr_0: .2}\")"
      ],
      "metadata": {
        "colab": {
          "base_uri": "https://localhost:8080/"
        },
        "id": "YCRvLL0wRzk7",
        "outputId": "5a8b52b3-d7e7-4220-9c7c-3ff73720a96b"
      },
      "execution_count": 16,
      "outputs": [
        {
          "output_type": "stream",
          "name": "stdout",
          "text": [
            "acceptance rate for 1:  0.65,\n",
            "acceptance rate for 0  0.72\n"
          ]
        }
      ]
    },
    {
      "cell_type": "markdown",
      "source": [
        "now we compute the **Demographic Parity difference** $$ \\lvert P(\\hat{Y} = 1\\ \\rvert\\ A=1) - P(\\hat{Y} = 1\\ \\rvert\\ A=0)\\rvert $$\n",
        "and **Demographic Parity ratio** as $$ \\frac{\\min_a(P(\\hat{Y} = 1\\ \\rvert\\ A=a))}{\\max_a(P(\\hat{Y} = 1\\ \\rvert\\ A=a))} \\qquad(\\leq 1)$$"
      ],
      "metadata": {
        "id": "QmYPwOZVArUk"
      }
    },
    {
      "cell_type": "code",
      "source": [
        "print(f\"DP difference = {np.abs(ppr_1 - ppr_0): .3}\")\n",
        "print(f\"DP ratio = {min(ppr_1, ppr_0) / max(ppr_1, ppr_0): .3}\")"
      ],
      "metadata": {
        "colab": {
          "base_uri": "https://localhost:8080/"
        },
        "id": "MrGoBHm_Ss0h",
        "outputId": "53d19d50-dddc-40fc-9aa1-18ec07a6cb23"
      },
      "execution_count": 17,
      "outputs": [
        {
          "output_type": "stream",
          "name": "stdout",
          "text": [
            "DP difference =  0.0748\n",
            "DP ratio =  0.897\n"
          ]
        }
      ]
    },
    {
      "cell_type": "code",
      "source": [
        "# same thing but with a sns plot for gender\n",
        "sns.barplot(x=\"gender\", y=\"classification\", data=df, ci=95)"
      ],
      "metadata": {
        "colab": {
          "base_uri": "https://localhost:8080/",
          "height": 297
        },
        "id": "CHSBwg279Gsx",
        "outputId": "1d9e2f08-a1fe-43cc-d751-6cd57c513cf0"
      },
      "execution_count": 18,
      "outputs": [
        {
          "output_type": "execute_result",
          "data": {
            "text/plain": [
              "<matplotlib.axes._subplots.AxesSubplot at 0x7f793b349ed0>"
            ]
          },
          "metadata": {},
          "execution_count": 18
        },
        {
          "output_type": "display_data",
          "data": {
            "text/plain": [
              "<Figure size 432x288 with 1 Axes>"
            ],
            "image/png": "[encoded data removed]"
          },
          "metadata": {
            "needs_background": "light"
          }
        }
      ]
    },
    {
      "cell_type": "code",
      "source": [
        "# and for age groups\n",
        "sns.barplot(x=\"age_group\", y=\"classification\", data=df, ci=95)"
      ],
      "metadata": {
        "colab": {
          "base_uri": "https://localhost:8080/",
          "height": 297
        },
        "id": "avDKOSL8F5jM",
        "outputId": "53d7d55b-53eb-4b69-bbf8-dd3e2a455888"
      },
      "execution_count": 19,
      "outputs": [
        {
          "output_type": "execute_result",
          "data": {
            "text/plain": [
              "<matplotlib.axes._subplots.AxesSubplot at 0x7f793b276750>"
            ]
          },
          "metadata": {},
          "execution_count": 19
        },
        {
          "output_type": "display_data",
          "data": {
            "text/plain": [
              "<Figure size 432x288 with 1 Axes>"
            ],
            "image/png": "[encoded data removed]"
          },
          "metadata": {
            "needs_background": "light"
          }
        }
      ]
    },
    {
      "cell_type": "markdown",
      "source": [
        "### Now with a model"
      ],
      "metadata": {
        "id": "VL7okCuP-sMn"
      }
    },
    {
      "cell_type": "code",
      "source": [
        "target_variable = \"classification\"\n",
        "sensitive = \"age_group\""
      ],
      "metadata": {
        "id": "pGTpKAxp_YMc"
      },
      "execution_count": 20,
      "outputs": []
    },
    {
      "cell_type": "markdown",
      "source": [
        "train test random split"
      ],
      "metadata": {
        "id": "KsqVJUmL-zaL"
      }
    },
    {
      "cell_type": "code",
      "source": [
        "X, Y, A = df.drop([target_variable, sensitive], axis=1), df.loc[:, target_variable], df.loc[:, sensitive]"
      ],
      "metadata": {
        "id": "2MOfqEEb_tml"
      },
      "execution_count": 21,
      "outputs": []
    },
    {
      "cell_type": "code",
      "source": [
        "random_seed = 42\n",
        "np.random.seed(random_seed)"
      ],
      "metadata": {
        "id": "eItVqRSR_kNx"
      },
      "execution_count": 22,
      "outputs": []
    },
    {
      "cell_type": "markdown",
      "source": [
        "train/test splitting"
      ],
      "metadata": {
        "id": "GzlQdPiiIRIC"
      }
    },
    {
      "cell_type": "code",
      "source": [
        "X_train, X_test, Y_train, Y_test, A_train, A_test, df_train, df_test = train_test_split(\n",
        "    X,\n",
        "    Y,\n",
        "    A,\n",
        "    df,\n",
        "    test_size=0.50,\n",
        "    stratify=Y,\n",
        "    random_state=random_seed\n",
        ")"
      ],
      "metadata": {
        "id": "NRKXBfIq-5Hg"
      },
      "execution_count": 23,
      "outputs": []
    },
    {
      "cell_type": "markdown",
      "source": [
        "fit a model to the data"
      ],
      "metadata": {
        "id": "XOkHaA6m-J1Z"
      }
    },
    {
      "cell_type": "code",
      "source": [
        "unmitigated_pipeline = Pipeline(steps=[\n",
        "    (\"preprocessing\", StandardScaler()),\n",
        "    (\"logistic_regression\", LogisticRegression(max_iter=1000)),\n",
        "    #(\"random_forest\", RandomForestClassifier(min_samples_split=30))\n",
        "])\n",
        "\n",
        "unmitigated_pipeline.fit(X_train, Y_train)"
      ],
      "metadata": {
        "colab": {
          "base_uri": "https://localhost:8080/"
        },
        "id": "XoW9qZNo63KI",
        "outputId": "bc08e738-1c4f-4869-bc6e-ef2aac5c29e8"
      },
      "execution_count": 24,
      "outputs": [
        {
          "output_type": "execute_result",
          "data": {
            "text/plain": [
              "Pipeline(steps=[('preprocessing', StandardScaler()),\n",
              "                ('logistic_regression', LogisticRegression(max_iter=1000))])"
            ]
          },
          "metadata": {},
          "execution_count": 24
        }
      ]
    },
    {
      "cell_type": "markdown",
      "source": [
        "compute prediction on test set and check performance"
      ],
      "metadata": {
        "id": "DEn-RU91IWnr"
      }
    },
    {
      "cell_type": "code",
      "source": [
        "y_proba = unmitigated_pipeline.predict_proba(X_test)[:,1]\n",
        "y_pred = unmitigated_pipeline.predict(X_test)"
      ],
      "metadata": {
        "id": "0l6j55Q--Shi"
      },
      "execution_count": 25,
      "outputs": []
    },
    {
      "cell_type": "code",
      "source": [
        "# Show balanced accuracy rate of the 0/1 predictions\n",
        "balanced_accuracy_score(Y_test, y_pred)"
      ],
      "metadata": {
        "colab": {
          "base_uri": "https://localhost:8080/"
        },
        "id": "5JBeP_YnxTAf",
        "outputId": "f048622c-6ce3-4c71-e790-3ba251d6ec59"
      },
      "execution_count": 26,
      "outputs": [
        {
          "output_type": "execute_result",
          "data": {
            "text/plain": [
              "0.6942857142857143"
            ]
          },
          "metadata": {},
          "execution_count": 26
        }
      ]
    },
    {
      "cell_type": "code",
      "source": [
        "# Plot ROC curve of probabilistic predictions\n",
        "plot_roc_curve(unmitigated_pipeline, X_test, Y_test)"
      ],
      "metadata": {
        "colab": {
          "base_uri": "https://localhost:8080/",
          "height": 353
        },
        "id": "j8CdjuxW-Wte",
        "outputId": "9caab9b9-dba1-46c2-8e0a-252d1f3c73f3"
      },
      "execution_count": 27,
      "outputs": [
        {
          "output_type": "stream",
          "name": "stderr",
          "text": [
            "/usr/local/lib/python3.7/dist-packages/sklearn/utils/deprecation.py:87: FutureWarning: Function plot_roc_curve is deprecated; Function :func:`plot_roc_curve` is deprecated in 1.0 and will be removed in 1.2. Use one of the class methods: :meth:`sklearn.metric.RocCurveDisplay.from_predictions` or :meth:`sklearn.metric.RocCurveDisplay.from_estimator`.\n",
            "  warnings.warn(msg, category=FutureWarning)\n"
          ]
        },
        {
          "output_type": "execute_result",
          "data": {
            "text/plain": [
              "<sklearn.metrics._plot.roc_curve.RocCurveDisplay at 0x7f793b1f3b90>"
            ]
          },
          "metadata": {},
          "execution_count": 27
        },
        {
          "output_type": "display_data",
          "data": {
            "text/plain": [
              "<Figure size 432x288 with 1 Axes>"
            ],
            "image/png": "[encoded data removed]"
          },
          "metadata": {
            "needs_background": "light"
          }
        }
      ]
    },
    {
      "cell_type": "markdown",
      "source": [
        "let's also inspect performance on training set"
      ],
      "metadata": {
        "id": "Zen70YOIGD9m"
      }
    },
    {
      "cell_type": "code",
      "source": [
        "plot_roc_curve(unmitigated_pipeline, X_train, Y_train)"
      ],
      "metadata": {
        "colab": {
          "base_uri": "https://localhost:8080/",
          "height": 353
        },
        "id": "bdwjU-rvGIV0",
        "outputId": "77763946-ddc0-412f-b3ba-b1d3a394db19"
      },
      "execution_count": 28,
      "outputs": [
        {
          "output_type": "stream",
          "name": "stderr",
          "text": [
            "/usr/local/lib/python3.7/dist-packages/sklearn/utils/deprecation.py:87: FutureWarning: Function plot_roc_curve is deprecated; Function :func:`plot_roc_curve` is deprecated in 1.0 and will be removed in 1.2. Use one of the class methods: :meth:`sklearn.metric.RocCurveDisplay.from_predictions` or :meth:`sklearn.metric.RocCurveDisplay.from_estimator`.\n",
            "  warnings.warn(msg, category=FutureWarning)\n"
          ]
        },
        {
          "output_type": "execute_result",
          "data": {
            "text/plain": [
              "<sklearn.metrics._plot.roc_curve.RocCurveDisplay at 0x7f793898aa50>"
            ]
          },
          "metadata": {},
          "execution_count": 28
        },
        {
          "output_type": "display_data",
          "data": {
            "text/plain": [
              "<Figure size 432x288 with 1 Axes>"
            ],
            "image/png": "[encoded data removed]"
          },
          "metadata": {
            "needs_background": "light"
          }
        }
      ]
    },
    {
      "cell_type": "markdown",
      "source": [
        "inspect metrics by groups of the sensitive attributes"
      ],
      "metadata": {
        "id": "0IwQ8RchIiDo"
      }
    },
    {
      "cell_type": "code",
      "source": [
        "m_by_g = metrics_by_group(Y_test, y_proba, df_test[sensitive])\n",
        "print(m_by_g)"
      ],
      "metadata": {
        "colab": {
          "base_uri": "https://localhost:8080/",
          "height": 368
        },
        "id": "dMiaq3btG3cH",
        "outputId": "205cc800-8aa4-4ac1-87b5-7050bf8ef35c"
      },
      "execution_count": 29,
      "outputs": [
        {
          "output_type": "stream",
          "name": "stdout",
          "text": [
            "                acc      prec       rec        F1       AUC       ppr\n",
            "age_group                                                            \n",
            "0.0        0.745763  0.783333  0.831858  0.806867  0.795769  0.677966\n",
            "1.0        0.789062  0.807175  0.942408  0.869565  0.778494  0.871094\n",
            "2.0        0.835821  0.830189  0.956522  0.888889  0.824017  0.791045\n"
          ]
        },
        {
          "output_type": "display_data",
          "data": {
            "text/plain": [
              "<Figure size 432x288 with 1 Axes>"
            ],
            "image/png": "[encoded data removed]"
          },
          "metadata": {
            "needs_background": "light"
          }
        }
      ]
    },
    {
      "cell_type": "markdown",
      "source": [
        "Let's get the true positive rate ratio, namely the recall ratio. It is the ratio of the lowest recall with respect to the highest one, namely"
      ],
      "metadata": {
        "id": "0dYGpMZ6Iuk-"
      }
    },
    {
      "cell_type": "code",
      "source": [
        "tpr_ratio = m_by_g['rec'].min() / m_by_g['rec'].max()\n",
        "print(f\"true positive rate (a.k.a. recall) ratio: {tpr_ratio: .3}\")"
      ],
      "metadata": {
        "colab": {
          "base_uri": "https://localhost:8080/"
        },
        "id": "8NUSyE44JAWH",
        "outputId": "67496e25-0759-442e-ba4f-55942064c362"
      },
      "execution_count": 30,
      "outputs": [
        {
          "output_type": "stream",
          "name": "stdout",
          "text": [
            "true positive rate (a.k.a. recall) ratio:  0.87\n"
          ]
        }
      ]
    },
    {
      "cell_type": "markdown",
      "source": [
        "on gender would be"
      ],
      "metadata": {
        "id": "BC_zQi8oL-U5"
      }
    },
    {
      "cell_type": "code",
      "source": [
        "metrics_by_group(Y_test, y_proba, df_test.gender)"
      ],
      "metadata": {
        "colab": {
          "base_uri": "https://localhost:8080/",
          "height": 405
        },
        "id": "In9gNxE8L8rt",
        "outputId": "bc3fefc9-dd09-45da-814c-60f894678425"
      },
      "execution_count": 31,
      "outputs": [
        {
          "output_type": "execute_result",
          "data": {
            "text/plain": [
              "             acc      prec       rec        F1       AUC       ppr\n",
              "gender                                                            \n",
              "0.0     0.777465  0.802721  0.918288  0.856624  0.792663  0.828169\n",
              "1.0     0.786207  0.803922  0.881720  0.841026  0.806038  0.703448"
            ],
            "text/html": [
              "\n",
              "  <div id=\"df-4e7ea82d-0669-482c-83f5-438fd2976e91\">\n",
              "    <div class=\"colab-df-container\">\n",
              "      <div>\n",
              "<style scoped>\n",
              "    .dataframe tbody tr th:only-of-type {\n",
              "        vertical-align: middle;\n",
              "    }\n",
              "\n",
              "    .dataframe tbody tr th {\n",
              "        vertical-align: top;\n",
              "    }\n",
              "\n",
              "    .dataframe thead th {\n",
              "        text-align: right;\n",
              "    }\n",
              "</style>\n",
              "<table border=\"1\" class=\"dataframe\">\n",
              "  <thead>\n",
              "    <tr style=\"text-align: right;\">\n",
              "      <th></th>\n",
              "      <th>acc</th>\n",
              "      <th>prec</th>\n",
              "      <th>rec</th>\n",
              "      <th>F1</th>\n",
              "      <th>AUC</th>\n",
              "      <th>ppr</th>\n",
              "    </tr>\n",
              "    <tr>\n",
              "      <th>gender</th>\n",
              "      <th></th>\n",
              "      <th></th>\n",
              "      <th></th>\n",
              "      <th></th>\n",
              "      <th></th>\n",
              "      <th></th>\n",
              "    </tr>\n",
              "  </thead>\n",
              "  <tbody>\n",
              "    <tr>\n",
              "      <th>0.0</th>\n",
              "      <td>0.777465</td>\n",
              "      <td>0.802721</td>\n",
              "      <td>0.918288</td>\n",
              "      <td>0.856624</td>\n",
              "      <td>0.792663</td>\n",
              "      <td>0.828169</td>\n",
              "    </tr>\n",
              "    <tr>\n",
              "      <th>1.0</th>\n",
              "      <td>0.786207</td>\n",
              "      <td>0.803922</td>\n",
              "      <td>0.881720</td>\n",
              "      <td>0.841026</td>\n",
              "      <td>0.806038</td>\n",
              "      <td>0.703448</td>\n",
              "    </tr>\n",
              "  </tbody>\n",
              "</table>\n",
              "</div>\n",
              "      <button class=\"colab-df-convert\" onclick=\"convertToInteractive('df-4e7ea82d-0669-482c-83f5-438fd2976e91')\"\n",
              "              title=\"Convert this dataframe to an interactive table.\"\n",
              "              style=\"display:none;\">\n",
              "        \n",
              "  <svg xmlns=\"http://www.w3.org/2000/svg\" height=\"24px\"viewBox=\"0 0 24 24\"\n",
              "       width=\"24px\">\n",
              "    <path d=\"M0 0h24v24H0V0z\" fill=\"none\"/>\n",
              "    <path d=\"M18.56 5.44l.94 2.06.94-2.06 2.06-.94-2.06-.94-.94-2.06-.94 2.06-2.06.94zm-11 1L8.5 8.5l.94-2.06 2.06-.94-2.06-.94L8.5 2.5l-.94 2.06-2.06.94zm10 10l.94 2.06.94-2.06 2.06-.94-2.06-.94-.94-2.06-.94 2.06-2.06.94z\"/><path d=\"M17.41 7.96l-1.37-1.37c-.4-.4-.92-.59-1.43-.59-.52 0-1.04.2-1.43.59L10.3 9.45l-7.72 7.72c-.78.78-.78 2.05 0 2.83L4 21.41c.39.39.9.59 1.41.59.51 0 1.02-.2 1.41-.59l7.78-7.78 2.81-2.81c.8-.78.8-2.07 0-2.86zM5.41 20L4 18.59l7.72-7.72 1.47 1.35L5.41 20z\"/>\n",
              "  </svg>\n",
              "      </button>\n",
              "      \n",
              "  <style>\n",
              "    .colab-df-container {\n",
              "      display:flex;\n",
              "      flex-wrap:wrap;\n",
              "      gap: 12px;\n",
              "    }\n",
              "\n",
              "    .colab-df-convert {\n",
              "      background-color: #E8F0FE;\n",
              "      border: none;\n",
              "      border-radius: 50%;\n",
              "      cursor: pointer;\n",
              "      display: none;\n",
              "      fill: #1967D2;\n",
              "      height: 32px;\n",
              "      padding: 0 0 0 0;\n",
              "      width: 32px;\n",
              "    }\n",
              "\n",
              "    .colab-df-convert:hover {\n",
              "      background-color: #E2EBFA;\n",
              "      box-shadow: 0px 1px 2px rgba(60, 64, 67, 0.3), 0px 1px 3px 1px rgba(60, 64, 67, 0.15);\n",
              "      fill: #174EA6;\n",
              "    }\n",
              "\n",
              "    [theme=dark] .colab-df-convert {\n",
              "      background-color: #3B4455;\n",
              "      fill: #D2E3FC;\n",
              "    }\n",
              "\n",
              "    [theme=dark] .colab-df-convert:hover {\n",
              "      background-color: #434B5C;\n",
              "      box-shadow: 0px 1px 3px 1px rgba(0, 0, 0, 0.15);\n",
              "      filter: drop-shadow(0px 1px 2px rgba(0, 0, 0, 0.3));\n",
              "      fill: #FFFFFF;\n",
              "    }\n",
              "  </style>\n",
              "\n",
              "      <script>\n",
              "        const buttonEl =\n",
              "          document.querySelector('#df-4e7ea82d-0669-482c-83f5-438fd2976e91 button.colab-df-convert');\n",
              "        buttonEl.style.display =\n",
              "          google.colab.kernel.accessAllowed ? 'block' : 'none';\n",
              "\n",
              "        async function convertToInteractive(key) {\n",
              "          const element = document.querySelector('#df-4e7ea82d-0669-482c-83f5-438fd2976e91');\n",
              "          const dataTable =\n",
              "            await google.colab.kernel.invokeFunction('convertToInteractive',\n",
              "                                                     [key], {});\n",
              "          if (!dataTable) return;\n",
              "\n",
              "          const docLinkHtml = 'Like what you see? Visit the ' +\n",
              "            '<a target=\"_blank\" href=https://colab.research.google.com/notebooks/data_table.ipynb>data table notebook</a>'\n",
              "            + ' to learn more about interactive tables.';\n",
              "          element.innerHTML = '';\n",
              "          dataTable['output_type'] = 'display_data';\n",
              "          await google.colab.output.renderOutput(dataTable, element);\n",
              "          const docLink = document.createElement('div');\n",
              "          docLink.innerHTML = docLinkHtml;\n",
              "          element.appendChild(docLink);\n",
              "        }\n",
              "      </script>\n",
              "    </div>\n",
              "  </div>\n",
              "  "
            ]
          },
          "metadata": {},
          "execution_count": 31
        },
        {
          "output_type": "display_data",
          "data": {
            "text/plain": [
              "<Figure size 432x288 with 1 Axes>"
            ],
            "image/png": "[encoded data removed]"
          },
          "metadata": {
            "needs_background": "light"
          }
        }
      ]
    },
    {
      "cell_type": "code",
      "source": [
        "m_by_g = metrics_by_group(Y_test, y_proba, df_test['gender'])\n",
        "print(m_by_g)\n",
        "tpr_ratio = m_by_g['rec'].min() / m_by_g['rec'].max()\n",
        "print(f\"true positive rate (a.k.a. recall) ratio: {tpr_ratio: .3}\")"
      ],
      "metadata": {
        "colab": {
          "base_uri": "https://localhost:8080/",
          "height": 368
        },
        "id": "X20oN76nK1Ws",
        "outputId": "1f6fff80-3137-4e2a-9884-cccf7e187825"
      },
      "execution_count": 32,
      "outputs": [
        {
          "output_type": "stream",
          "name": "stdout",
          "text": [
            "             acc      prec       rec        F1       AUC       ppr\n",
            "gender                                                            \n",
            "0.0     0.777465  0.802721  0.918288  0.856624  0.792663  0.828169\n",
            "1.0     0.786207  0.803922  0.881720  0.841026  0.806038  0.703448\n",
            "true positive rate (a.k.a. recall) ratio:  0.96\n"
          ]
        },
        {
          "output_type": "display_data",
          "data": {
            "text/plain": [
              "<Figure size 432x288 with 1 Axes>"
            ],
            "image/png": "[encoded data removed]"
          },
          "metadata": {
            "needs_background": "light"
          }
        }
      ]
    },
    {
      "cell_type": "markdown",
      "source": [
        "### Fairlearn package"
      ],
      "metadata": {
        "id": "Jo8lGI_cJfvA"
      }
    },
    {
      "cell_type": "markdown",
      "source": [
        "we can leverage several packages that help us in 2 aspects:\n",
        "* assessing fairness, via predefined fairness metrics functions and utils,\n",
        "* build mitigation strategies.\n",
        "\n",
        "We shall here employ [Fairlearn](https://fairlearn.org/) but there are other packages (notably [IBM AIF360](https://aif360.mybluemix.net/), containing the adversarial debiasing algorithm)."
      ],
      "metadata": {
        "id": "kQuFtS5FJlFf"
      }
    },
    {
      "cell_type": "code",
      "source": [
        "# install fairlearn package\n",
        "!pip install fairlearn"
      ],
      "metadata": {
        "colab": {
          "base_uri": "https://localhost:8080/"
        },
        "id": "xlSMbg8e7txN",
        "outputId": "f6a31deb-b523-4f16-ba0a-9d5ae8121ead"
      },
      "execution_count": 33,
      "outputs": [
        {
          "output_type": "stream",
          "name": "stdout",
          "text": [
            "Looking in indexes: https://pypi.org/simple, https://us-python.pkg.dev/colab-wheels/public/simple/\n",
            "Collecting fairlearn\n",
            "  Downloading fairlearn-0.7.0-py3-none-any.whl (177 kB)\n",
            "\u001b[K     |████████████████████████████████| 177 kB 6.8 MB/s \n",
            "\u001b[?25hRequirement already satisfied: scikit-learn>=0.22.1 in /usr/local/lib/python3.7/dist-packages (from fairlearn) (1.0.2)\n",
            "Requirement already satisfied: pandas>=0.25.1 in /usr/local/lib/python3.7/dist-packages (from fairlearn) (1.3.5)\n",
            "Requirement already satisfied: numpy>=1.17.2 in /usr/local/lib/python3.7/dist-packages (from fairlearn) (1.21.6)\n",
            "Requirement already satisfied: scipy>=1.4.1 in /usr/local/lib/python3.7/dist-packages (from fairlearn) (1.4.1)\n",
            "Requirement already satisfied: python-dateutil>=2.7.3 in /usr/local/lib/python3.7/dist-packages (from pandas>=0.25.1->fairlearn) (2.8.2)\n",
            "Requirement already satisfied: pytz>=2017.3 in /usr/local/lib/python3.7/dist-packages (from pandas>=0.25.1->fairlearn) (2022.1)\n",
            "Requirement already satisfied: six>=1.5 in /usr/local/lib/python3.7/dist-packages (from python-dateutil>=2.7.3->pandas>=0.25.1->fairlearn) (1.15.0)\n",
            "Requirement already satisfied: joblib>=0.11 in /usr/local/lib/python3.7/dist-packages (from scikit-learn>=0.22.1->fairlearn) (1.1.0)\n",
            "Requirement already satisfied: threadpoolctl>=2.0.0 in /usr/local/lib/python3.7/dist-packages (from scikit-learn>=0.22.1->fairlearn) (3.1.0)\n",
            "Installing collected packages: fairlearn\n",
            "Successfully installed fairlearn-0.7.0\n"
          ]
        }
      ]
    },
    {
      "cell_type": "code",
      "source": [
        "# fairlearn imports\n",
        "# metrics\n",
        "from fairlearn.metrics import (\n",
        "    MetricFrame,\n",
        "    true_positive_rate,\n",
        "    false_positive_rate,\n",
        "    false_negative_rate,\n",
        "    selection_rate,\n",
        "    count,\n",
        "    false_negative_rate_difference\n",
        ")\n",
        "\n",
        "# mitigation\n",
        "from fairlearn.postprocessing import ThresholdOptimizer, plot_threshold_optimizer"
      ],
      "metadata": {
        "id": "fkNKr4cMA2Pr"
      },
      "execution_count": 34,
      "outputs": []
    },
    {
      "cell_type": "markdown",
      "source": [
        "### use of fairlearn `MetricFrame` to assess fairness"
      ],
      "metadata": {
        "id": "8HuBJCtWMIDS"
      }
    },
    {
      "cell_type": "code",
      "source": [
        "# In its simplest form MetricFrame takes four arguments:\n",
        "#    metric_function with signature metric_function(y_true, y_pred)\n",
        "#    y_true: array of labels\n",
        "#    y_pred: array of predictions\n",
        "#    sensitive_features: array of sensitive feature values\n",
        "\n",
        "mf1 = MetricFrame(metrics=false_negative_rate,\n",
        "                  y_true=Y_test,\n",
        "                  y_pred=y_pred,\n",
        "                  sensitive_features=df_test['gender'])\n",
        "\n",
        "# The disaggregated metrics are stored in a pandas Series mf1.by_group:\n",
        "\n",
        "mf1.by_group"
      ],
      "metadata": {
        "colab": {
          "base_uri": "https://localhost:8080/"
        },
        "id": "cSLJnBtR-sCZ",
        "outputId": "b8b373a7-86b0-4876-aaa6-39d774b46f1e"
      },
      "execution_count": 35,
      "outputs": [
        {
          "output_type": "execute_result",
          "data": {
            "text/plain": [
              "gender\n",
              "0.0    0.081712\n",
              "1.0     0.11828\n",
              "Name: false_negative_rate, dtype: object"
            ]
          },
          "metadata": {},
          "execution_count": 35
        }
      ]
    },
    {
      "cell_type": "markdown",
      "source": [
        "You can evaluate multiple metrics by providing a dictionary. The metrics that you can inspect need not to be native fairlearn function, you can use any function taking (y, yhat), such as sklearn metrics\n"
      ],
      "metadata": {
        "id": "3HZTM657MZlJ"
      }
    },
    {
      "cell_type": "code",
      "source": [
        "metrics_dict = {\n",
        "    \"base_rate\": br,\n",
        "    \"selection_rate\": selection_rate,\n",
        "    \"positive_prediction_rate\": ppr, #put here just for check, since it is equivalent to fairlearn selection rate\n",
        "    \"false_negative_rate\": false_negative_rate,\n",
        "    \"false_positive_rate\": false_positive_rate,\n",
        "    \"balanced_accuracy\": balanced_accuracy_score,\n",
        "    \"recall\": recall_score,\n",
        "    \"precision\": precision_score,\n",
        "    \"f1\": f1_score\n",
        "}\n",
        "\n",
        "metricframe_unmitigated = MetricFrame(metrics=metrics_dict,\n",
        "                  y_true=Y_test,\n",
        "                  y_pred=y_pred,\n",
        "                  sensitive_features=df_test[sensitive])\n",
        "\n",
        "# The disaggregated metrics are then stored in a pandas DataFrame:\n",
        "\n",
        "metricframe_unmitigated.by_group"
      ],
      "metadata": {
        "colab": {
          "base_uri": "https://localhost:8080/",
          "height": 219
        },
        "id": "P01vj4zuAgae",
        "outputId": "d5e6c0c0-736c-4f3e-bc7f-d0b2171e7c01"
      },
      "execution_count": 36,
      "outputs": [
        {
          "output_type": "execute_result",
          "data": {
            "text/plain": [
              "          base_rate selection_rate positive_prediction_rate  \\\n",
              "age_group                                                     \n",
              "0.0        0.638418       0.677966                 0.677966   \n",
              "1.0        0.746094       0.871094                 0.871094   \n",
              "2.0        0.686567       0.791045                 0.791045   \n",
              "\n",
              "          false_negative_rate false_positive_rate balanced_accuracy    recall  \\\n",
              "age_group                                                                       \n",
              "0.0                  0.168142             0.40625          0.712804  0.831858   \n",
              "1.0                  0.057592            0.661538          0.640435  0.942408   \n",
              "2.0                  0.043478            0.428571          0.763975  0.956522   \n",
              "\n",
              "          precision        f1  \n",
              "age_group                      \n",
              "0.0        0.783333  0.806867  \n",
              "1.0        0.807175  0.869565  \n",
              "2.0        0.830189  0.888889  "
            ],
            "text/html": [
              "\n",
              "  <div id=\"df-4f1a8610-cda8-4c24-b2b5-2f39ac3a9fec\">\n",
              "    <div class=\"colab-df-container\">\n",
              "      <div>\n",
              "<style scoped>\n",
              "    .dataframe tbody tr th:only-of-type {\n",
              "        vertical-align: middle;\n",
              "    }\n",
              "\n",
              "    .dataframe tbody tr th {\n",
              "        vertical-align: top;\n",
              "    }\n",
              "\n",
              "    .dataframe thead th {\n",
              "        text-align: right;\n",
              "    }\n",
              "</style>\n",
              "<table border=\"1\" class=\"dataframe\">\n",
              "  <thead>\n",
              "    <tr style=\"text-align: right;\">\n",
              "      <th></th>\n",
              "      <th>base_rate</th>\n",
              "      <th>selection_rate</th>\n",
              "      <th>positive_prediction_rate</th>\n",
              "      <th>false_negative_rate</th>\n",
              "      <th>false_positive_rate</th>\n",
              "      <th>balanced_accuracy</th>\n",
              "      <th>recall</th>\n",
              "      <th>precision</th>\n",
              "      <th>f1</th>\n",
              "    </tr>\n",
              "    <tr>\n",
              "      <th>age_group</th>\n",
              "      <th></th>\n",
              "      <th></th>\n",
              "      <th></th>\n",
              "      <th></th>\n",
              "      <th></th>\n",
              "      <th></th>\n",
              "      <th></th>\n",
              "      <th></th>\n",
              "      <th></th>\n",
              "    </tr>\n",
              "  </thead>\n",
              "  <tbody>\n",
              "    <tr>\n",
              "      <th>0.0</th>\n",
              "      <td>0.638418</td>\n",
              "      <td>0.677966</td>\n",
              "      <td>0.677966</td>\n",
              "      <td>0.168142</td>\n",
              "      <td>0.40625</td>\n",
              "      <td>0.712804</td>\n",
              "      <td>0.831858</td>\n",
              "      <td>0.783333</td>\n",
              "      <td>0.806867</td>\n",
              "    </tr>\n",
              "    <tr>\n",
              "      <th>1.0</th>\n",
              "      <td>0.746094</td>\n",
              "      <td>0.871094</td>\n",
              "      <td>0.871094</td>\n",
              "      <td>0.057592</td>\n",
              "      <td>0.661538</td>\n",
              "      <td>0.640435</td>\n",
              "      <td>0.942408</td>\n",
              "      <td>0.807175</td>\n",
              "      <td>0.869565</td>\n",
              "    </tr>\n",
              "    <tr>\n",
              "      <th>2.0</th>\n",
              "      <td>0.686567</td>\n",
              "      <td>0.791045</td>\n",
              "      <td>0.791045</td>\n",
              "      <td>0.043478</td>\n",
              "      <td>0.428571</td>\n",
              "      <td>0.763975</td>\n",
              "      <td>0.956522</td>\n",
              "      <td>0.830189</td>\n",
              "      <td>0.888889</td>\n",
              "    </tr>\n",
              "  </tbody>\n",
              "</table>\n",
              "</div>\n",
              "      <button class=\"colab-df-convert\" onclick=\"convertToInteractive('df-4f1a8610-cda8-4c24-b2b5-2f39ac3a9fec')\"\n",
              "              title=\"Convert this dataframe to an interactive table.\"\n",
              "              style=\"display:none;\">\n",
              "        \n",
              "  <svg xmlns=\"http://www.w3.org/2000/svg\" height=\"24px\"viewBox=\"0 0 24 24\"\n",
              "       width=\"24px\">\n",
              "    <path d=\"M0 0h24v24H0V0z\" fill=\"none\"/>\n",
              "    <path d=\"M18.56 5.44l.94 2.06.94-2.06 2.06-.94-2.06-.94-.94-2.06-.94 2.06-2.06.94zm-11 1L8.5 8.5l.94-2.06 2.06-.94-2.06-.94L8.5 2.5l-.94 2.06-2.06.94zm10 10l.94 2.06.94-2.06 2.06-.94-2.06-.94-.94-2.06-.94 2.06-2.06.94z\"/><path d=\"M17.41 7.96l-1.37-1.37c-.4-.4-.92-.59-1.43-.59-.52 0-1.04.2-1.43.59L10.3 9.45l-7.72 7.72c-.78.78-.78 2.05 0 2.83L4 21.41c.39.39.9.59 1.41.59.51 0 1.02-.2 1.41-.59l7.78-7.78 2.81-2.81c.8-.78.8-2.07 0-2.86zM5.41 20L4 18.59l7.72-7.72 1.47 1.35L5.41 20z\"/>\n",
              "  </svg>\n",
              "      </button>\n",
              "      \n",
              "  <style>\n",
              "    .colab-df-container {\n",
              "      display:flex;\n",
              "      flex-wrap:wrap;\n",
              "      gap: 12px;\n",
              "    }\n",
              "\n",
              "    .colab-df-convert {\n",
              "      background-color: #E8F0FE;\n",
              "      border: none;\n",
              "      border-radius: 50%;\n",
              "      cursor: pointer;\n",
              "      display: none;\n",
              "      fill: #1967D2;\n",
              "      height: 32px;\n",
              "      padding: 0 0 0 0;\n",
              "      width: 32px;\n",
              "    }\n",
              "\n",
              "    .colab-df-convert:hover {\n",
              "      background-color: #E2EBFA;\n",
              "      box-shadow: 0px 1px 2px rgba(60, 64, 67, 0.3), 0px 1px 3px 1px rgba(60, 64, 67, 0.15);\n",
              "      fill: #174EA6;\n",
              "    }\n",
              "\n",
              "    [theme=dark] .colab-df-convert {\n",
              "      background-color: #3B4455;\n",
              "      fill: #D2E3FC;\n",
              "    }\n",
              "\n",
              "    [theme=dark] .colab-df-convert:hover {\n",
              "      background-color: #434B5C;\n",
              "      box-shadow: 0px 1px 3px 1px rgba(0, 0, 0, 0.15);\n",
              "      filter: drop-shadow(0px 1px 2px rgba(0, 0, 0, 0.3));\n",
              "      fill: #FFFFFF;\n",
              "    }\n",
              "  </style>\n",
              "\n",
              "      <script>\n",
              "        const buttonEl =\n",
              "          document.querySelector('#df-4f1a8610-cda8-4c24-b2b5-2f39ac3a9fec button.colab-df-convert');\n",
              "        buttonEl.style.display =\n",
              "          google.colab.kernel.accessAllowed ? 'block' : 'none';\n",
              "\n",
              "        async function convertToInteractive(key) {\n",
              "          const element = document.querySelector('#df-4f1a8610-cda8-4c24-b2b5-2f39ac3a9fec');\n",
              "          const dataTable =\n",
              "            await google.colab.kernel.invokeFunction('convertToInteractive',\n",
              "                                                     [key], {});\n",
              "          if (!dataTable) return;\n",
              "\n",
              "          const docLinkHtml = 'Like what you see? Visit the ' +\n",
              "            '<a target=\"_blank\" href=https://colab.research.google.com/notebooks/data_table.ipynb>data table notebook</a>'\n",
              "            + ' to learn more about interactive tables.';\n",
              "          element.innerHTML = '';\n",
              "          dataTable['output_type'] = 'display_data';\n",
              "          await google.colab.output.renderOutput(dataTable, element);\n",
              "          const docLink = document.createElement('div');\n",
              "          docLink.innerHTML = docLinkHtml;\n",
              "          element.appendChild(docLink);\n",
              "        }\n",
              "      </script>\n",
              "    </div>\n",
              "  </div>\n",
              "  "
            ]
          },
          "metadata": {},
          "execution_count": 36
        }
      ]
    },
    {
      "cell_type": "code",
      "source": [
        "metricframe_unmitigated.ratio().plot.bar(figsize=(14, 8))"
      ],
      "metadata": {
        "colab": {
          "base_uri": "https://localhost:8080/",
          "height": 610
        },
        "id": "G00bAqwE40jS",
        "outputId": "ae298ff5-ac4c-4746-ea38-d7cb64f4b95d"
      },
      "execution_count": 37,
      "outputs": [
        {
          "output_type": "execute_result",
          "data": {
            "text/plain": [
              "<matplotlib.axes._subplots.AxesSubplot at 0x7f793887ab10>"
            ]
          },
          "metadata": {},
          "execution_count": 37
        },
        {
          "output_type": "display_data",
          "data": {
            "text/plain": [
              "<Figure size 1008x576 with 1 Axes>"
            ],
            "image/png": "[encoded data removed]"
          },
          "metadata": {
            "needs_background": "light"
          }
        }
      ]
    },
    {
      "cell_type": "markdown",
      "source": [
        "## Mitigation strategies"
      ],
      "metadata": {
        "id": "OJL3EXIwwScu"
      }
    },
    {
      "cell_type": "markdown",
      "source": [
        "### postprocessing Threshold Optimizer"
      ],
      "metadata": {
        "id": "KfT3oiACMzlg"
      }
    },
    {
      "cell_type": "markdown",
      "source": [
        "ThresholdOptimizer class is based on the work by [Hardt, Price & Srebro \"Equality of Opportunity in supervised learning\" NeurIPS (2016)](https://proceedings.neurips.cc/paper/2016/hash/9d2682367c3935defcb1f9e247a97c0d-Abstract.html).\n",
        "The idea is simple: reach a desired parity by a smart choice of the thresholds on the score **by group**.\n",
        "\n",
        "Possible constraints: *demographic_parity, (false/true)_(negative/positive)_rate_parity, equalized_odds*  "
      ],
      "metadata": {
        "id": "OATelBn_0ksU"
      }
    },
    {
      "cell_type": "code",
      "source": [
        "# Now we instantite ThresholdOptimizer with the fitted estimator\n",
        "postprocess_est = ThresholdOptimizer(\n",
        "    estimator=unmitigated_pipeline,\n",
        "    constraints=\"false_negative_rate_parity\",\n",
        "    objective=\"balanced_accuracy_score\",\n",
        "    prefit=True, #  whether the given estimator is already fitted to data\n",
        "    predict_method='predict_proba'\n",
        ")"
      ],
      "metadata": {
        "id": "FAJ3Ane5wToX"
      },
      "execution_count": 38,
      "outputs": []
    },
    {
      "cell_type": "markdown",
      "source": [
        "fit the postprocessing (in this case to the same training set)"
      ],
      "metadata": {
        "id": "UL-0nyiIyNt7"
      }
    },
    {
      "cell_type": "code",
      "source": [
        "postprocess_est.fit(X_train, Y_train, sensitive_features=A_train)"
      ],
      "metadata": {
        "colab": {
          "base_uri": "https://localhost:8080/"
        },
        "id": "Gn1FZGzhxEOi",
        "outputId": "f0fdfff1-eef6-4fcf-f44a-498a1e255e24"
      },
      "execution_count": 39,
      "outputs": [
        {
          "output_type": "execute_result",
          "data": {
            "text/plain": [
              "ThresholdOptimizer(constraints='false_negative_rate_parity',\n",
              "                   estimator=Pipeline(steps=[('preprocessing',\n",
              "                                              StandardScaler()),\n",
              "                                             ('logistic_regression',\n",
              "                                              LogisticRegression(max_iter=1000))]),\n",
              "                   objective='balanced_accuracy_score',\n",
              "                   predict_method='predict_proba', prefit=True)"
            ]
          },
          "metadata": {},
          "execution_count": 39
        }
      ]
    },
    {
      "cell_type": "markdown",
      "source": [
        "compute mitigated prediction on test set and assess metrics"
      ],
      "metadata": {
        "id": "Goa_9tUVExoB"
      }
    },
    {
      "cell_type": "code",
      "source": [
        "y_pred_postprocess = postprocess_est.predict(X_test, sensitive_features=A_test)\n",
        "\n",
        "metricframe_postprocess = MetricFrame(\n",
        "    metrics=metrics_dict,\n",
        "    y_true=Y_test,\n",
        "    y_pred=y_pred_postprocess,\n",
        "    sensitive_features=A_test\n",
        ")"
      ],
      "metadata": {
        "id": "7Gfez0CDxLuS"
      },
      "execution_count": 40,
      "outputs": []
    },
    {
      "cell_type": "markdown",
      "source": [
        "show different out-of-sample metrics by group"
      ],
      "metadata": {
        "id": "PNFMJRk2FElH"
      }
    },
    {
      "cell_type": "code",
      "source": [
        "pd.concat([metricframe_unmitigated.by_group,\n",
        "           metricframe_postprocess.by_group],\n",
        "          keys=['Unmitigated', 'Postprocessed'],\n",
        "          axis=1)"
      ],
      "metadata": {
        "colab": {
          "base_uri": "https://localhost:8080/",
          "height": 270
        },
        "id": "h_m97pLkxQ4l",
        "outputId": "87e2d3a7-a816-4501-b226-6623e08ba7d3"
      },
      "execution_count": 41,
      "outputs": [
        {
          "output_type": "execute_result",
          "data": {
            "text/plain": [
              "          Unmitigated                                          \\\n",
              "            base_rate selection_rate positive_prediction_rate   \n",
              "age_group                                                       \n",
              "0.0          0.638418       0.677966                 0.677966   \n",
              "1.0          0.746094       0.871094                 0.871094   \n",
              "2.0          0.686567       0.791045                 0.791045   \n",
              "\n",
              "                                                                               \\\n",
              "          false_negative_rate false_positive_rate balanced_accuracy    recall   \n",
              "age_group                                                                       \n",
              "0.0                  0.168142             0.40625          0.712804  0.831858   \n",
              "1.0                  0.057592            0.661538          0.640435  0.942408   \n",
              "2.0                  0.043478            0.428571          0.763975  0.956522   \n",
              "\n",
              "                              Postprocessed                 \\\n",
              "          precision        f1     base_rate selection_rate   \n",
              "age_group                                                    \n",
              "0.0        0.783333  0.806867      0.638418       0.570621   \n",
              "1.0        0.807175  0.869565      0.746094       0.757812   \n",
              "2.0        0.830189  0.888889      0.686567       0.686567   \n",
              "\n",
              "                                                                            \\\n",
              "          positive_prediction_rate false_negative_rate false_positive_rate   \n",
              "age_group                                                                    \n",
              "0.0                       0.570621            0.283186              0.3125   \n",
              "1.0                       0.757812            0.141361            0.461538   \n",
              "2.0                       0.686567            0.130435            0.285714   \n",
              "\n",
              "                                                           \n",
              "          balanced_accuracy    recall precision        f1  \n",
              "age_group                                                  \n",
              "0.0                0.702157  0.716814   0.80198  0.757009  \n",
              "1.0                 0.69855  0.858639  0.845361  0.851948  \n",
              "2.0                0.791925  0.869565  0.869565  0.869565  "
            ],
            "text/html": [
              "\n",
              "  <div id=\"df-e4df9fc3-863a-4841-8bba-c113dd1f8843\">\n",
              "    <div class=\"colab-df-container\">\n",
              "      <div>\n",
              "<style scoped>\n",
              "    .dataframe tbody tr th:only-of-type {\n",
              "        vertical-align: middle;\n",
              "    }\n",
              "\n",
              "    .dataframe tbody tr th {\n",
              "        vertical-align: top;\n",
              "    }\n",
              "\n",
              "    .dataframe thead tr th {\n",
              "        text-align: left;\n",
              "    }\n",
              "\n",
              "    .dataframe thead tr:last-of-type th {\n",
              "        text-align: right;\n",
              "    }\n",
              "</style>\n",
              "<table border=\"1\" class=\"dataframe\">\n",
              "  <thead>\n",
              "    <tr>\n",
              "      <th></th>\n",
              "      <th colspan=\"9\" halign=\"left\">Unmitigated</th>\n",
              "      <th colspan=\"9\" halign=\"left\">Postprocessed</th>\n",
              "    </tr>\n",
              "    <tr>\n",
              "      <th></th>\n",
              "      <th>base_rate</th>\n",
              "      <th>selection_rate</th>\n",
              "      <th>positive_prediction_rate</th>\n",
              "      <th>false_negative_rate</th>\n",
              "      <th>false_positive_rate</th>\n",
              "      <th>balanced_accuracy</th>\n",
              "      <th>recall</th>\n",
              "      <th>precision</th>\n",
              "      <th>f1</th>\n",
              "      <th>base_rate</th>\n",
              "      <th>selection_rate</th>\n",
              "      <th>positive_prediction_rate</th>\n",
              "      <th>false_negative_rate</th>\n",
              "      <th>false_positive_rate</th>\n",
              "      <th>balanced_accuracy</th>\n",
              "      <th>recall</th>\n",
              "      <th>precision</th>\n",
              "      <th>f1</th>\n",
              "    </tr>\n",
              "    <tr>\n",
              "      <th>age_group</th>\n",
              "      <th></th>\n",
              "      <th></th>\n",
              "      <th></th>\n",
              "      <th></th>\n",
              "      <th></th>\n",
              "      <th></th>\n",
              "      <th></th>\n",
              "      <th></th>\n",
              "      <th></th>\n",
              "      <th></th>\n",
              "      <th></th>\n",
              "      <th></th>\n",
              "      <th></th>\n",
              "      <th></th>\n",
              "      <th></th>\n",
              "      <th></th>\n",
              "      <th></th>\n",
              "      <th></th>\n",
              "    </tr>\n",
              "  </thead>\n",
              "  <tbody>\n",
              "    <tr>\n",
              "      <th>0.0</th>\n",
              "      <td>0.638418</td>\n",
              "      <td>0.677966</td>\n",
              "      <td>0.677966</td>\n",
              "      <td>0.168142</td>\n",
              "      <td>0.40625</td>\n",
              "      <td>0.712804</td>\n",
              "      <td>0.831858</td>\n",
              "      <td>0.783333</td>\n",
              "      <td>0.806867</td>\n",
              "      <td>0.638418</td>\n",
              "      <td>0.570621</td>\n",
              "      <td>0.570621</td>\n",
              "      <td>0.283186</td>\n",
              "      <td>0.3125</td>\n",
              "      <td>0.702157</td>\n",
              "      <td>0.716814</td>\n",
              "      <td>0.80198</td>\n",
              "      <td>0.757009</td>\n",
              "    </tr>\n",
              "    <tr>\n",
              "      <th>1.0</th>\n",
              "      <td>0.746094</td>\n",
              "      <td>0.871094</td>\n",
              "      <td>0.871094</td>\n",
              "      <td>0.057592</td>\n",
              "      <td>0.661538</td>\n",
              "      <td>0.640435</td>\n",
              "      <td>0.942408</td>\n",
              "      <td>0.807175</td>\n",
              "      <td>0.869565</td>\n",
              "      <td>0.746094</td>\n",
              "      <td>0.757812</td>\n",
              "      <td>0.757812</td>\n",
              "      <td>0.141361</td>\n",
              "      <td>0.461538</td>\n",
              "      <td>0.69855</td>\n",
              "      <td>0.858639</td>\n",
              "      <td>0.845361</td>\n",
              "      <td>0.851948</td>\n",
              "    </tr>\n",
              "    <tr>\n",
              "      <th>2.0</th>\n",
              "      <td>0.686567</td>\n",
              "      <td>0.791045</td>\n",
              "      <td>0.791045</td>\n",
              "      <td>0.043478</td>\n",
              "      <td>0.428571</td>\n",
              "      <td>0.763975</td>\n",
              "      <td>0.956522</td>\n",
              "      <td>0.830189</td>\n",
              "      <td>0.888889</td>\n",
              "      <td>0.686567</td>\n",
              "      <td>0.686567</td>\n",
              "      <td>0.686567</td>\n",
              "      <td>0.130435</td>\n",
              "      <td>0.285714</td>\n",
              "      <td>0.791925</td>\n",
              "      <td>0.869565</td>\n",
              "      <td>0.869565</td>\n",
              "      <td>0.869565</td>\n",
              "    </tr>\n",
              "  </tbody>\n",
              "</table>\n",
              "</div>\n",
              "      <button class=\"colab-df-convert\" onclick=\"convertToInteractive('df-e4df9fc3-863a-4841-8bba-c113dd1f8843')\"\n",
              "              title=\"Convert this dataframe to an interactive table.\"\n",
              "              style=\"display:none;\">\n",
              "        \n",
              "  <svg xmlns=\"http://www.w3.org/2000/svg\" height=\"24px\"viewBox=\"0 0 24 24\"\n",
              "       width=\"24px\">\n",
              "    <path d=\"M0 0h24v24H0V0z\" fill=\"none\"/>\n",
              "    <path d=\"M18.56 5.44l.94 2.06.94-2.06 2.06-.94-2.06-.94-.94-2.06-.94 2.06-2.06.94zm-11 1L8.5 8.5l.94-2.06 2.06-.94-2.06-.94L8.5 2.5l-.94 2.06-2.06.94zm10 10l.94 2.06.94-2.06 2.06-.94-2.06-.94-.94-2.06-.94 2.06-2.06.94z\"/><path d=\"M17.41 7.96l-1.37-1.37c-.4-.4-.92-.59-1.43-.59-.52 0-1.04.2-1.43.59L10.3 9.45l-7.72 7.72c-.78.78-.78 2.05 0 2.83L4 21.41c.39.39.9.59 1.41.59.51 0 1.02-.2 1.41-.59l7.78-7.78 2.81-2.81c.8-.78.8-2.07 0-2.86zM5.41 20L4 18.59l7.72-7.72 1.47 1.35L5.41 20z\"/>\n",
              "  </svg>\n",
              "      </button>\n",
              "      \n",
              "  <style>\n",
              "    .colab-df-container {\n",
              "      display:flex;\n",
              "      flex-wrap:wrap;\n",
              "      gap: 12px;\n",
              "    }\n",
              "\n",
              "    .colab-df-convert {\n",
              "      background-color: #E8F0FE;\n",
              "      border: none;\n",
              "      border-radius: 50%;\n",
              "      cursor: pointer;\n",
              "      display: none;\n",
              "      fill: #1967D2;\n",
              "      height: 32px;\n",
              "      padding: 0 0 0 0;\n",
              "      width: 32px;\n",
              "    }\n",
              "\n",
              "    .colab-df-convert:hover {\n",
              "      background-color: #E2EBFA;\n",
              "      box-shadow: 0px 1px 2px rgba(60, 64, 67, 0.3), 0px 1px 3px 1px rgba(60, 64, 67, 0.15);\n",
              "      fill: #174EA6;\n",
              "    }\n",
              "\n",
              "    [theme=dark] .colab-df-convert {\n",
              "      background-color: #3B4455;\n",
              "      fill: #D2E3FC;\n",
              "    }\n",
              "\n",
              "    [theme=dark] .colab-df-convert:hover {\n",
              "      background-color: #434B5C;\n",
              "      box-shadow: 0px 1px 3px 1px rgba(0, 0, 0, 0.15);\n",
              "      filter: drop-shadow(0px 1px 2px rgba(0, 0, 0, 0.3));\n",
              "      fill: #FFFFFF;\n",
              "    }\n",
              "  </style>\n",
              "\n",
              "      <script>\n",
              "        const buttonEl =\n",
              "          document.querySelector('#df-e4df9fc3-863a-4841-8bba-c113dd1f8843 button.colab-df-convert');\n",
              "        buttonEl.style.display =\n",
              "          google.colab.kernel.accessAllowed ? 'block' : 'none';\n",
              "\n",
              "        async function convertToInteractive(key) {\n",
              "          const element = document.querySelector('#df-e4df9fc3-863a-4841-8bba-c113dd1f8843');\n",
              "          const dataTable =\n",
              "            await google.colab.kernel.invokeFunction('convertToInteractive',\n",
              "                                                     [key], {});\n",
              "          if (!dataTable) return;\n",
              "\n",
              "          const docLinkHtml = 'Like what you see? Visit the ' +\n",
              "            '<a target=\"_blank\" href=https://colab.research.google.com/notebooks/data_table.ipynb>data table notebook</a>'\n",
              "            + ' to learn more about interactive tables.';\n",
              "          element.innerHTML = '';\n",
              "          dataTable['output_type'] = 'display_data';\n",
              "          await google.colab.output.renderOutput(dataTable, element);\n",
              "          const docLink = document.createElement('div');\n",
              "          docLink.innerHTML = docLinkHtml;\n",
              "          element.appendChild(docLink);\n",
              "        }\n",
              "      </script>\n",
              "    </div>\n",
              "  </div>\n",
              "  "
            ]
          },
          "metadata": {},
          "execution_count": 41
        }
      ]
    },
    {
      "cell_type": "markdown",
      "source": [
        "compute out-of-sample ratios and plot them"
      ],
      "metadata": {
        "id": "QFERDVy5FJBy"
      }
    },
    {
      "cell_type": "code",
      "source": [
        "df_metrics = pd.concat([metricframe_unmitigated.ratio(),\n",
        "                        metricframe_postprocess.ratio()],\n",
        "                       keys=['Unmitigated', 'Postprocessed'],\n",
        "                       axis=1)"
      ],
      "metadata": {
        "id": "thEz6W7AztHj"
      },
      "execution_count": 42,
      "outputs": []
    },
    {
      "cell_type": "code",
      "source": [
        "df_metrics.plot.bar(figsize=(14, 8))"
      ],
      "metadata": {
        "colab": {
          "base_uri": "https://localhost:8080/",
          "height": 610
        },
        "id": "CCvkT-P-zE4d",
        "outputId": "be476769-fd8e-44fa-a162-f7de62f6dca9"
      },
      "execution_count": 43,
      "outputs": [
        {
          "output_type": "execute_result",
          "data": {
            "text/plain": [
              "<matplotlib.axes._subplots.AxesSubplot at 0x7f793b256490>"
            ]
          },
          "metadata": {},
          "execution_count": 43
        },
        {
          "output_type": "display_data",
          "data": {
            "text/plain": [
              "<Figure size 1008x576 with 1 Axes>"
            ],
            "image/png": "[encoded data removed]"
          },
          "metadata": {
            "needs_background": "light"
          }
        }
      ]
    },
    {
      "cell_type": "markdown",
      "source": [
        "Let's check also in-sample, i.e. on training data"
      ],
      "metadata": {
        "id": "xZEiSS5W1qz-"
      }
    },
    {
      "cell_type": "code",
      "source": [
        "y_pred_postprocess_training = postprocess_est.predict(X_train, sensitive_features=A_train)\n",
        "metricframe_postprocess_training = MetricFrame(\n",
        "    metrics=metrics_dict,\n",
        "    y_true=Y_train,\n",
        "    y_pred=y_pred_postprocess_training,\n",
        "    sensitive_features=A_train\n",
        ")\n",
        "metricframe_postprocess_training.by_group"
      ],
      "metadata": {
        "colab": {
          "base_uri": "https://localhost:8080/",
          "height": 219
        },
        "id": "rpZ5zNbb1ru2",
        "outputId": "b14b31d8-cb77-4479-d9fc-f45bfdb40099"
      },
      "execution_count": 44,
      "outputs": [
        {
          "output_type": "execute_result",
          "data": {
            "text/plain": [
              "          base_rate selection_rate positive_prediction_rate  \\\n",
              "age_group                                                     \n",
              "0.0        0.623711       0.613402                 0.613402   \n",
              "1.0        0.741935       0.681452                 0.681452   \n",
              "2.0        0.775862       0.655172                 0.655172   \n",
              "\n",
              "          false_negative_rate false_positive_rate balanced_accuracy    recall  \\\n",
              "age_group                                                                       \n",
              "0.0                  0.198347             0.30137          0.750142  0.801653   \n",
              "1.0                  0.201087             0.34375          0.727582  0.798913   \n",
              "2.0                  0.222222            0.230769          0.773504  0.777778   \n",
              "\n",
              "          precision        f1  \n",
              "age_group                      \n",
              "0.0        0.815126  0.808333  \n",
              "1.0        0.869822  0.832861  \n",
              "2.0        0.921053  0.843373  "
            ],
            "text/html": [
              "\n",
              "  <div id=\"df-e5e3e777-5f15-4182-b3c4-a91111938ad5\">\n",
              "    <div class=\"colab-df-container\">\n",
              "      <div>\n",
              "<style scoped>\n",
              "    .dataframe tbody tr th:only-of-type {\n",
              "        vertical-align: middle;\n",
              "    }\n",
              "\n",
              "    .dataframe tbody tr th {\n",
              "        vertical-align: top;\n",
              "    }\n",
              "\n",
              "    .dataframe thead th {\n",
              "        text-align: right;\n",
              "    }\n",
              "</style>\n",
              "<table border=\"1\" class=\"dataframe\">\n",
              "  <thead>\n",
              "    <tr style=\"text-align: right;\">\n",
              "      <th></th>\n",
              "      <th>base_rate</th>\n",
              "      <th>selection_rate</th>\n",
              "      <th>positive_prediction_rate</th>\n",
              "      <th>false_negative_rate</th>\n",
              "      <th>false_positive_rate</th>\n",
              "      <th>balanced_accuracy</th>\n",
              "      <th>recall</th>\n",
              "      <th>precision</th>\n",
              "      <th>f1</th>\n",
              "    </tr>\n",
              "    <tr>\n",
              "      <th>age_group</th>\n",
              "      <th></th>\n",
              "      <th></th>\n",
              "      <th></th>\n",
              "      <th></th>\n",
              "      <th></th>\n",
              "      <th></th>\n",
              "      <th></th>\n",
              "      <th></th>\n",
              "      <th></th>\n",
              "    </tr>\n",
              "  </thead>\n",
              "  <tbody>\n",
              "    <tr>\n",
              "      <th>0.0</th>\n",
              "      <td>0.623711</td>\n",
              "      <td>0.613402</td>\n",
              "      <td>0.613402</td>\n",
              "      <td>0.198347</td>\n",
              "      <td>0.30137</td>\n",
              "      <td>0.750142</td>\n",
              "      <td>0.801653</td>\n",
              "      <td>0.815126</td>\n",
              "      <td>0.808333</td>\n",
              "    </tr>\n",
              "    <tr>\n",
              "      <th>1.0</th>\n",
              "      <td>0.741935</td>\n",
              "      <td>0.681452</td>\n",
              "      <td>0.681452</td>\n",
              "      <td>0.201087</td>\n",
              "      <td>0.34375</td>\n",
              "      <td>0.727582</td>\n",
              "      <td>0.798913</td>\n",
              "      <td>0.869822</td>\n",
              "      <td>0.832861</td>\n",
              "    </tr>\n",
              "    <tr>\n",
              "      <th>2.0</th>\n",
              "      <td>0.775862</td>\n",
              "      <td>0.655172</td>\n",
              "      <td>0.655172</td>\n",
              "      <td>0.222222</td>\n",
              "      <td>0.230769</td>\n",
              "      <td>0.773504</td>\n",
              "      <td>0.777778</td>\n",
              "      <td>0.921053</td>\n",
              "      <td>0.843373</td>\n",
              "    </tr>\n",
              "  </tbody>\n",
              "</table>\n",
              "</div>\n",
              "      <button class=\"colab-df-convert\" onclick=\"convertToInteractive('df-e5e3e777-5f15-4182-b3c4-a91111938ad5')\"\n",
              "              title=\"Convert this dataframe to an interactive table.\"\n",
              "              style=\"display:none;\">\n",
              "        \n",
              "  <svg xmlns=\"http://www.w3.org/2000/svg\" height=\"24px\"viewBox=\"0 0 24 24\"\n",
              "       width=\"24px\">\n",
              "    <path d=\"M0 0h24v24H0V0z\" fill=\"none\"/>\n",
              "    <path d=\"M18.56 5.44l.94 2.06.94-2.06 2.06-.94-2.06-.94-.94-2.06-.94 2.06-2.06.94zm-11 1L8.5 8.5l.94-2.06 2.06-.94-2.06-.94L8.5 2.5l-.94 2.06-2.06.94zm10 10l.94 2.06.94-2.06 2.06-.94-2.06-.94-.94-2.06-.94 2.06-2.06.94z\"/><path d=\"M17.41 7.96l-1.37-1.37c-.4-.4-.92-.59-1.43-.59-.52 0-1.04.2-1.43.59L10.3 9.45l-7.72 7.72c-.78.78-.78 2.05 0 2.83L4 21.41c.39.39.9.59 1.41.59.51 0 1.02-.2 1.41-.59l7.78-7.78 2.81-2.81c.8-.78.8-2.07 0-2.86zM5.41 20L4 18.59l7.72-7.72 1.47 1.35L5.41 20z\"/>\n",
              "  </svg>\n",
              "      </button>\n",
              "      \n",
              "  <style>\n",
              "    .colab-df-container {\n",
              "      display:flex;\n",
              "      flex-wrap:wrap;\n",
              "      gap: 12px;\n",
              "    }\n",
              "\n",
              "    .colab-df-convert {\n",
              "      background-color: #E8F0FE;\n",
              "      border: none;\n",
              "      border-radius: 50%;\n",
              "      cursor: pointer;\n",
              "      display: none;\n",
              "      fill: #1967D2;\n",
              "      height: 32px;\n",
              "      padding: 0 0 0 0;\n",
              "      width: 32px;\n",
              "    }\n",
              "\n",
              "    .colab-df-convert:hover {\n",
              "      background-color: #E2EBFA;\n",
              "      box-shadow: 0px 1px 2px rgba(60, 64, 67, 0.3), 0px 1px 3px 1px rgba(60, 64, 67, 0.15);\n",
              "      fill: #174EA6;\n",
              "    }\n",
              "\n",
              "    [theme=dark] .colab-df-convert {\n",
              "      background-color: #3B4455;\n",
              "      fill: #D2E3FC;\n",
              "    }\n",
              "\n",
              "    [theme=dark] .colab-df-convert:hover {\n",
              "      background-color: #434B5C;\n",
              "      box-shadow: 0px 1px 3px 1px rgba(0, 0, 0, 0.15);\n",
              "      filter: drop-shadow(0px 1px 2px rgba(0, 0, 0, 0.3));\n",
              "      fill: #FFFFFF;\n",
              "    }\n",
              "  </style>\n",
              "\n",
              "      <script>\n",
              "        const buttonEl =\n",
              "          document.querySelector('#df-e5e3e777-5f15-4182-b3c4-a91111938ad5 button.colab-df-convert');\n",
              "        buttonEl.style.display =\n",
              "          google.colab.kernel.accessAllowed ? 'block' : 'none';\n",
              "\n",
              "        async function convertToInteractive(key) {\n",
              "          const element = document.querySelector('#df-e5e3e777-5f15-4182-b3c4-a91111938ad5');\n",
              "          const dataTable =\n",
              "            await google.colab.kernel.invokeFunction('convertToInteractive',\n",
              "                                                     [key], {});\n",
              "          if (!dataTable) return;\n",
              "\n",
              "          const docLinkHtml = 'Like what you see? Visit the ' +\n",
              "            '<a target=\"_blank\" href=https://colab.research.google.com/notebooks/data_table.ipynb>data table notebook</a>'\n",
              "            + ' to learn more about interactive tables.';\n",
              "          element.innerHTML = '';\n",
              "          dataTable['output_type'] = 'display_data';\n",
              "          await google.colab.output.renderOutput(dataTable, element);\n",
              "          const docLink = document.createElement('div');\n",
              "          docLink.innerHTML = docLinkHtml;\n",
              "          element.appendChild(docLink);\n",
              "        }\n",
              "      </script>\n",
              "    </div>\n",
              "  </div>\n",
              "  "
            ]
          },
          "metadata": {},
          "execution_count": 44
        }
      ]
    },
    {
      "cell_type": "code",
      "source": [
        "# Evaluate the difference between the largest and smallest value of each metric\n",
        "metricframe_postprocess_training.ratio()"
      ],
      "metadata": {
        "colab": {
          "base_uri": "https://localhost:8080/"
        },
        "id": "ozdlih4W15fu",
        "outputId": "3b792269-3313-4ee8-bd86-be24d6b5cd54"
      },
      "execution_count": 45,
      "outputs": [
        {
          "output_type": "execute_result",
          "data": {
            "text/plain": [
              "base_rate                   0.803895\n",
              "selection_rate               0.90014\n",
              "positive_prediction_rate     0.90014\n",
              "false_negative_rate         0.892562\n",
              "false_positive_rate         0.671329\n",
              "balanced_accuracy            0.94063\n",
              "recall                      0.970218\n",
              "precision                   0.884994\n",
              "f1                          0.958452\n",
              "dtype: object"
            ]
          },
          "metadata": {},
          "execution_count": 45
        }
      ]
    },
    {
      "cell_type": "markdown",
      "source": [
        "let's see the ROC on *train*"
      ],
      "metadata": {
        "id": "7DPMTia-zKR3"
      }
    },
    {
      "cell_type": "code",
      "source": [
        "metrics_by_group(Y_train, unmitigated_pipeline.predict_proba(X_train)[:, 1], df_train[sensitive])"
      ],
      "metadata": {
        "colab": {
          "base_uri": "https://localhost:8080/",
          "height": 437
        },
        "id": "9VVRYQs8zGnW",
        "outputId": "8c5d165c-ee46-4453-9a2e-6be4a2ca05ce"
      },
      "execution_count": 46,
      "outputs": [
        {
          "output_type": "execute_result",
          "data": {
            "text/plain": [
              "                acc      prec       rec        F1       AUC       ppr\n",
              "age_group                                                            \n",
              "0.0        0.711340  0.737226  0.834711  0.782946  0.748443  0.706186\n",
              "1.0        0.778226  0.808612  0.918478  0.860051  0.810887  0.842742\n",
              "2.0        0.810345  0.854167  0.911111  0.881720  0.830769  0.827586"
            ],
            "text/html": [
              "\n",
              "  <div id=\"df-e6083773-877b-4612-98f6-4b4b1253bf38\">\n",
              "    <div class=\"colab-df-container\">\n",
              "      <div>\n",
              "<style scoped>\n",
              "    .dataframe tbody tr th:only-of-type {\n",
              "        vertical-align: middle;\n",
              "    }\n",
              "\n",
              "    .dataframe tbody tr th {\n",
              "        vertical-align: top;\n",
              "    }\n",
              "\n",
              "    .dataframe thead th {\n",
              "        text-align: right;\n",
              "    }\n",
              "</style>\n",
              "<table border=\"1\" class=\"dataframe\">\n",
              "  <thead>\n",
              "    <tr style=\"text-align: right;\">\n",
              "      <th></th>\n",
              "      <th>acc</th>\n",
              "      <th>prec</th>\n",
              "      <th>rec</th>\n",
              "      <th>F1</th>\n",
              "      <th>AUC</th>\n",
              "      <th>ppr</th>\n",
              "    </tr>\n",
              "    <tr>\n",
              "      <th>age_group</th>\n",
              "      <th></th>\n",
              "      <th></th>\n",
              "      <th></th>\n",
              "      <th></th>\n",
              "      <th></th>\n",
              "      <th></th>\n",
              "    </tr>\n",
              "  </thead>\n",
              "  <tbody>\n",
              "    <tr>\n",
              "      <th>0.0</th>\n",
              "      <td>0.711340</td>\n",
              "      <td>0.737226</td>\n",
              "      <td>0.834711</td>\n",
              "      <td>0.782946</td>\n",
              "      <td>0.748443</td>\n",
              "      <td>0.706186</td>\n",
              "    </tr>\n",
              "    <tr>\n",
              "      <th>1.0</th>\n",
              "      <td>0.778226</td>\n",
              "      <td>0.808612</td>\n",
              "      <td>0.918478</td>\n",
              "      <td>0.860051</td>\n",
              "      <td>0.810887</td>\n",
              "      <td>0.842742</td>\n",
              "    </tr>\n",
              "    <tr>\n",
              "      <th>2.0</th>\n",
              "      <td>0.810345</td>\n",
              "      <td>0.854167</td>\n",
              "      <td>0.911111</td>\n",
              "      <td>0.881720</td>\n",
              "      <td>0.830769</td>\n",
              "      <td>0.827586</td>\n",
              "    </tr>\n",
              "  </tbody>\n",
              "</table>\n",
              "</div>\n",
              "      <button class=\"colab-df-convert\" onclick=\"convertToInteractive('df-e6083773-877b-4612-98f6-4b4b1253bf38')\"\n",
              "              title=\"Convert this dataframe to an interactive table.\"\n",
              "              style=\"display:none;\">\n",
              "        \n",
              "  <svg xmlns=\"http://www.w3.org/2000/svg\" height=\"24px\"viewBox=\"0 0 24 24\"\n",
              "       width=\"24px\">\n",
              "    <path d=\"M0 0h24v24H0V0z\" fill=\"none\"/>\n",
              "    <path d=\"M18.56 5.44l.94 2.06.94-2.06 2.06-.94-2.06-.94-.94-2.06-.94 2.06-2.06.94zm-11 1L8.5 8.5l.94-2.06 2.06-.94-2.06-.94L8.5 2.5l-.94 2.06-2.06.94zm10 10l.94 2.06.94-2.06 2.06-.94-2.06-.94-.94-2.06-.94 2.06-2.06.94z\"/><path d=\"M17.41 7.96l-1.37-1.37c-.4-.4-.92-.59-1.43-.59-.52 0-1.04.2-1.43.59L10.3 9.45l-7.72 7.72c-.78.78-.78 2.05 0 2.83L4 21.41c.39.39.9.59 1.41.59.51 0 1.02-.2 1.41-.59l7.78-7.78 2.81-2.81c.8-.78.8-2.07 0-2.86zM5.41 20L4 18.59l7.72-7.72 1.47 1.35L5.41 20z\"/>\n",
              "  </svg>\n",
              "      </button>\n",
              "      \n",
              "  <style>\n",
              "    .colab-df-container {\n",
              "      display:flex;\n",
              "      flex-wrap:wrap;\n",
              "      gap: 12px;\n",
              "    }\n",
              "\n",
              "    .colab-df-convert {\n",
              "      background-color: #E8F0FE;\n",
              "      border: none;\n",
              "      border-radius: 50%;\n",
              "      cursor: pointer;\n",
              "      display: none;\n",
              "      fill: #1967D2;\n",
              "      height: 32px;\n",
              "      padding: 0 0 0 0;\n",
              "      width: 32px;\n",
              "    }\n",
              "\n",
              "    .colab-df-convert:hover {\n",
              "      background-color: #E2EBFA;\n",
              "      box-shadow: 0px 1px 2px rgba(60, 64, 67, 0.3), 0px 1px 3px 1px rgba(60, 64, 67, 0.15);\n",
              "      fill: #174EA6;\n",
              "    }\n",
              "\n",
              "    [theme=dark] .colab-df-convert {\n",
              "      background-color: #3B4455;\n",
              "      fill: #D2E3FC;\n",
              "    }\n",
              "\n",
              "    [theme=dark] .colab-df-convert:hover {\n",
              "      background-color: #434B5C;\n",
              "      box-shadow: 0px 1px 3px 1px rgba(0, 0, 0, 0.15);\n",
              "      filter: drop-shadow(0px 1px 2px rgba(0, 0, 0, 0.3));\n",
              "      fill: #FFFFFF;\n",
              "    }\n",
              "  </style>\n",
              "\n",
              "      <script>\n",
              "        const buttonEl =\n",
              "          document.querySelector('#df-e6083773-877b-4612-98f6-4b4b1253bf38 button.colab-df-convert');\n",
              "        buttonEl.style.display =\n",
              "          google.colab.kernel.accessAllowed ? 'block' : 'none';\n",
              "\n",
              "        async function convertToInteractive(key) {\n",
              "          const element = document.querySelector('#df-e6083773-877b-4612-98f6-4b4b1253bf38');\n",
              "          const dataTable =\n",
              "            await google.colab.kernel.invokeFunction('convertToInteractive',\n",
              "                                                     [key], {});\n",
              "          if (!dataTable) return;\n",
              "\n",
              "          const docLinkHtml = 'Like what you see? Visit the ' +\n",
              "            '<a target=\"_blank\" href=https://colab.research.google.com/notebooks/data_table.ipynb>data table notebook</a>'\n",
              "            + ' to learn more about interactive tables.';\n",
              "          element.innerHTML = '';\n",
              "          dataTable['output_type'] = 'display_data';\n",
              "          await google.colab.output.renderOutput(dataTable, element);\n",
              "          const docLink = document.createElement('div');\n",
              "          docLink.innerHTML = docLinkHtml;\n",
              "          element.appendChild(docLink);\n",
              "        }\n",
              "      </script>\n",
              "    </div>\n",
              "  </div>\n",
              "  "
            ]
          },
          "metadata": {},
          "execution_count": 46
        },
        {
          "output_type": "display_data",
          "data": {
            "text/plain": [
              "<Figure size 432x288 with 1 Axes>"
            ],
            "image/png": "[encoded data removed]"
          },
          "metadata": {
            "needs_background": "light"
          }
        }
      ]
    },
    {
      "cell_type": "markdown",
      "source": [
        "### in-processing Reductions approach"
      ],
      "metadata": {
        "id": "Z1JfOO7_UntO"
      }
    },
    {
      "cell_type": "markdown",
      "source": [
        "Introduced in [Agarwal, Beygelzimer, Dudik, Langford, Wallach “A Reductions Approach to Fair Classification”, ICML, 2018.](https://arxiv.org/pdf/1803.02453.pdf) (Dudik is the guy that first developed Fairlearn), it tries to solve a constrained optimization, i.e. solving the ML problem of minimizing error while keeping a specific fairness constraint. It is formulated as a minmax problem, and solved via exponentiated gradient"
      ],
      "metadata": {
        "id": "txglItiNpVJP"
      }
    },
    {
      "cell_type": "code",
      "source": [
        "from fairlearn.reductions import ExponentiatedGradient, EqualizedOdds, TruePositiveRateParity"
      ],
      "metadata": {
        "id": "3ioIbbBTUq76"
      },
      "execution_count": 47,
      "outputs": []
    },
    {
      "cell_type": "code",
      "source": [
        "expgrad_est = ExponentiatedGradient(\n",
        "    estimator=LogisticRegression(max_iter=1000, random_state=random_seed),\n",
        "    constraints=EqualizedOdds(difference_bound=0.02) #  several constraints are available\n",
        ")"
      ],
      "metadata": {
        "id": "pwUrLMzajhM5"
      },
      "execution_count": 52,
      "outputs": []
    },
    {
      "cell_type": "code",
      "source": [
        "# Fit the exponentiated gradient model\n",
        "expgrad_est.fit(X_train, Y_train, sensitive_features=A_train)"
      ],
      "metadata": {
        "colab": {
          "base_uri": "https://localhost:8080/"
        },
        "id": "vBrTnV75jrEt",
        "outputId": "f92c9e13-5c95-4fee-f245-c8c1d7cf1120"
      },
      "execution_count": 53,
      "outputs": [
        {
          "output_type": "stream",
          "name": "stderr",
          "text": [
            "/usr/local/lib/python3.7/dist-packages/fairlearn/reductions/_moments/utility_parity.py:251: FutureWarning: Using the level keyword in DataFrame and Series aggregations is deprecated and will be removed in a future version. Use groupby instead. df.sum(level=1) should use df.groupby(level=1).sum().\n",
            "  lambda_event = (lambda_vec[\"+\"] - self.ratio * lambda_vec[\"-\"]).sum(level=_EVENT) / \\\n",
            "/usr/local/lib/python3.7/dist-packages/fairlearn/reductions/_moments/utility_parity.py:251: FutureWarning: Using the level keyword in DataFrame and Series aggregations is deprecated and will be removed in a future version. Use groupby instead. df.sum(level=1) should use df.groupby(level=1).sum().\n",
            "  lambda_event = (lambda_vec[\"+\"] - self.ratio * lambda_vec[\"-\"]).sum(level=_EVENT) / \\\n",
            "/usr/local/lib/python3.7/dist-packages/fairlearn/reductions/_moments/utility_parity.py:251: FutureWarning: Using the level keyword in DataFrame and Series aggregations is deprecated and will be removed in a future version. Use groupby instead. df.sum(level=1) should use df.groupby(level=1).sum().\n",
            "  lambda_event = (lambda_vec[\"+\"] - self.ratio * lambda_vec[\"-\"]).sum(level=_EVENT) / \\\n",
            "/usr/local/lib/python3.7/dist-packages/fairlearn/reductions/_moments/utility_parity.py:251: FutureWarning: Using the level keyword in DataFrame and Series aggregations is deprecated and will be removed in a future version. Use groupby instead. df.sum(level=1) should use df.groupby(level=1).sum().\n",
            "  lambda_event = (lambda_vec[\"+\"] - self.ratio * lambda_vec[\"-\"]).sum(level=_EVENT) / \\\n",
            "/usr/local/lib/python3.7/dist-packages/fairlearn/reductions/_moments/utility_parity.py:251: FutureWarning: Using the level keyword in DataFrame and Series aggregations is deprecated and will be removed in a future version. Use groupby instead. df.sum(level=1) should use df.groupby(level=1).sum().\n",
            "  lambda_event = (lambda_vec[\"+\"] - self.ratio * lambda_vec[\"-\"]).sum(level=_EVENT) / \\\n",
            "/usr/local/lib/python3.7/dist-packages/fairlearn/reductions/_moments/utility_parity.py:251: FutureWarning: Using the level keyword in DataFrame and Series aggregations is deprecated and will be removed in a future version. Use groupby instead. df.sum(level=1) should use df.groupby(level=1).sum().\n",
            "  lambda_event = (lambda_vec[\"+\"] - self.ratio * lambda_vec[\"-\"]).sum(level=_EVENT) / \\\n",
            "/usr/local/lib/python3.7/dist-packages/fairlearn/reductions/_moments/utility_parity.py:251: FutureWarning: Using the level keyword in DataFrame and Series aggregations is deprecated and will be removed in a future version. Use groupby instead. df.sum(level=1) should use df.groupby(level=1).sum().\n",
            "  lambda_event = (lambda_vec[\"+\"] - self.ratio * lambda_vec[\"-\"]).sum(level=_EVENT) / \\\n",
            "/usr/local/lib/python3.7/dist-packages/fairlearn/reductions/_moments/utility_parity.py:251: FutureWarning: Using the level keyword in DataFrame and Series aggregations is deprecated and will be removed in a future version. Use groupby instead. df.sum(level=1) should use df.groupby(level=1).sum().\n",
            "  lambda_event = (lambda_vec[\"+\"] - self.ratio * lambda_vec[\"-\"]).sum(level=_EVENT) / \\\n",
            "/usr/local/lib/python3.7/dist-packages/fairlearn/reductions/_moments/utility_parity.py:251: FutureWarning: Using the level keyword in DataFrame and Series aggregations is deprecated and will be removed in a future version. Use groupby instead. df.sum(level=1) should use df.groupby(level=1).sum().\n",
            "  lambda_event = (lambda_vec[\"+\"] - self.ratio * lambda_vec[\"-\"]).sum(level=_EVENT) / \\\n",
            "/usr/local/lib/python3.7/dist-packages/fairlearn/reductions/_moments/utility_parity.py:251: FutureWarning: Using the level keyword in DataFrame and Series aggregations is deprecated and will be removed in a future version. Use groupby instead. df.sum(level=1) should use df.groupby(level=1).sum().\n",
            "  lambda_event = (lambda_vec[\"+\"] - self.ratio * lambda_vec[\"-\"]).sum(level=_EVENT) / \\\n",
            "/usr/local/lib/python3.7/dist-packages/fairlearn/reductions/_moments/utility_parity.py:251: FutureWarning: Using the level keyword in DataFrame and Series aggregations is deprecated and will be removed in a future version. Use groupby instead. df.sum(level=1) should use df.groupby(level=1).sum().\n",
            "  lambda_event = (lambda_vec[\"+\"] - self.ratio * lambda_vec[\"-\"]).sum(level=_EVENT) / \\\n",
            "/usr/local/lib/python3.7/dist-packages/fairlearn/reductions/_moments/utility_parity.py:251: FutureWarning: Using the level keyword in DataFrame and Series aggregations is deprecated and will be removed in a future version. Use groupby instead. df.sum(level=1) should use df.groupby(level=1).sum().\n",
            "  lambda_event = (lambda_vec[\"+\"] - self.ratio * lambda_vec[\"-\"]).sum(level=_EVENT) / \\\n",
            "/usr/local/lib/python3.7/dist-packages/fairlearn/reductions/_moments/utility_parity.py:251: FutureWarning: Using the level keyword in DataFrame and Series aggregations is deprecated and will be removed in a future version. Use groupby instead. df.sum(level=1) should use df.groupby(level=1).sum().\n",
            "  lambda_event = (lambda_vec[\"+\"] - self.ratio * lambda_vec[\"-\"]).sum(level=_EVENT) / \\\n",
            "/usr/local/lib/python3.7/dist-packages/fairlearn/reductions/_moments/utility_parity.py:251: FutureWarning: Using the level keyword in DataFrame and Series aggregations is deprecated and will be removed in a future version. Use groupby instead. df.sum(level=1) should use df.groupby(level=1).sum().\n",
            "  lambda_event = (lambda_vec[\"+\"] - self.ratio * lambda_vec[\"-\"]).sum(level=_EVENT) / \\\n",
            "/usr/local/lib/python3.7/dist-packages/fairlearn/reductions/_moments/utility_parity.py:251: FutureWarning: Using the level keyword in DataFrame and Series aggregations is deprecated and will be removed in a future version. Use groupby instead. df.sum(level=1) should use df.groupby(level=1).sum().\n",
            "  lambda_event = (lambda_vec[\"+\"] - self.ratio * lambda_vec[\"-\"]).sum(level=_EVENT) / \\\n",
            "/usr/local/lib/python3.7/dist-packages/fairlearn/reductions/_moments/utility_parity.py:251: FutureWarning: Using the level keyword in DataFrame and Series aggregations is deprecated and will be removed in a future version. Use groupby instead. df.sum(level=1) should use df.groupby(level=1).sum().\n",
            "  lambda_event = (lambda_vec[\"+\"] - self.ratio * lambda_vec[\"-\"]).sum(level=_EVENT) / \\\n",
            "/usr/local/lib/python3.7/dist-packages/fairlearn/reductions/_moments/utility_parity.py:251: FutureWarning: Using the level keyword in DataFrame and Series aggregations is deprecated and will be removed in a future version. Use groupby instead. df.sum(level=1) should use df.groupby(level=1).sum().\n",
            "  lambda_event = (lambda_vec[\"+\"] - self.ratio * lambda_vec[\"-\"]).sum(level=_EVENT) / \\\n",
            "/usr/local/lib/python3.7/dist-packages/fairlearn/reductions/_moments/utility_parity.py:251: FutureWarning: Using the level keyword in DataFrame and Series aggregations is deprecated and will be removed in a future version. Use groupby instead. df.sum(level=1) should use df.groupby(level=1).sum().\n",
            "  lambda_event = (lambda_vec[\"+\"] - self.ratio * lambda_vec[\"-\"]).sum(level=_EVENT) / \\\n",
            "/usr/local/lib/python3.7/dist-packages/fairlearn/reductions/_moments/utility_parity.py:251: FutureWarning: Using the level keyword in DataFrame and Series aggregations is deprecated and will be removed in a future version. Use groupby instead. df.sum(level=1) should use df.groupby(level=1).sum().\n",
            "  lambda_event = (lambda_vec[\"+\"] - self.ratio * lambda_vec[\"-\"]).sum(level=_EVENT) / \\\n",
            "/usr/local/lib/python3.7/dist-packages/sklearn/linear_model/_logistic.py:818: ConvergenceWarning: lbfgs failed to converge (status=1):\n",
            "STOP: TOTAL NO. of ITERATIONS REACHED LIMIT.\n",
            "\n",
            "Increase the number of iterations (max_iter) or scale the data as shown in:\n",
            "    https://scikit-learn.org/stable/modules/preprocessing.html\n",
            "Please also refer to the documentation for alternative solver options:\n",
            "    https://scikit-learn.org/stable/modules/linear_model.html#logistic-regression\n",
            "  extra_warning_msg=_LOGISTIC_SOLVER_CONVERGENCE_MSG,\n",
            "/usr/local/lib/python3.7/dist-packages/fairlearn/reductions/_moments/utility_parity.py:251: FutureWarning: Using the level keyword in DataFrame and Series aggregations is deprecated and will be removed in a future version. Use groupby instead. df.sum(level=1) should use df.groupby(level=1).sum().\n",
            "  lambda_event = (lambda_vec[\"+\"] - self.ratio * lambda_vec[\"-\"]).sum(level=_EVENT) / \\\n"
          ]
        },
        {
          "output_type": "execute_result",
          "data": {
            "text/plain": [
              "ExponentiatedGradient(constraints=<fairlearn.reductions._moments.utility_parity.EqualizedOdds object at 0x7f7937fae950>,\n",
              "                      estimator=LogisticRegression(max_iter=1000,\n",
              "                                                   random_state=42),\n",
              "                      nu=0.009639909528176229)"
            ]
          },
          "metadata": {},
          "execution_count": 53
        }
      ]
    },
    {
      "cell_type": "code",
      "source": [
        "y_pred_reductions = expgrad_est.predict(X_test, random_state=random_seed)\n",
        "metricframe_reductions = MetricFrame(\n",
        "    metrics=metrics_dict,\n",
        "    y_true=Y_test,\n",
        "    y_pred=y_pred_reductions,\n",
        "    sensitive_features=A_test\n",
        ")\n",
        "metricframe_reductions.by_group"
      ],
      "metadata": {
        "colab": {
          "base_uri": "https://localhost:8080/",
          "height": 219
        },
        "id": "CUpCyehwjt9h",
        "outputId": "fdd8599d-8c5a-41b7-c13b-26c0b7176547"
      },
      "execution_count": 54,
      "outputs": [
        {
          "output_type": "execute_result",
          "data": {
            "text/plain": [
              "          base_rate selection_rate positive_prediction_rate  \\\n",
              "age_group                                                     \n",
              "0.0        0.638418        0.79096                  0.79096   \n",
              "1.0        0.746094        0.84375                  0.84375   \n",
              "2.0        0.686567       0.761194                 0.761194   \n",
              "\n",
              "          false_negative_rate false_positive_rate balanced_accuracy    recall  \\\n",
              "age_group                                                                       \n",
              "0.0                  0.088496            0.578125           0.66669  0.911504   \n",
              "1.0                   0.08377            0.630769          0.642731   0.91623   \n",
              "2.0                  0.108696             0.47619          0.707557  0.891304   \n",
              "\n",
              "          precision        f1  \n",
              "age_group                      \n",
              "0.0        0.735714  0.814229  \n",
              "1.0        0.810185  0.859951  \n",
              "2.0        0.803922  0.845361  "
            ],
            "text/html": [
              "\n",
              "  <div id=\"df-d4da93b8-f7c7-4c3e-97ce-d9bde2a67f51\">\n",
              "    <div class=\"colab-df-container\">\n",
              "      <div>\n",
              "<style scoped>\n",
              "    .dataframe tbody tr th:only-of-type {\n",
              "        vertical-align: middle;\n",
              "    }\n",
              "\n",
              "    .dataframe tbody tr th {\n",
              "        vertical-align: top;\n",
              "    }\n",
              "\n",
              "    .dataframe thead th {\n",
              "        text-align: right;\n",
              "    }\n",
              "</style>\n",
              "<table border=\"1\" class=\"dataframe\">\n",
              "  <thead>\n",
              "    <tr style=\"text-align: right;\">\n",
              "      <th></th>\n",
              "      <th>base_rate</th>\n",
              "      <th>selection_rate</th>\n",
              "      <th>positive_prediction_rate</th>\n",
              "      <th>false_negative_rate</th>\n",
              "      <th>false_positive_rate</th>\n",
              "      <th>balanced_accuracy</th>\n",
              "      <th>recall</th>\n",
              "      <th>precision</th>\n",
              "      <th>f1</th>\n",
              "    </tr>\n",
              "    <tr>\n",
              "      <th>age_group</th>\n",
              "      <th></th>\n",
              "      <th></th>\n",
              "      <th></th>\n",
              "      <th></th>\n",
              "      <th></th>\n",
              "      <th></th>\n",
              "      <th></th>\n",
              "      <th></th>\n",
              "      <th></th>\n",
              "    </tr>\n",
              "  </thead>\n",
              "  <tbody>\n",
              "    <tr>\n",
              "      <th>0.0</th>\n",
              "      <td>0.638418</td>\n",
              "      <td>0.79096</td>\n",
              "      <td>0.79096</td>\n",
              "      <td>0.088496</td>\n",
              "      <td>0.578125</td>\n",
              "      <td>0.66669</td>\n",
              "      <td>0.911504</td>\n",
              "      <td>0.735714</td>\n",
              "      <td>0.814229</td>\n",
              "    </tr>\n",
              "    <tr>\n",
              "      <th>1.0</th>\n",
              "      <td>0.746094</td>\n",
              "      <td>0.84375</td>\n",
              "      <td>0.84375</td>\n",
              "      <td>0.08377</td>\n",
              "      <td>0.630769</td>\n",
              "      <td>0.642731</td>\n",
              "      <td>0.91623</td>\n",
              "      <td>0.810185</td>\n",
              "      <td>0.859951</td>\n",
              "    </tr>\n",
              "    <tr>\n",
              "      <th>2.0</th>\n",
              "      <td>0.686567</td>\n",
              "      <td>0.761194</td>\n",
              "      <td>0.761194</td>\n",
              "      <td>0.108696</td>\n",
              "      <td>0.47619</td>\n",
              "      <td>0.707557</td>\n",
              "      <td>0.891304</td>\n",
              "      <td>0.803922</td>\n",
              "      <td>0.845361</td>\n",
              "    </tr>\n",
              "  </tbody>\n",
              "</table>\n",
              "</div>\n",
              "      <button class=\"colab-df-convert\" onclick=\"convertToInteractive('df-d4da93b8-f7c7-4c3e-97ce-d9bde2a67f51')\"\n",
              "              title=\"Convert this dataframe to an interactive table.\"\n",
              "              style=\"display:none;\">\n",
              "        \n",
              "  <svg xmlns=\"http://www.w3.org/2000/svg\" height=\"24px\"viewBox=\"0 0 24 24\"\n",
              "       width=\"24px\">\n",
              "    <path d=\"M0 0h24v24H0V0z\" fill=\"none\"/>\n",
              "    <path d=\"M18.56 5.44l.94 2.06.94-2.06 2.06-.94-2.06-.94-.94-2.06-.94 2.06-2.06.94zm-11 1L8.5 8.5l.94-2.06 2.06-.94-2.06-.94L8.5 2.5l-.94 2.06-2.06.94zm10 10l.94 2.06.94-2.06 2.06-.94-2.06-.94-.94-2.06-.94 2.06-2.06.94z\"/><path d=\"M17.41 7.96l-1.37-1.37c-.4-.4-.92-.59-1.43-.59-.52 0-1.04.2-1.43.59L10.3 9.45l-7.72 7.72c-.78.78-.78 2.05 0 2.83L4 21.41c.39.39.9.59 1.41.59.51 0 1.02-.2 1.41-.59l7.78-7.78 2.81-2.81c.8-.78.8-2.07 0-2.86zM5.41 20L4 18.59l7.72-7.72 1.47 1.35L5.41 20z\"/>\n",
              "  </svg>\n",
              "      </button>\n",
              "      \n",
              "  <style>\n",
              "    .colab-df-container {\n",
              "      display:flex;\n",
              "      flex-wrap:wrap;\n",
              "      gap: 12px;\n",
              "    }\n",
              "\n",
              "    .colab-df-convert {\n",
              "      background-color: #E8F0FE;\n",
              "      border: none;\n",
              "      border-radius: 50%;\n",
              "      cursor: pointer;\n",
              "      display: none;\n",
              "      fill: #1967D2;\n",
              "      height: 32px;\n",
              "      padding: 0 0 0 0;\n",
              "      width: 32px;\n",
              "    }\n",
              "\n",
              "    .colab-df-convert:hover {\n",
              "      background-color: #E2EBFA;\n",
              "      box-shadow: 0px 1px 2px rgba(60, 64, 67, 0.3), 0px 1px 3px 1px rgba(60, 64, 67, 0.15);\n",
              "      fill: #174EA6;\n",
              "    }\n",
              "\n",
              "    [theme=dark] .colab-df-convert {\n",
              "      background-color: #3B4455;\n",
              "      fill: #D2E3FC;\n",
              "    }\n",
              "\n",
              "    [theme=dark] .colab-df-convert:hover {\n",
              "      background-color: #434B5C;\n",
              "      box-shadow: 0px 1px 3px 1px rgba(0, 0, 0, 0.15);\n",
              "      filter: drop-shadow(0px 1px 2px rgba(0, 0, 0, 0.3));\n",
              "      fill: #FFFFFF;\n",
              "    }\n",
              "  </style>\n",
              "\n",
              "      <script>\n",
              "        const buttonEl =\n",
              "          document.querySelector('#df-d4da93b8-f7c7-4c3e-97ce-d9bde2a67f51 button.colab-df-convert');\n",
              "        buttonEl.style.display =\n",
              "          google.colab.kernel.accessAllowed ? 'block' : 'none';\n",
              "\n",
              "        async function convertToInteractive(key) {\n",
              "          const element = document.querySelector('#df-d4da93b8-f7c7-4c3e-97ce-d9bde2a67f51');\n",
              "          const dataTable =\n",
              "            await google.colab.kernel.invokeFunction('convertToInteractive',\n",
              "                                                     [key], {});\n",
              "          if (!dataTable) return;\n",
              "\n",
              "          const docLinkHtml = 'Like what you see? Visit the ' +\n",
              "            '<a target=\"_blank\" href=https://colab.research.google.com/notebooks/data_table.ipynb>data table notebook</a>'\n",
              "            + ' to learn more about interactive tables.';\n",
              "          element.innerHTML = '';\n",
              "          dataTable['output_type'] = 'display_data';\n",
              "          await google.colab.output.renderOutput(dataTable, element);\n",
              "          const docLink = document.createElement('div');\n",
              "          docLink.innerHTML = docLinkHtml;\n",
              "          element.appendChild(docLink);\n",
              "        }\n",
              "      </script>\n",
              "    </div>\n",
              "  </div>\n",
              "  "
            ]
          },
          "metadata": {},
          "execution_count": 54
        }
      ]
    },
    {
      "cell_type": "code",
      "source": [
        "df_metrics = pd.concat([metricframe_unmitigated.ratio(),\n",
        "                        metricframe_reductions.ratio()],\n",
        "                       keys=['Unmitigated', 'Reductions'],\n",
        "                       axis=1)"
      ],
      "metadata": {
        "id": "yVPNYWQ5kRfF"
      },
      "execution_count": 55,
      "outputs": []
    },
    {
      "cell_type": "code",
      "source": [
        "df_metrics.plot.bar(figsize=(14, 8))"
      ],
      "metadata": {
        "colab": {
          "base_uri": "https://localhost:8080/",
          "height": 610
        },
        "id": "u-OxWddEkc3d",
        "outputId": "2c3c705d-e941-4eda-f6a1-19684611bbc5"
      },
      "execution_count": 56,
      "outputs": [
        {
          "output_type": "execute_result",
          "data": {
            "text/plain": [
              "<matplotlib.axes._subplots.AxesSubplot at 0x7f7937f014d0>"
            ]
          },
          "metadata": {},
          "execution_count": 56
        },
        {
          "output_type": "display_data",
          "data": {
            "text/plain": [
              "<Figure size 1008x576 with 1 Axes>"
            ],
            "image/png": "[encoded data removed]"
          },
          "metadata": {
            "needs_background": "light"
          }
        }
      ]
    },
    {
      "cell_type": "code",
      "source": [
        "df_metrics_ratio = pd.concat([metricframe_unmitigated.ratio(),\n",
        "                        metricframe_postprocess.ratio(),\n",
        "                        metricframe_reductions.ratio()],\n",
        "                       keys=['Unmitigated', 'Postprocess', 'Reductions'],\n",
        "                       axis=1)"
      ],
      "metadata": {
        "id": "Rozke3Q-k7va"
      },
      "execution_count": 65,
      "outputs": []
    },
    {
      "cell_type": "code",
      "source": [
        "df_metrics_ratio.plot.bar(figsize=(14, 8))"
      ],
      "metadata": {
        "colab": {
          "base_uri": "https://localhost:8080/",
          "height": 610
        },
        "id": "5DzTfX_7lIY5",
        "outputId": "197d0e9d-815a-4bfd-90aa-03df9933a247"
      },
      "execution_count": 66,
      "outputs": [
        {
          "output_type": "execute_result",
          "data": {
            "text/plain": [
              "<matplotlib.axes._subplots.AxesSubplot at 0x7f7937bc5710>"
            ]
          },
          "metadata": {},
          "execution_count": 66
        },
        {
          "output_type": "display_data",
          "data": {
            "text/plain": [
              "<Figure size 1008x576 with 1 Axes>"
            ],
            "image/png": "[encoded data removed]"
          },
          "metadata": {
            "needs_background": "light"
          }
        }
      ]
    },
    {
      "cell_type": "code",
      "source": [
        ""
      ],
      "metadata": {
        "id": "g1dJOZF_lL4v"
      },
      "execution_count": null,
      "outputs": []
    }
  ]
}