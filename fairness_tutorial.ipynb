{
  "nbformat": 4,
  "nbformat_minor": 0,
  "metadata": {
    "colab": {
      "name": "fairness_tutorial.ipynb",
      "provenance": [],
      "collapsed_sections": []
    },
    "kernelspec": {
      "name": "python3",
      "display_name": "Python 3"
    },
    "language_info": {
      "name": "python"
    }
  },
  "cells": [
    {
      "cell_type": "markdown",
      "source": [
        "# Methodologies to Asses Fariness and Mitigate Bias"
      ],
      "metadata": {
        "id": "pH7nOIraEFNP"
      }
    },
    {
      "cell_type": "markdown",
      "source": [
        "### packages import"
      ],
      "metadata": {
        "id": "MGvuELwtENbT"
      }
    },
    {
      "cell_type": "code",
      "source": [
        "import pandas as pd\n",
        "import numpy as np\n",
        "# plotting\n",
        "import matplotlib.pyplot as plt\n",
        "import seaborn as sns\n",
        "# sklearn model (logistic), utils and metrics\n",
        "from sklearn.linear_model import LogisticRegression\n",
        "from sklearn.model_selection import train_test_split\n",
        "from sklearn.preprocessing import StandardScaler\n",
        "from sklearn.pipeline import Pipeline\n",
        "from sklearn.metrics import (\n",
        "    balanced_accuracy_score,\n",
        "    roc_auc_score,\n",
        "    accuracy_score,\n",
        "    recall_score,\n",
        "    precision_score,\n",
        "    f1_score,\n",
        "    confusion_matrix,\n",
        "    roc_auc_score,\n",
        "    roc_curve,\n",
        "    plot_roc_curve)"
      ],
      "metadata": {
        "id": "LAf1lNfpuWTX"
      },
      "execution_count": 3,
      "outputs": []
    },
    {
      "cell_type": "markdown",
      "source": [
        "### downlaod German credit dataset from UCI (University of California at Irvine) https://archive.ics.uci.edu/"
      ],
      "metadata": {
        "id": "u6LjoL-uC50M"
      }
    },
    {
      "cell_type": "code",
      "execution_count": 5,
      "metadata": {
        "colab": {
          "base_uri": "https://localhost:8080/",
          "height": 353
        },
        "id": "8cMbePA8VqHp",
        "outputId": "c14e7ee4-514e-48ce-82a1-9ad06f959758"
      },
      "outputs": [
        {
          "output_type": "stream",
          "name": "stderr",
          "text": [
            "/usr/local/lib/python3.7/dist-packages/pandas/util/_decorators.py:311: ParserWarning: Falling back to the 'python' engine because the 'c' engine does not support regex separators (separators > 1 char and different from '\\s+' are interpreted as regex); you can avoid this warning by specifying engine='python'.\n",
            "  return func(*args, **kwargs)\n"
          ]
        },
        {
          "output_type": "stream",
          "name": "stdout",
          "text": [
            "German credit dataset. Number of observations: 1000; number of columns: 21.\n"
          ]
        },
        {
          "output_type": "execute_result",
          "data": {
            "text/plain": [
              "  existingchecking  duration credithistory purpose  creditamount savings  \\\n",
              "0              A11         6           A34     A43          1169     A65   \n",
              "1              A12        48           A32     A43          5951     A61   \n",
              "2              A14        12           A34     A46          2096     A61   \n",
              "3              A11        42           A32     A42          7882     A61   \n",
              "4              A11        24           A33     A40          4870     A61   \n",
              "\n",
              "  employmentsince  installmentrate statussex otherdebtors  ...  property age  \\\n",
              "0             A75                4       A93         A101  ...      A121  67   \n",
              "1             A73                2       A92         A101  ...      A121  22   \n",
              "2             A74                2       A93         A101  ...      A121  49   \n",
              "3             A74                2       A93         A103  ...      A122  45   \n",
              "4             A73                3       A93         A101  ...      A124  53   \n",
              "\n",
              "   otherinstallmentplans housing existingcredits   job peopleliable  \\\n",
              "0                   A143    A152               2  A173            1   \n",
              "1                   A143    A152               1  A173            1   \n",
              "2                   A143    A152               1  A172            2   \n",
              "3                   A143    A153               1  A173            2   \n",
              "4                   A143    A153               2  A173            2   \n",
              "\n",
              "   telephone foreignworker classification  \n",
              "0       A192          A201              1  \n",
              "1       A191          A201              2  \n",
              "2       A191          A201              1  \n",
              "3       A191          A201              1  \n",
              "4       A191          A201              2  \n",
              "\n",
              "[5 rows x 21 columns]"
            ],
            "text/html": [
              "\n",
              "  <div id=\"df-c3c4d3e1-ec86-4fda-ac3d-dd1c2efe5ffe\">\n",
              "    <div class=\"colab-df-container\">\n",
              "      <div>\n",
              "<style scoped>\n",
              "    .dataframe tbody tr th:only-of-type {\n",
              "        vertical-align: middle;\n",
              "    }\n",
              "\n",
              "    .dataframe tbody tr th {\n",
              "        vertical-align: top;\n",
              "    }\n",
              "\n",
              "    .dataframe thead th {\n",
              "        text-align: right;\n",
              "    }\n",
              "</style>\n",
              "<table border=\"1\" class=\"dataframe\">\n",
              "  <thead>\n",
              "    <tr style=\"text-align: right;\">\n",
              "      <th></th>\n",
              "      <th>existingchecking</th>\n",
              "      <th>duration</th>\n",
              "      <th>credithistory</th>\n",
              "      <th>purpose</th>\n",
              "      <th>creditamount</th>\n",
              "      <th>savings</th>\n",
              "      <th>employmentsince</th>\n",
              "      <th>installmentrate</th>\n",
              "      <th>statussex</th>\n",
              "      <th>otherdebtors</th>\n",
              "      <th>...</th>\n",
              "      <th>property</th>\n",
              "      <th>age</th>\n",
              "      <th>otherinstallmentplans</th>\n",
              "      <th>housing</th>\n",
              "      <th>existingcredits</th>\n",
              "      <th>job</th>\n",
              "      <th>peopleliable</th>\n",
              "      <th>telephone</th>\n",
              "      <th>foreignworker</th>\n",
              "      <th>classification</th>\n",
              "    </tr>\n",
              "  </thead>\n",
              "  <tbody>\n",
              "    <tr>\n",
              "      <th>0</th>\n",
              "      <td>A11</td>\n",
              "      <td>6</td>\n",
              "      <td>A34</td>\n",
              "      <td>A43</td>\n",
              "      <td>1169</td>\n",
              "      <td>A65</td>\n",
              "      <td>A75</td>\n",
              "      <td>4</td>\n",
              "      <td>A93</td>\n",
              "      <td>A101</td>\n",
              "      <td>...</td>\n",
              "      <td>A121</td>\n",
              "      <td>67</td>\n",
              "      <td>A143</td>\n",
              "      <td>A152</td>\n",
              "      <td>2</td>\n",
              "      <td>A173</td>\n",
              "      <td>1</td>\n",
              "      <td>A192</td>\n",
              "      <td>A201</td>\n",
              "      <td>1</td>\n",
              "    </tr>\n",
              "    <tr>\n",
              "      <th>1</th>\n",
              "      <td>A12</td>\n",
              "      <td>48</td>\n",
              "      <td>A32</td>\n",
              "      <td>A43</td>\n",
              "      <td>5951</td>\n",
              "      <td>A61</td>\n",
              "      <td>A73</td>\n",
              "      <td>2</td>\n",
              "      <td>A92</td>\n",
              "      <td>A101</td>\n",
              "      <td>...</td>\n",
              "      <td>A121</td>\n",
              "      <td>22</td>\n",
              "      <td>A143</td>\n",
              "      <td>A152</td>\n",
              "      <td>1</td>\n",
              "      <td>A173</td>\n",
              "      <td>1</td>\n",
              "      <td>A191</td>\n",
              "      <td>A201</td>\n",
              "      <td>2</td>\n",
              "    </tr>\n",
              "    <tr>\n",
              "      <th>2</th>\n",
              "      <td>A14</td>\n",
              "      <td>12</td>\n",
              "      <td>A34</td>\n",
              "      <td>A46</td>\n",
              "      <td>2096</td>\n",
              "      <td>A61</td>\n",
              "      <td>A74</td>\n",
              "      <td>2</td>\n",
              "      <td>A93</td>\n",
              "      <td>A101</td>\n",
              "      <td>...</td>\n",
              "      <td>A121</td>\n",
              "      <td>49</td>\n",
              "      <td>A143</td>\n",
              "      <td>A152</td>\n",
              "      <td>1</td>\n",
              "      <td>A172</td>\n",
              "      <td>2</td>\n",
              "      <td>A191</td>\n",
              "      <td>A201</td>\n",
              "      <td>1</td>\n",
              "    </tr>\n",
              "    <tr>\n",
              "      <th>3</th>\n",
              "      <td>A11</td>\n",
              "      <td>42</td>\n",
              "      <td>A32</td>\n",
              "      <td>A42</td>\n",
              "      <td>7882</td>\n",
              "      <td>A61</td>\n",
              "      <td>A74</td>\n",
              "      <td>2</td>\n",
              "      <td>A93</td>\n",
              "      <td>A103</td>\n",
              "      <td>...</td>\n",
              "      <td>A122</td>\n",
              "      <td>45</td>\n",
              "      <td>A143</td>\n",
              "      <td>A153</td>\n",
              "      <td>1</td>\n",
              "      <td>A173</td>\n",
              "      <td>2</td>\n",
              "      <td>A191</td>\n",
              "      <td>A201</td>\n",
              "      <td>1</td>\n",
              "    </tr>\n",
              "    <tr>\n",
              "      <th>4</th>\n",
              "      <td>A11</td>\n",
              "      <td>24</td>\n",
              "      <td>A33</td>\n",
              "      <td>A40</td>\n",
              "      <td>4870</td>\n",
              "      <td>A61</td>\n",
              "      <td>A73</td>\n",
              "      <td>3</td>\n",
              "      <td>A93</td>\n",
              "      <td>A101</td>\n",
              "      <td>...</td>\n",
              "      <td>A124</td>\n",
              "      <td>53</td>\n",
              "      <td>A143</td>\n",
              "      <td>A153</td>\n",
              "      <td>2</td>\n",
              "      <td>A173</td>\n",
              "      <td>2</td>\n",
              "      <td>A191</td>\n",
              "      <td>A201</td>\n",
              "      <td>2</td>\n",
              "    </tr>\n",
              "  </tbody>\n",
              "</table>\n",
              "<p>5 rows × 21 columns</p>\n",
              "</div>\n",
              "      <button class=\"colab-df-convert\" onclick=\"convertToInteractive('df-c3c4d3e1-ec86-4fda-ac3d-dd1c2efe5ffe')\"\n",
              "              title=\"Convert this dataframe to an interactive table.\"\n",
              "              style=\"display:none;\">\n",
              "        \n",
              "  <svg xmlns=\"http://www.w3.org/2000/svg\" height=\"24px\"viewBox=\"0 0 24 24\"\n",
              "       width=\"24px\">\n",
              "    <path d=\"M0 0h24v24H0V0z\" fill=\"none\"/>\n",
              "    <path d=\"M18.56 5.44l.94 2.06.94-2.06 2.06-.94-2.06-.94-.94-2.06-.94 2.06-2.06.94zm-11 1L8.5 8.5l.94-2.06 2.06-.94-2.06-.94L8.5 2.5l-.94 2.06-2.06.94zm10 10l.94 2.06.94-2.06 2.06-.94-2.06-.94-.94-2.06-.94 2.06-2.06.94z\"/><path d=\"M17.41 7.96l-1.37-1.37c-.4-.4-.92-.59-1.43-.59-.52 0-1.04.2-1.43.59L10.3 9.45l-7.72 7.72c-.78.78-.78 2.05 0 2.83L4 21.41c.39.39.9.59 1.41.59.51 0 1.02-.2 1.41-.59l7.78-7.78 2.81-2.81c.8-.78.8-2.07 0-2.86zM5.41 20L4 18.59l7.72-7.72 1.47 1.35L5.41 20z\"/>\n",
              "  </svg>\n",
              "      </button>\n",
              "      \n",
              "  <style>\n",
              "    .colab-df-container {\n",
              "      display:flex;\n",
              "      flex-wrap:wrap;\n",
              "      gap: 12px;\n",
              "    }\n",
              "\n",
              "    .colab-df-convert {\n",
              "      background-color: #E8F0FE;\n",
              "      border: none;\n",
              "      border-radius: 50%;\n",
              "      cursor: pointer;\n",
              "      display: none;\n",
              "      fill: #1967D2;\n",
              "      height: 32px;\n",
              "      padding: 0 0 0 0;\n",
              "      width: 32px;\n",
              "    }\n",
              "\n",
              "    .colab-df-convert:hover {\n",
              "      background-color: #E2EBFA;\n",
              "      box-shadow: 0px 1px 2px rgba(60, 64, 67, 0.3), 0px 1px 3px 1px rgba(60, 64, 67, 0.15);\n",
              "      fill: #174EA6;\n",
              "    }\n",
              "\n",
              "    [theme=dark] .colab-df-convert {\n",
              "      background-color: #3B4455;\n",
              "      fill: #D2E3FC;\n",
              "    }\n",
              "\n",
              "    [theme=dark] .colab-df-convert:hover {\n",
              "      background-color: #434B5C;\n",
              "      box-shadow: 0px 1px 3px 1px rgba(0, 0, 0, 0.15);\n",
              "      filter: drop-shadow(0px 1px 2px rgba(0, 0, 0, 0.3));\n",
              "      fill: #FFFFFF;\n",
              "    }\n",
              "  </style>\n",
              "\n",
              "      <script>\n",
              "        const buttonEl =\n",
              "          document.querySelector('#df-c3c4d3e1-ec86-4fda-ac3d-dd1c2efe5ffe button.colab-df-convert');\n",
              "        buttonEl.style.display =\n",
              "          google.colab.kernel.accessAllowed ? 'block' : 'none';\n",
              "\n",
              "        async function convertToInteractive(key) {\n",
              "          const element = document.querySelector('#df-c3c4d3e1-ec86-4fda-ac3d-dd1c2efe5ffe');\n",
              "          const dataTable =\n",
              "            await google.colab.kernel.invokeFunction('convertToInteractive',\n",
              "                                                     [key], {});\n",
              "          if (!dataTable) return;\n",
              "\n",
              "          const docLinkHtml = 'Like what you see? Visit the ' +\n",
              "            '<a target=\"_blank\" href=https://colab.research.google.com/notebooks/data_table.ipynb>data table notebook</a>'\n",
              "            + ' to learn more about interactive tables.';\n",
              "          element.innerHTML = '';\n",
              "          dataTable['output_type'] = 'display_data';\n",
              "          await google.colab.output.renderOutput(dataTable, element);\n",
              "          const docLink = document.createElement('div');\n",
              "          docLink.innerHTML = docLinkHtml;\n",
              "          element.appendChild(docLink);\n",
              "        }\n",
              "      </script>\n",
              "    </div>\n",
              "  </div>\n",
              "  "
            ]
          },
          "metadata": {},
          "execution_count": 5
        }
      ],
      "source": [
        "filepath = r'https://archive.ics.uci.edu/ml/machine-learning-databases/statlog/german/german.data'\n",
        "# data file is a space separated table, and has no column names, \n",
        "# so we need to attach them \"by hand\" looking at metadata\n",
        "df = pd.read_csv(filepath, sep='\\s', header=None)\n",
        "df.columns = ['existingchecking', 'duration', 'credithistory', 'purpose', \n",
        "              'creditamount', 'savings', 'employmentsince', 'installmentrate', \n",
        "              'statussex', 'otherdebtors', 'residencesince', 'property', 'age',\n",
        "              'otherinstallmentplans', 'housing', 'existingcredits', 'job', \n",
        "              'peopleliable', 'telephone' , 'foreignworker', \n",
        "              'classification']\n",
        "\n",
        "print(f\"German credit dataset. Number of observations: {df.shape[0]}; number of columns: {df.shape[1]}.\")\n",
        "df.head()"
      ]
    },
    {
      "cell_type": "markdown",
      "source": [
        "prepare dataset for the classification task"
      ],
      "metadata": {
        "id": "OB1r0z0PzAkV"
      }
    },
    {
      "cell_type": "code",
      "source": [
        "#create quickaccess list with categorical variables labels\n",
        "catvars = ['existingchecking', 'credithistory', 'purpose', 'savings', 'employmentsince',\n",
        "            'statussex', 'otherdebtors', 'property', 'otherinstallmentplans', 'housing', 'job',\n",
        "            'telephone', 'foreignworker']\n",
        "#create quickaccess list with numerical variables labels\n",
        "numvars = ['creditamount', 'duration', 'installmentrate', 'residencesince', 'age',\n",
        "            'existingcredits', 'peopleliable', 'classification']\n",
        "\n",
        "# Binarize the target 0 = 'bad' credit; 1 = 'good' credit\n",
        "df.classification.replace([1,2], [1,0], inplace=True)\n",
        "\n",
        "\n",
        "#  dic categories Index(['A11', 'A12', 'A13', 'A14'], dtype='object')\n",
        "dict_categorical = {}\n",
        "for c in catvars:\n",
        "    dict_categorical[c] = list(df[c].astype(\"category\").cat.categories)\n",
        "    df[c] = df[c].astype(\"category\").cat.codes\n",
        "\n",
        "#  create gender variable deriving it from the statussex one\n",
        "# -> 1= female 0 = male\n",
        "df.loc[df[\"statussex\"] == 0, \"gender\"] = 0\n",
        "df.loc[df[\"statussex\"] == 1, \"gender\"] = 1\n",
        "df.loc[df[\"statussex\"] == 2, \"gender\"] = 0\n",
        "df.loc[df[\"statussex\"] == 3, \"gender\"] = 0\n",
        "df.loc[df[\"statussex\"] == 4, \"gender\"] = 1\n",
        "\n",
        "# for simplicity, I transform all features into floats, also categorical. \n",
        "# DON'T DO THIS AT HOME!!\n",
        "df = df.astype(\"float64\")\n",
        "df[\"classification\"] = df[\"classification\"].astype(\"int32\")\n",
        "\n",
        "# show a snippet of data\n",
        "df.head()"
      ],
      "metadata": {
        "colab": {
          "base_uri": "https://localhost:8080/",
          "height": 300
        },
        "id": "INwcULAVuVIh",
        "outputId": "a0f5e525-8fe9-4c82-9681-01b91b1390ed"
      },
      "execution_count": 6,
      "outputs": [
        {
          "output_type": "execute_result",
          "data": {
            "text/plain": [
              "   existingchecking  duration  credithistory  purpose  creditamount  savings  \\\n",
              "0               0.0       6.0            4.0      4.0        1169.0      4.0   \n",
              "1               1.0      48.0            2.0      4.0        5951.0      0.0   \n",
              "2               3.0      12.0            4.0      7.0        2096.0      0.0   \n",
              "3               0.0      42.0            2.0      3.0        7882.0      0.0   \n",
              "4               0.0      24.0            3.0      0.0        4870.0      0.0   \n",
              "\n",
              "   employmentsince  installmentrate  statussex  otherdebtors  ...   age  \\\n",
              "0              4.0              4.0        2.0           0.0  ...  67.0   \n",
              "1              2.0              2.0        1.0           0.0  ...  22.0   \n",
              "2              3.0              2.0        2.0           0.0  ...  49.0   \n",
              "3              3.0              2.0        2.0           2.0  ...  45.0   \n",
              "4              2.0              3.0        2.0           0.0  ...  53.0   \n",
              "\n",
              "   otherinstallmentplans  housing  existingcredits  job  peopleliable  \\\n",
              "0                    2.0      1.0              2.0  2.0           1.0   \n",
              "1                    2.0      1.0              1.0  2.0           1.0   \n",
              "2                    2.0      1.0              1.0  1.0           2.0   \n",
              "3                    2.0      2.0              1.0  2.0           2.0   \n",
              "4                    2.0      2.0              2.0  2.0           2.0   \n",
              "\n",
              "   telephone  foreignworker  classification  gender  \n",
              "0        1.0            0.0               1     0.0  \n",
              "1        0.0            0.0               0     1.0  \n",
              "2        0.0            0.0               1     0.0  \n",
              "3        0.0            0.0               1     0.0  \n",
              "4        0.0            0.0               0     0.0  \n",
              "\n",
              "[5 rows x 22 columns]"
            ],
            "text/html": [
              "\n",
              "  <div id=\"df-cd234ff4-39b0-49b4-bbc9-cd0de5e35f4e\">\n",
              "    <div class=\"colab-df-container\">\n",
              "      <div>\n",
              "<style scoped>\n",
              "    .dataframe tbody tr th:only-of-type {\n",
              "        vertical-align: middle;\n",
              "    }\n",
              "\n",
              "    .dataframe tbody tr th {\n",
              "        vertical-align: top;\n",
              "    }\n",
              "\n",
              "    .dataframe thead th {\n",
              "        text-align: right;\n",
              "    }\n",
              "</style>\n",
              "<table border=\"1\" class=\"dataframe\">\n",
              "  <thead>\n",
              "    <tr style=\"text-align: right;\">\n",
              "      <th></th>\n",
              "      <th>existingchecking</th>\n",
              "      <th>duration</th>\n",
              "      <th>credithistory</th>\n",
              "      <th>purpose</th>\n",
              "      <th>creditamount</th>\n",
              "      <th>savings</th>\n",
              "      <th>employmentsince</th>\n",
              "      <th>installmentrate</th>\n",
              "      <th>statussex</th>\n",
              "      <th>otherdebtors</th>\n",
              "      <th>...</th>\n",
              "      <th>age</th>\n",
              "      <th>otherinstallmentplans</th>\n",
              "      <th>housing</th>\n",
              "      <th>existingcredits</th>\n",
              "      <th>job</th>\n",
              "      <th>peopleliable</th>\n",
              "      <th>telephone</th>\n",
              "      <th>foreignworker</th>\n",
              "      <th>classification</th>\n",
              "      <th>gender</th>\n",
              "    </tr>\n",
              "  </thead>\n",
              "  <tbody>\n",
              "    <tr>\n",
              "      <th>0</th>\n",
              "      <td>0.0</td>\n",
              "      <td>6.0</td>\n",
              "      <td>4.0</td>\n",
              "      <td>4.0</td>\n",
              "      <td>1169.0</td>\n",
              "      <td>4.0</td>\n",
              "      <td>4.0</td>\n",
              "      <td>4.0</td>\n",
              "      <td>2.0</td>\n",
              "      <td>0.0</td>\n",
              "      <td>...</td>\n",
              "      <td>67.0</td>\n",
              "      <td>2.0</td>\n",
              "      <td>1.0</td>\n",
              "      <td>2.0</td>\n",
              "      <td>2.0</td>\n",
              "      <td>1.0</td>\n",
              "      <td>1.0</td>\n",
              "      <td>0.0</td>\n",
              "      <td>1</td>\n",
              "      <td>0.0</td>\n",
              "    </tr>\n",
              "    <tr>\n",
              "      <th>1</th>\n",
              "      <td>1.0</td>\n",
              "      <td>48.0</td>\n",
              "      <td>2.0</td>\n",
              "      <td>4.0</td>\n",
              "      <td>5951.0</td>\n",
              "      <td>0.0</td>\n",
              "      <td>2.0</td>\n",
              "      <td>2.0</td>\n",
              "      <td>1.0</td>\n",
              "      <td>0.0</td>\n",
              "      <td>...</td>\n",
              "      <td>22.0</td>\n",
              "      <td>2.0</td>\n",
              "      <td>1.0</td>\n",
              "      <td>1.0</td>\n",
              "      <td>2.0</td>\n",
              "      <td>1.0</td>\n",
              "      <td>0.0</td>\n",
              "      <td>0.0</td>\n",
              "      <td>0</td>\n",
              "      <td>1.0</td>\n",
              "    </tr>\n",
              "    <tr>\n",
              "      <th>2</th>\n",
              "      <td>3.0</td>\n",
              "      <td>12.0</td>\n",
              "      <td>4.0</td>\n",
              "      <td>7.0</td>\n",
              "      <td>2096.0</td>\n",
              "      <td>0.0</td>\n",
              "      <td>3.0</td>\n",
              "      <td>2.0</td>\n",
              "      <td>2.0</td>\n",
              "      <td>0.0</td>\n",
              "      <td>...</td>\n",
              "      <td>49.0</td>\n",
              "      <td>2.0</td>\n",
              "      <td>1.0</td>\n",
              "      <td>1.0</td>\n",
              "      <td>1.0</td>\n",
              "      <td>2.0</td>\n",
              "      <td>0.0</td>\n",
              "      <td>0.0</td>\n",
              "      <td>1</td>\n",
              "      <td>0.0</td>\n",
              "    </tr>\n",
              "    <tr>\n",
              "      <th>3</th>\n",
              "      <td>0.0</td>\n",
              "      <td>42.0</td>\n",
              "      <td>2.0</td>\n",
              "      <td>3.0</td>\n",
              "      <td>7882.0</td>\n",
              "      <td>0.0</td>\n",
              "      <td>3.0</td>\n",
              "      <td>2.0</td>\n",
              "      <td>2.0</td>\n",
              "      <td>2.0</td>\n",
              "      <td>...</td>\n",
              "      <td>45.0</td>\n",
              "      <td>2.0</td>\n",
              "      <td>2.0</td>\n",
              "      <td>1.0</td>\n",
              "      <td>2.0</td>\n",
              "      <td>2.0</td>\n",
              "      <td>0.0</td>\n",
              "      <td>0.0</td>\n",
              "      <td>1</td>\n",
              "      <td>0.0</td>\n",
              "    </tr>\n",
              "    <tr>\n",
              "      <th>4</th>\n",
              "      <td>0.0</td>\n",
              "      <td>24.0</td>\n",
              "      <td>3.0</td>\n",
              "      <td>0.0</td>\n",
              "      <td>4870.0</td>\n",
              "      <td>0.0</td>\n",
              "      <td>2.0</td>\n",
              "      <td>3.0</td>\n",
              "      <td>2.0</td>\n",
              "      <td>0.0</td>\n",
              "      <td>...</td>\n",
              "      <td>53.0</td>\n",
              "      <td>2.0</td>\n",
              "      <td>2.0</td>\n",
              "      <td>2.0</td>\n",
              "      <td>2.0</td>\n",
              "      <td>2.0</td>\n",
              "      <td>0.0</td>\n",
              "      <td>0.0</td>\n",
              "      <td>0</td>\n",
              "      <td>0.0</td>\n",
              "    </tr>\n",
              "  </tbody>\n",
              "</table>\n",
              "<p>5 rows × 22 columns</p>\n",
              "</div>\n",
              "      <button class=\"colab-df-convert\" onclick=\"convertToInteractive('df-cd234ff4-39b0-49b4-bbc9-cd0de5e35f4e')\"\n",
              "              title=\"Convert this dataframe to an interactive table.\"\n",
              "              style=\"display:none;\">\n",
              "        \n",
              "  <svg xmlns=\"http://www.w3.org/2000/svg\" height=\"24px\"viewBox=\"0 0 24 24\"\n",
              "       width=\"24px\">\n",
              "    <path d=\"M0 0h24v24H0V0z\" fill=\"none\"/>\n",
              "    <path d=\"M18.56 5.44l.94 2.06.94-2.06 2.06-.94-2.06-.94-.94-2.06-.94 2.06-2.06.94zm-11 1L8.5 8.5l.94-2.06 2.06-.94-2.06-.94L8.5 2.5l-.94 2.06-2.06.94zm10 10l.94 2.06.94-2.06 2.06-.94-2.06-.94-.94-2.06-.94 2.06-2.06.94z\"/><path d=\"M17.41 7.96l-1.37-1.37c-.4-.4-.92-.59-1.43-.59-.52 0-1.04.2-1.43.59L10.3 9.45l-7.72 7.72c-.78.78-.78 2.05 0 2.83L4 21.41c.39.39.9.59 1.41.59.51 0 1.02-.2 1.41-.59l7.78-7.78 2.81-2.81c.8-.78.8-2.07 0-2.86zM5.41 20L4 18.59l7.72-7.72 1.47 1.35L5.41 20z\"/>\n",
              "  </svg>\n",
              "      </button>\n",
              "      \n",
              "  <style>\n",
              "    .colab-df-container {\n",
              "      display:flex;\n",
              "      flex-wrap:wrap;\n",
              "      gap: 12px;\n",
              "    }\n",
              "\n",
              "    .colab-df-convert {\n",
              "      background-color: #E8F0FE;\n",
              "      border: none;\n",
              "      border-radius: 50%;\n",
              "      cursor: pointer;\n",
              "      display: none;\n",
              "      fill: #1967D2;\n",
              "      height: 32px;\n",
              "      padding: 0 0 0 0;\n",
              "      width: 32px;\n",
              "    }\n",
              "\n",
              "    .colab-df-convert:hover {\n",
              "      background-color: #E2EBFA;\n",
              "      box-shadow: 0px 1px 2px rgba(60, 64, 67, 0.3), 0px 1px 3px 1px rgba(60, 64, 67, 0.15);\n",
              "      fill: #174EA6;\n",
              "    }\n",
              "\n",
              "    [theme=dark] .colab-df-convert {\n",
              "      background-color: #3B4455;\n",
              "      fill: #D2E3FC;\n",
              "    }\n",
              "\n",
              "    [theme=dark] .colab-df-convert:hover {\n",
              "      background-color: #434B5C;\n",
              "      box-shadow: 0px 1px 3px 1px rgba(0, 0, 0, 0.15);\n",
              "      filter: drop-shadow(0px 1px 2px rgba(0, 0, 0, 0.3));\n",
              "      fill: #FFFFFF;\n",
              "    }\n",
              "  </style>\n",
              "\n",
              "      <script>\n",
              "        const buttonEl =\n",
              "          document.querySelector('#df-cd234ff4-39b0-49b4-bbc9-cd0de5e35f4e button.colab-df-convert');\n",
              "        buttonEl.style.display =\n",
              "          google.colab.kernel.accessAllowed ? 'block' : 'none';\n",
              "\n",
              "        async function convertToInteractive(key) {\n",
              "          const element = document.querySelector('#df-cd234ff4-39b0-49b4-bbc9-cd0de5e35f4e');\n",
              "          const dataTable =\n",
              "            await google.colab.kernel.invokeFunction('convertToInteractive',\n",
              "                                                     [key], {});\n",
              "          if (!dataTable) return;\n",
              "\n",
              "          const docLinkHtml = 'Like what you see? Visit the ' +\n",
              "            '<a target=\"_blank\" href=https://colab.research.google.com/notebooks/data_table.ipynb>data table notebook</a>'\n",
              "            + ' to learn more about interactive tables.';\n",
              "          element.innerHTML = '';\n",
              "          dataTable['output_type'] = 'display_data';\n",
              "          await google.colab.output.renderOutput(dataTable, element);\n",
              "          const docLink = document.createElement('div');\n",
              "          docLink.innerHTML = docLinkHtml;\n",
              "          element.appendChild(docLink);\n",
              "        }\n",
              "      </script>\n",
              "    </div>\n",
              "  </div>\n",
              "  "
            ]
          },
          "metadata": {},
          "execution_count": 6
        }
      ]
    },
    {
      "cell_type": "markdown",
      "source": [
        "target stats"
      ],
      "metadata": {
        "id": "pU1Q_s32E3tp"
      }
    },
    {
      "cell_type": "code",
      "source": [
        "counts = df[\"classification\"].value_counts() # counts\n",
        "freqs = df[\"classification\"].value_counts(normalize=True) # frequencies\n",
        "print(f\"unconditional target counts:\")\n",
        "print(counts)\n",
        "print(f\"unconditional target frequencies:\")\n",
        "print(freqs)"
      ],
      "metadata": {
        "colab": {
          "base_uri": "https://localhost:8080/"
        },
        "id": "ZAuhIOFa813C",
        "outputId": "b7ccb1e2-4091-4f17-bd76-6c60758f22b7"
      },
      "execution_count": 7,
      "outputs": [
        {
          "output_type": "stream",
          "name": "stdout",
          "text": [
            "unconditional target counts:\n",
            "1    700\n",
            "0    300\n",
            "Name: classification, dtype: int64\n",
            "unconditional target frequencies:\n",
            "1    0.7\n",
            "0    0.3\n",
            "Name: classification, dtype: float64\n"
          ]
        }
      ]
    },
    {
      "cell_type": "markdown",
      "source": [
        "inspect age distribution"
      ],
      "metadata": {
        "id": "-0xIwdvF8ZwM"
      }
    },
    {
      "cell_type": "code",
      "source": [
        "df[\"age\"].describe()"
      ],
      "metadata": {
        "colab": {
          "base_uri": "https://localhost:8080/"
        },
        "id": "hE_Yv9Ls8Ivm",
        "outputId": "a933ae08-d10c-4093-85dc-09b9ff0ec74c"
      },
      "execution_count": 8,
      "outputs": [
        {
          "output_type": "execute_result",
          "data": {
            "text/plain": [
              "count    1000.000000\n",
              "mean       35.546000\n",
              "std        11.375469\n",
              "min        19.000000\n",
              "25%        27.000000\n",
              "50%        33.000000\n",
              "75%        42.000000\n",
              "max        75.000000\n",
              "Name: age, dtype: float64"
            ]
          },
          "metadata": {},
          "execution_count": 8
        }
      ]
    },
    {
      "cell_type": "code",
      "source": [
        "fig, ax = plt.subplots(figsize=(14, 10))\n",
        "df[\"age\"].value_counts().plot(kind='bar', rot=45)\n",
        "ax.plot()"
      ],
      "metadata": {
        "colab": {
          "base_uri": "https://localhost:8080/",
          "height": 622
        },
        "id": "YfZfJ2ZM8OqG",
        "outputId": "145ed913-ca80-42eb-9348-036f9c8c71da"
      },
      "execution_count": 9,
      "outputs": [
        {
          "output_type": "execute_result",
          "data": {
            "text/plain": [
              "[]"
            ]
          },
          "metadata": {},
          "execution_count": 9
        },
        {
          "output_type": "display_data",
          "data": {
            "text/plain": [
              "<Figure size 1008x720 with 1 Axes>"
            ],
            "image/png": "[encoded data removed]"
          },
          "metadata": {
            "needs_background": "light"
          }
        }
      ]
    },
    {
      "cell_type": "markdown",
      "source": [
        "aggregate age in 3 groups"
      ],
      "metadata": {
        "id": "EJsfkgnQE9J6"
      }
    },
    {
      "cell_type": "code",
      "source": [
        "df.loc[df['age'] >= 50, 'age_group'] = 2\n",
        "df.loc[(df['age'] >= 30) & (df['age'] < 50), 'age_group'] = 1\n",
        "df.loc[df['age'] < 30, 'age_group'] = 0\n",
        "df['age_group'].value_counts(normalize=True) "
      ],
      "metadata": {
        "colab": {
          "base_uri": "https://localhost:8080/"
        },
        "id": "1J7oEyW6ERKc",
        "outputId": "ccd63d85-c6d9-4054-d605-082cea6949f7"
      },
      "execution_count": 10,
      "outputs": [
        {
          "output_type": "execute_result",
          "data": {
            "text/plain": [
              "1.0    0.504\n",
              "0.0    0.371\n",
              "2.0    0.125\n",
              "Name: age_group, dtype: float64"
            ]
          },
          "metadata": {},
          "execution_count": 10
        }
      ]
    },
    {
      "cell_type": "markdown",
      "source": [
        "## (Group) Fairness Metrics"
      ],
      "metadata": {
        "id": "-XUobe08GqjZ"
      }
    },
    {
      "cell_type": "code",
      "source": [
        "import warnings\n",
        "def metrics_by_group(y, y_proba, A, thr=.5, pos_label=1):\n",
        "    \"\"\"\n",
        "    computes performance metrics and plots the ROC by group \n",
        "    of a specific attribute of a binary classifier\n",
        "\n",
        "    :param y: array or pd.Series with true labels\n",
        "    :param y_proba: array or pd.Series with score outcome for the positive class\n",
        "      of a binary classifier\n",
        "    :param A: pd.Series with group membership\n",
        "    :param thr: threshold used to compute the threshold-specific metric\n",
        "    :param pos_label: the label of the positive class\n",
        "\n",
        "    :return: \n",
        "      pd.DataFrame with metrics\n",
        "      plot of the ROC by group\n",
        "    \"\"\"\n",
        "\n",
        "\n",
        "    fig, ax = plt.subplots()  # prepare the figure for plotting\n",
        "    df = []  # df that will contain the output\n",
        "\n",
        "    # checks to be sure that A is given as a pd.Series\n",
        "    if isinstance(A, pd.DataFrame):\n",
        "      warnings.warn(\"A is a dataframe, we take the first column only\")\n",
        "      A = A.iloc[:, 0]\n",
        "    \n",
        "    if not isinstance(A, pd.Series):\n",
        "      A = pd.Series(A)\n",
        "\n",
        "    # loop over unique values of the sensitive attribute A\n",
        "    for i in set(A):\n",
        "        idx = A == i\n",
        "        score_i = y_proba[idx]\n",
        "        pred_i = 1*(score_i >= thr)\n",
        "        y_i = y[idx]\n",
        "\n",
        "        fpr, tpr, _ = roc_curve(y_i, score_i)\n",
        "        df_i = pd.DataFrame(\n",
        "            {\"acc\": accuracy_score(y_i, pred_i),\n",
        "             \"prec\": precision_score(y_i, pred_i, pos_label=pos_label),\n",
        "             \"rec\": recall_score(y_i, pred_i, pos_label=pos_label),\n",
        "             \"F1\": f1_score(y_i, pred_i, pos_label=pos_label),\n",
        "             \"AUC\": roc_auc_score(y_i, score_i),\n",
        "             \"ppr\": sum(pred_i == pos_label) / len(pred_i)\n",
        "             },\n",
        "            index=[i]\n",
        "        )\n",
        "        if bool(A.name):\n",
        "          df_i.index.name = A.name\n",
        "        df.append(df_i)\n",
        "\n",
        "        ax.plot(fpr, tpr, label=i)\n",
        "        ax.set_xlabel(\"false positive rate\")\n",
        "        ax.set_ylabel(\"true positive rate\")\n",
        "        ax.legend()\n",
        "\n",
        "    return pd.concat(df)"
      ],
      "metadata": {
        "id": "vAo0r8_QOici"
      },
      "execution_count": 18,
      "outputs": []
    },
    {
      "cell_type": "markdown",
      "source": [
        "try with a random classifier"
      ],
      "metadata": {
        "id": "TT48Q8G5FzM1"
      }
    },
    {
      "cell_type": "code",
      "source": [
        "y_rand = np.random.uniform(0, 1, size=df.shape[0])\n",
        "df_metrics = metrics_by_group(y=df.classification, y_proba=y_rand, A=df.gender)"
      ],
      "metadata": {
        "colab": {
          "base_uri": "https://localhost:8080/",
          "height": 279
        },
        "id": "-2WEhaPQOlF6",
        "outputId": "6bfd6487-90de-4f77-c7b6-5d257a386554"
      },
      "execution_count": 19,
      "outputs": [
        {
          "output_type": "display_data",
          "data": {
            "text/plain": [
              "<Figure size 432x288 with 1 Axes>"
            ],
            "image/png": "[encoded data removed]"
          },
          "metadata": {
            "needs_background": "light"
          }
        }
      ]
    },
    {
      "cell_type": "code",
      "source": [
        "print(df_metrics)"
      ],
      "metadata": {
        "colab": {
          "base_uri": "https://localhost:8080/"
        },
        "id": "sixOtPyomC1J",
        "outputId": "4edbe3c9-6f41-4624-c636-f67301bd09ce"
      },
      "execution_count": 20,
      "outputs": [
        {
          "output_type": "stream",
          "name": "stdout",
          "text": [
            "             acc      prec       rec        F1       AUC       ppr\n",
            "gender                                                            \n",
            "0.0     0.514493  0.727778  0.525050  0.610012  0.510099  0.521739\n",
            "1.0     0.451613  0.598726  0.467662  0.525140  0.431558  0.506452\n"
          ]
        }
      ]
    },
    {
      "cell_type": "code",
      "source": [
        "df_metrics.T.plot.bar(color={1: 'blue', 0: \"magenta\"}, rot=0)"
      ],
      "metadata": {
        "colab": {
          "base_uri": "https://localhost:8080/",
          "height": 283
        },
        "id": "j3LfoVWRt7FP",
        "outputId": "927f45ab-3a1a-4cf0-f327-b9004b508d46"
      },
      "execution_count": 21,
      "outputs": [
        {
          "output_type": "execute_result",
          "data": {
            "text/plain": [
              "<matplotlib.axes._subplots.AxesSubplot at 0x7ff10aae0110>"
            ]
          },
          "metadata": {},
          "execution_count": 21
        },
        {
          "output_type": "display_data",
          "data": {
            "text/plain": [
              "<Figure size 432x288 with 1 Axes>"
            ],
            "image/png": "[encoded data removed]"
          },
          "metadata": {
            "needs_background": "light"
          }
        }
      ]
    },
    {
      "cell_type": "markdown",
      "source": [
        "inspect acceptance rate on orignal data"
      ],
      "metadata": {
        "id": "mjhHanc3SoiF"
      }
    },
    {
      "cell_type": "code",
      "source": [
        "# positive prediction rate P(Yhat = 1)\n",
        "def ppr(y, yhat, pos_label=1):\n",
        "  return np.sum(yhat == pos_label) / len(yhat)\n",
        "# base rate P(Y = 1)\n",
        "def br(y, yhat, pos_label=1):\n",
        "  return np.sum(y == pos_label) / len(y)"
      ],
      "metadata": {
        "id": "HT_Lla8z2mSi"
      },
      "execution_count": 22,
      "outputs": []
    },
    {
      "cell_type": "code",
      "source": [
        "ppr(None, df.classification)"
      ],
      "metadata": {
        "colab": {
          "base_uri": "https://localhost:8080/"
        },
        "id": "_ZZ1nKRJ3QVr",
        "outputId": "97bc10ad-f579-4ae8-f2b2-1aca9c6676f4"
      },
      "execution_count": 23,
      "outputs": [
        {
          "output_type": "execute_result",
          "data": {
            "text/plain": [
              "0.7"
            ]
          },
          "metadata": {},
          "execution_count": 23
        }
      ]
    },
    {
      "cell_type": "code",
      "source": [
        "df.groupby('gender')['classification'].apply(lambda x: ppr(None, x))"
      ],
      "metadata": {
        "colab": {
          "base_uri": "https://localhost:8080/"
        },
        "id": "xSDYa1b326qP",
        "outputId": "be4c22a9-8390-4611-9c56-61f0a2662464"
      },
      "execution_count": 24,
      "outputs": [
        {
          "output_type": "execute_result",
          "data": {
            "text/plain": [
              "gender\n",
              "0.0    0.723188\n",
              "1.0    0.648387\n",
              "Name: classification, dtype: float64"
            ]
          },
          "metadata": {},
          "execution_count": 24
        }
      ]
    },
    {
      "cell_type": "code",
      "source": [
        "# notice that we have simply done the following\n",
        "ppr_1 = np.sum(df.classification[df.gender == 1] == 1) / np.sum(df.gender == 1)\n",
        "ppr_0 = np.sum(df.classification[df.gender == 0] == 1) / np.sum(df.gender == 0)\n",
        "print(f\"acceptance rate for 1: {ppr_1: .2},\\nacceptance rate for 0 {ppr_0: .2}\")"
      ],
      "metadata": {
        "colab": {
          "base_uri": "https://localhost:8080/"
        },
        "id": "YCRvLL0wRzk7",
        "outputId": "d14969d7-3a5e-4780-ac3a-6e4ed2055c02"
      },
      "execution_count": 25,
      "outputs": [
        {
          "output_type": "stream",
          "name": "stdout",
          "text": [
            "acceptance rate for 1:  0.65,\n",
            "acceptance rate for 0  0.72\n"
          ]
        }
      ]
    },
    {
      "cell_type": "code",
      "source": [
        "print(f\"DP difference = {np.abs(ppr_1 - ppr_0): .3}\")\n",
        "print(f\"DP ratio = {min(ppr_1, ppr_0) / max(ppr_1, ppr_0): .3}\")"
      ],
      "metadata": {
        "colab": {
          "base_uri": "https://localhost:8080/"
        },
        "id": "MrGoBHm_Ss0h",
        "outputId": "99f27dbb-b347-4a97-b70f-198027f54558"
      },
      "execution_count": 26,
      "outputs": [
        {
          "output_type": "stream",
          "name": "stdout",
          "text": [
            "DP difference =  0.0748\n",
            "DP ratio =  0.897\n"
          ]
        }
      ]
    },
    {
      "cell_type": "code",
      "source": [
        "# same thing but with a sns plot for gender\n",
        "sns.barplot(x=\"gender\", y=\"classification\", data=df, ci=95)"
      ],
      "metadata": {
        "colab": {
          "base_uri": "https://localhost:8080/",
          "height": 279
        },
        "id": "CHSBwg279Gsx",
        "outputId": "87b3c65b-c90c-4b47-c8ee-20f9f9395b24"
      },
      "execution_count": 28,
      "outputs": [
        {
          "output_type": "display_data",
          "data": {
            "text/plain": [
              "<Figure size 432x288 with 1 Axes>"
            ],
            "image/png": "[encoded data removed]"
          },
          "metadata": {
            "needs_background": "light"
          }
        }
      ]
    },
    {
      "cell_type": "code",
      "source": [
        "# and for age groups\n",
        "sns.barplot(x=\"age_group\", y=\"classification\", data=df, ci=95)"
      ],
      "metadata": {
        "colab": {
          "base_uri": "https://localhost:8080/",
          "height": 297
        },
        "id": "avDKOSL8F5jM",
        "outputId": "94d283f6-afe7-433c-8c22-2bec5874f953"
      },
      "execution_count": 29,
      "outputs": [
        {
          "output_type": "execute_result",
          "data": {
            "text/plain": [
              "<matplotlib.axes._subplots.AxesSubplot at 0x7ff10a9cd850>"
            ]
          },
          "metadata": {},
          "execution_count": 29
        },
        {
          "output_type": "display_data",
          "data": {
            "text/plain": [
              "<Figure size 432x288 with 1 Axes>"
            ],
            "image/png": "[encoded data removed]"
          },
          "metadata": {
            "needs_background": "light"
          }
        }
      ]
    },
    {
      "cell_type": "markdown",
      "source": [
        "## fit model to data"
      ],
      "metadata": {
        "id": "w6cNBGKRGoXI"
      }
    },
    {
      "cell_type": "code",
      "source": [
        "target_variable = \"classification\"\n",
        "sensitive = \"age_group\"\n",
        "# If multiple sensitive features are chosen, the rest of the script considers intersectional groups."
      ],
      "metadata": {
        "id": "pGTpKAxp_YMc"
      },
      "execution_count": 30,
      "outputs": []
    },
    {
      "cell_type": "code",
      "source": [
        "X, Y, A = df.drop([target_variable, sensitive], axis=1), df.loc[:, target_variable], df.loc[:, sensitive]"
      ],
      "metadata": {
        "id": "2MOfqEEb_tml"
      },
      "execution_count": 31,
      "outputs": []
    },
    {
      "cell_type": "code",
      "source": [
        "random_seed = 42\n",
        "np.random.seed(random_seed)"
      ],
      "metadata": {
        "id": "eItVqRSR_kNx"
      },
      "execution_count": 32,
      "outputs": []
    },
    {
      "cell_type": "markdown",
      "source": [
        "train/test splitting"
      ],
      "metadata": {
        "id": "GzlQdPiiIRIC"
      }
    },
    {
      "cell_type": "code",
      "source": [
        "X_train, X_test, Y_train, Y_test, A_train, A_test, df_train, df_test = train_test_split(\n",
        "    X,\n",
        "    Y,\n",
        "    A,\n",
        "    df,\n",
        "    test_size=0.50,\n",
        "    stratify=Y,\n",
        "    random_state=random_seed\n",
        ")"
      ],
      "metadata": {
        "id": "NRKXBfIq-5Hg"
      },
      "execution_count": 34,
      "outputs": []
    },
    {
      "cell_type": "markdown",
      "source": [
        "fit a model to the data"
      ],
      "metadata": {
        "id": "XOkHaA6m-J1Z"
      }
    },
    {
      "cell_type": "code",
      "source": [
        "unmitigated_pipeline = Pipeline(steps=[\n",
        "    (\"preprocessing\", StandardScaler()),\n",
        "    (\"logistic_regression\", LogisticRegression(max_iter=1000))\n",
        "])\n",
        "\n",
        "unmitigated_pipeline.fit(X_train, Y_train)"
      ],
      "metadata": {
        "colab": {
          "base_uri": "https://localhost:8080/"
        },
        "id": "XoW9qZNo63KI",
        "outputId": "ee370da6-2c47-450a-c8ed-5a0299d6da4f"
      },
      "execution_count": 35,
      "outputs": [
        {
          "output_type": "execute_result",
          "data": {
            "text/plain": [
              "Pipeline(steps=[('preprocessing', StandardScaler()),\n",
              "                ('logistic_regression', LogisticRegression(max_iter=1000))])"
            ]
          },
          "metadata": {},
          "execution_count": 35
        }
      ]
    },
    {
      "cell_type": "markdown",
      "source": [
        "compute prediction on test set"
      ],
      "metadata": {
        "id": "DEn-RU91IWnr"
      }
    },
    {
      "cell_type": "code",
      "source": [
        "y_proba = unmitigated_pipeline.predict_proba(X_test)[:,1]\n",
        "y_pred = unmitigated_pipeline.predict(X_test)"
      ],
      "metadata": {
        "id": "0l6j55Q--Shi"
      },
      "execution_count": 37,
      "outputs": []
    },
    {
      "cell_type": "code",
      "source": [
        "# Show balanced accuracy rate of the 0/1 predictions\n",
        "balanced_accuracy_score(Y_test, y_pred)"
      ],
      "metadata": {
        "colab": {
          "base_uri": "https://localhost:8080/"
        },
        "id": "5JBeP_YnxTAf",
        "outputId": "0dc3a28c-94ce-4c77-a7cb-ad3faae683dc"
      },
      "execution_count": 38,
      "outputs": [
        {
          "output_type": "execute_result",
          "data": {
            "text/plain": [
              "0.6942857142857143"
            ]
          },
          "metadata": {},
          "execution_count": 38
        }
      ]
    },
    {
      "cell_type": "code",
      "source": [
        "# Plot ROC curve of probabilistic predictions\n",
        "plot_roc_curve(unmitigated_pipeline, X_test, Y_test)"
      ],
      "metadata": {
        "colab": {
          "base_uri": "https://localhost:8080/",
          "height": 353
        },
        "id": "j8CdjuxW-Wte",
        "outputId": "a6a7f020-9f8a-4218-b282-b211a2b3c131"
      },
      "execution_count": 39,
      "outputs": [
        {
          "output_type": "stream",
          "name": "stderr",
          "text": [
            "/usr/local/lib/python3.7/dist-packages/sklearn/utils/deprecation.py:87: FutureWarning: Function plot_roc_curve is deprecated; Function :func:`plot_roc_curve` is deprecated in 1.0 and will be removed in 1.2. Use one of the class methods: :meth:`sklearn.metric.RocCurveDisplay.from_predictions` or :meth:`sklearn.metric.RocCurveDisplay.from_estimator`.\n",
            "  warnings.warn(msg, category=FutureWarning)\n"
          ]
        },
        {
          "output_type": "execute_result",
          "data": {
            "text/plain": [
              "<sklearn.metrics._plot.roc_curve.RocCurveDisplay at 0x7ff10a95c110>"
            ]
          },
          "metadata": {},
          "execution_count": 39
        },
        {
          "output_type": "display_data",
          "data": {
            "text/plain": [
              "<Figure size 432x288 with 1 Axes>"
            ],
            "image/png": "[encoded data removed]"
          },
          "metadata": {
            "needs_background": "light"
          }
        }
      ]
    },
    {
      "cell_type": "markdown",
      "source": [
        "inspect metrics by groups of the sensitive attributes"
      ],
      "metadata": {
        "id": "0IwQ8RchIiDo"
      }
    },
    {
      "cell_type": "code",
      "source": [
        "m_by_g = metrics_by_group(Y_test, y_proba, df_test[sensitive])\n",
        "print(m_by_g)"
      ],
      "metadata": {
        "colab": {
          "base_uri": "https://localhost:8080/",
          "height": 368
        },
        "id": "dMiaq3btG3cH",
        "outputId": "c12af26a-c6e3-42e0-e1d7-256ed8e930fd"
      },
      "execution_count": 41,
      "outputs": [
        {
          "output_type": "stream",
          "name": "stdout",
          "text": [
            "                acc      prec       rec        F1       AUC       ppr\n",
            "age_group                                                            \n",
            "0.0        0.745763  0.783333  0.831858  0.806867  0.795769  0.677966\n",
            "1.0        0.789062  0.807175  0.942408  0.869565  0.778494  0.871094\n",
            "2.0        0.835821  0.830189  0.956522  0.888889  0.824017  0.791045\n"
          ]
        },
        {
          "output_type": "display_data",
          "data": {
            "text/plain": [
              "<Figure size 432x288 with 1 Axes>"
            ],
            "image/png": "[encoded data removed]"
          },
          "metadata": {
            "needs_background": "light"
          }
        }
      ]
    },
    {
      "cell_type": "markdown",
      "source": [
        "Let's get the true positive rate ratio, namely the recall ratio. It is the ratio of the lowest recall with respect to the highest one, namely"
      ],
      "metadata": {
        "id": "0dYGpMZ6Iuk-"
      }
    },
    {
      "cell_type": "code",
      "source": [
        "tpr_ratio = m_by_g['rec'].min() / m_by_g['rec'].max()\n",
        "print(f\"true positive rate (a.k.a. recall) ratio: {tpr_ratio: .3}\")"
      ],
      "metadata": {
        "colab": {
          "base_uri": "https://localhost:8080/"
        },
        "id": "8NUSyE44JAWH",
        "outputId": "ec2aaa54-f791-4258-a54e-d063c043110b"
      },
      "execution_count": 43,
      "outputs": [
        {
          "output_type": "stream",
          "name": "stdout",
          "text": [
            "true positive rate (a.k.a. recall) ratio:  0.87\n"
          ]
        }
      ]
    },
    {
      "cell_type": "markdown",
      "source": [
        "on gender would be"
      ],
      "metadata": {
        "id": "BC_zQi8oL-U5"
      }
    },
    {
      "cell_type": "code",
      "source": [
        "metrics_by_group(Y_test, y_proba, df_test.gender)"
      ],
      "metadata": {
        "colab": {
          "base_uri": "https://localhost:8080/",
          "height": 405
        },
        "id": "In9gNxE8L8rt",
        "outputId": "03aa3cb9-102e-42a3-eed0-f58f5aa99220"
      },
      "execution_count": 47,
      "outputs": [
        {
          "output_type": "execute_result",
          "data": {
            "text/plain": [
              "             acc      prec       rec        F1       AUC       ppr\n",
              "gender                                                            \n",
              "0.0     0.777465  0.802721  0.918288  0.856624  0.792663  0.828169\n",
              "1.0     0.786207  0.803922  0.881720  0.841026  0.806038  0.703448"
            ],
            "text/html": [
              "\n",
              "  <div id=\"df-d5be10e6-7794-4a40-9681-ebba322cd8b4\">\n",
              "    <div class=\"colab-df-container\">\n",
              "      <div>\n",
              "<style scoped>\n",
              "    .dataframe tbody tr th:only-of-type {\n",
              "        vertical-align: middle;\n",
              "    }\n",
              "\n",
              "    .dataframe tbody tr th {\n",
              "        vertical-align: top;\n",
              "    }\n",
              "\n",
              "    .dataframe thead th {\n",
              "        text-align: right;\n",
              "    }\n",
              "</style>\n",
              "<table border=\"1\" class=\"dataframe\">\n",
              "  <thead>\n",
              "    <tr style=\"text-align: right;\">\n",
              "      <th></th>\n",
              "      <th>acc</th>\n",
              "      <th>prec</th>\n",
              "      <th>rec</th>\n",
              "      <th>F1</th>\n",
              "      <th>AUC</th>\n",
              "      <th>ppr</th>\n",
              "    </tr>\n",
              "    <tr>\n",
              "      <th>gender</th>\n",
              "      <th></th>\n",
              "      <th></th>\n",
              "      <th></th>\n",
              "      <th></th>\n",
              "      <th></th>\n",
              "      <th></th>\n",
              "    </tr>\n",
              "  </thead>\n",
              "  <tbody>\n",
              "    <tr>\n",
              "      <th>0.0</th>\n",
              "      <td>0.777465</td>\n",
              "      <td>0.802721</td>\n",
              "      <td>0.918288</td>\n",
              "      <td>0.856624</td>\n",
              "      <td>0.792663</td>\n",
              "      <td>0.828169</td>\n",
              "    </tr>\n",
              "    <tr>\n",
              "      <th>1.0</th>\n",
              "      <td>0.786207</td>\n",
              "      <td>0.803922</td>\n",
              "      <td>0.881720</td>\n",
              "      <td>0.841026</td>\n",
              "      <td>0.806038</td>\n",
              "      <td>0.703448</td>\n",
              "    </tr>\n",
              "  </tbody>\n",
              "</table>\n",
              "</div>\n",
              "      <button class=\"colab-df-convert\" onclick=\"convertToInteractive('df-d5be10e6-7794-4a40-9681-ebba322cd8b4')\"\n",
              "              title=\"Convert this dataframe to an interactive table.\"\n",
              "              style=\"display:none;\">\n",
              "        \n",
              "  <svg xmlns=\"http://www.w3.org/2000/svg\" height=\"24px\"viewBox=\"0 0 24 24\"\n",
              "       width=\"24px\">\n",
              "    <path d=\"M0 0h24v24H0V0z\" fill=\"none\"/>\n",
              "    <path d=\"M18.56 5.44l.94 2.06.94-2.06 2.06-.94-2.06-.94-.94-2.06-.94 2.06-2.06.94zm-11 1L8.5 8.5l.94-2.06 2.06-.94-2.06-.94L8.5 2.5l-.94 2.06-2.06.94zm10 10l.94 2.06.94-2.06 2.06-.94-2.06-.94-.94-2.06-.94 2.06-2.06.94z\"/><path d=\"M17.41 7.96l-1.37-1.37c-.4-.4-.92-.59-1.43-.59-.52 0-1.04.2-1.43.59L10.3 9.45l-7.72 7.72c-.78.78-.78 2.05 0 2.83L4 21.41c.39.39.9.59 1.41.59.51 0 1.02-.2 1.41-.59l7.78-7.78 2.81-2.81c.8-.78.8-2.07 0-2.86zM5.41 20L4 18.59l7.72-7.72 1.47 1.35L5.41 20z\"/>\n",
              "  </svg>\n",
              "      </button>\n",
              "      \n",
              "  <style>\n",
              "    .colab-df-container {\n",
              "      display:flex;\n",
              "      flex-wrap:wrap;\n",
              "      gap: 12px;\n",
              "    }\n",
              "\n",
              "    .colab-df-convert {\n",
              "      background-color: #E8F0FE;\n",
              "      border: none;\n",
              "      border-radius: 50%;\n",
              "      cursor: pointer;\n",
              "      display: none;\n",
              "      fill: #1967D2;\n",
              "      height: 32px;\n",
              "      padding: 0 0 0 0;\n",
              "      width: 32px;\n",
              "    }\n",
              "\n",
              "    .colab-df-convert:hover {\n",
              "      background-color: #E2EBFA;\n",
              "      box-shadow: 0px 1px 2px rgba(60, 64, 67, 0.3), 0px 1px 3px 1px rgba(60, 64, 67, 0.15);\n",
              "      fill: #174EA6;\n",
              "    }\n",
              "\n",
              "    [theme=dark] .colab-df-convert {\n",
              "      background-color: #3B4455;\n",
              "      fill: #D2E3FC;\n",
              "    }\n",
              "\n",
              "    [theme=dark] .colab-df-convert:hover {\n",
              "      background-color: #434B5C;\n",
              "      box-shadow: 0px 1px 3px 1px rgba(0, 0, 0, 0.15);\n",
              "      filter: drop-shadow(0px 1px 2px rgba(0, 0, 0, 0.3));\n",
              "      fill: #FFFFFF;\n",
              "    }\n",
              "  </style>\n",
              "\n",
              "      <script>\n",
              "        const buttonEl =\n",
              "          document.querySelector('#df-d5be10e6-7794-4a40-9681-ebba322cd8b4 button.colab-df-convert');\n",
              "        buttonEl.style.display =\n",
              "          google.colab.kernel.accessAllowed ? 'block' : 'none';\n",
              "\n",
              "        async function convertToInteractive(key) {\n",
              "          const element = document.querySelector('#df-d5be10e6-7794-4a40-9681-ebba322cd8b4');\n",
              "          const dataTable =\n",
              "            await google.colab.kernel.invokeFunction('convertToInteractive',\n",
              "                                                     [key], {});\n",
              "          if (!dataTable) return;\n",
              "\n",
              "          const docLinkHtml = 'Like what you see? Visit the ' +\n",
              "            '<a target=\"_blank\" href=https://colab.research.google.com/notebooks/data_table.ipynb>data table notebook</a>'\n",
              "            + ' to learn more about interactive tables.';\n",
              "          element.innerHTML = '';\n",
              "          dataTable['output_type'] = 'display_data';\n",
              "          await google.colab.output.renderOutput(dataTable, element);\n",
              "          const docLink = document.createElement('div');\n",
              "          docLink.innerHTML = docLinkHtml;\n",
              "          element.appendChild(docLink);\n",
              "        }\n",
              "      </script>\n",
              "    </div>\n",
              "  </div>\n",
              "  "
            ]
          },
          "metadata": {},
          "execution_count": 47
        },
        {
          "output_type": "display_data",
          "data": {
            "text/plain": [
              "<Figure size 432x288 with 1 Axes>"
            ],
            "image/png": "[encoded data removed]"
          },
          "metadata": {
            "needs_background": "light"
          }
        }
      ]
    },
    {
      "cell_type": "markdown",
      "source": [
        "### Fairlearn package"
      ],
      "metadata": {
        "id": "Jo8lGI_cJfvA"
      }
    },
    {
      "cell_type": "markdown",
      "source": [
        "we can leverage several packages that help us in 2 aspects:\n",
        "* assessing fairness, via predefined fairness metrics functions and utils,\n",
        "* build mitigation strategies.\n",
        "\n",
        "We shall here employ [Fairlearn](https://fairlearn.org/) but there are other packages (notably [IBM AIF360](https://aif360.mybluemix.net/), containing the adversarial debiasing algorithm)."
      ],
      "metadata": {
        "id": "kQuFtS5FJlFf"
      }
    },
    {
      "cell_type": "code",
      "source": [
        "# install fairlearn package\n",
        "!pip install fairlearn"
      ],
      "metadata": {
        "colab": {
          "base_uri": "https://localhost:8080/"
        },
        "id": "xlSMbg8e7txN",
        "outputId": "90fce4b1-0e72-476e-90de-34112ab8b642"
      },
      "execution_count": 45,
      "outputs": [
        {
          "output_type": "stream",
          "name": "stdout",
          "text": [
            "Looking in indexes: https://pypi.org/simple, https://us-python.pkg.dev/colab-wheels/public/simple/\n",
            "Collecting fairlearn\n",
            "  Downloading fairlearn-0.7.0-py3-none-any.whl (177 kB)\n",
            "\u001b[K     |████████████████████████████████| 177 kB 5.1 MB/s \n",
            "\u001b[?25hRequirement already satisfied: scipy>=1.4.1 in /usr/local/lib/python3.7/dist-packages (from fairlearn) (1.4.1)\n",
            "Requirement already satisfied: pandas>=0.25.1 in /usr/local/lib/python3.7/dist-packages (from fairlearn) (1.3.5)\n",
            "Requirement already satisfied: scikit-learn>=0.22.1 in /usr/local/lib/python3.7/dist-packages (from fairlearn) (1.0.2)\n",
            "Requirement already satisfied: numpy>=1.17.2 in /usr/local/lib/python3.7/dist-packages (from fairlearn) (1.21.6)\n",
            "Requirement already satisfied: python-dateutil>=2.7.3 in /usr/local/lib/python3.7/dist-packages (from pandas>=0.25.1->fairlearn) (2.8.2)\n",
            "Requirement already satisfied: pytz>=2017.3 in /usr/local/lib/python3.7/dist-packages (from pandas>=0.25.1->fairlearn) (2022.1)\n",
            "Requirement already satisfied: six>=1.5 in /usr/local/lib/python3.7/dist-packages (from python-dateutil>=2.7.3->pandas>=0.25.1->fairlearn) (1.15.0)\n",
            "Requirement already satisfied: joblib>=0.11 in /usr/local/lib/python3.7/dist-packages (from scikit-learn>=0.22.1->fairlearn) (1.1.0)\n",
            "Requirement already satisfied: threadpoolctl>=2.0.0 in /usr/local/lib/python3.7/dist-packages (from scikit-learn>=0.22.1->fairlearn) (3.1.0)\n",
            "Installing collected packages: fairlearn\n",
            "Successfully installed fairlearn-0.7.0\n"
          ]
        }
      ]
    },
    {
      "cell_type": "code",
      "source": [
        "# fairlearn imports\n",
        "# metrics\n",
        "from fairlearn.metrics import (\n",
        "    MetricFrame,\n",
        "    true_positive_rate,\n",
        "    false_positive_rate,\n",
        "    false_negative_rate,\n",
        "    selection_rate,\n",
        "    count,\n",
        "    false_negative_rate_difference\n",
        ")\n",
        "\n",
        "# mitigation\n",
        "from fairlearn.postprocessing import ThresholdOptimizer, plot_threshold_optimizer"
      ],
      "metadata": {
        "id": "fkNKr4cMA2Pr"
      },
      "execution_count": 46,
      "outputs": []
    },
    {
      "cell_type": "markdown",
      "source": [
        "### use of fairlearn `MetricFrame` to assess fairness"
      ],
      "metadata": {
        "id": "8HuBJCtWMIDS"
      }
    },
    {
      "cell_type": "code",
      "source": [
        "# In its simplest form MetricFrame takes four arguments:\n",
        "#    metric_function with signature metric_function(y_true, y_pred)\n",
        "#    y_true: array of labels\n",
        "#    y_pred: array of predictions\n",
        "#    sensitive_features: array of sensitive feature values\n",
        "\n",
        "mf1 = MetricFrame(metrics=false_negative_rate,\n",
        "                  y_true=Y_test,\n",
        "                  y_pred=y_pred,\n",
        "                  sensitive_features=df_test['gender'])\n",
        "\n",
        "# The disaggregated metrics are stored in a pandas Series mf1.by_group:\n",
        "\n",
        "mf1.by_group"
      ],
      "metadata": {
        "colab": {
          "base_uri": "https://localhost:8080/"
        },
        "id": "cSLJnBtR-sCZ",
        "outputId": "f9a46872-59cc-43e6-fcae-a4613df2364f"
      },
      "execution_count": null,
      "outputs": [
        {
          "output_type": "execute_result",
          "data": {
            "text/plain": [
              "gender\n",
              "0.0    0.081712\n",
              "1.0    0.129032\n",
              "Name: false_negative_rate, dtype: object"
            ]
          },
          "metadata": {},
          "execution_count": 221
        }
      ]
    },
    {
      "cell_type": "markdown",
      "source": [
        "You can evaluate multiple metrics by providing a dictionary. The metrics that you can inspect need not to be native fairlearn function, you can use any function taking (y, yhat), such as sklearn metrics\n"
      ],
      "metadata": {
        "id": "3HZTM657MZlJ"
      }
    },
    {
      "cell_type": "code",
      "source": [
        "metrics_dict = {\n",
        "    \"base_rate\": br,\n",
        "    \"selection_rate\": selection_rate,\n",
        "    \"positive_prediction_rate\": ppr,\n",
        "    \"false_negative_rate\": false_negative_rate,\n",
        "    \"false_positive_rate\": false_positive_rate,\n",
        "    \"balanced_accuracy\": balanced_accuracy_score,\n",
        "    \"recall\": recall_score,\n",
        "    \"precision\": precision_score,\n",
        "    \"f1\": f1_score\n",
        "}\n",
        "\n",
        "metricframe_unmitigated = MetricFrame(metrics=metrics_dict,\n",
        "                  y_true=Y_test,\n",
        "                  y_pred=y_pred,\n",
        "                  sensitive_features=df_test[sensitive])\n",
        "\n",
        "# The disaggregated metrics are then stored in a pandas DataFrame:\n",
        "\n",
        "metricframe_unmitigated.by_group"
      ],
      "metadata": {
        "colab": {
          "base_uri": "https://localhost:8080/",
          "height": 219
        },
        "id": "P01vj4zuAgae",
        "outputId": "3e179cea-0806-4ced-affa-707f4b83280e"
      },
      "execution_count": 48,
      "outputs": [
        {
          "output_type": "execute_result",
          "data": {
            "text/plain": [
              "          base_rate selection_rate positive_prediction_rate  \\\n",
              "age_group                                                     \n",
              "0.0        0.638418       0.677966                 0.677966   \n",
              "1.0        0.746094       0.871094                 0.871094   \n",
              "2.0        0.686567       0.791045                 0.791045   \n",
              "\n",
              "          false_negative_rate false_positive_rate balanced_accuracy    recall  \\\n",
              "age_group                                                                       \n",
              "0.0                  0.168142             0.40625          0.712804  0.831858   \n",
              "1.0                  0.057592            0.661538          0.640435  0.942408   \n",
              "2.0                  0.043478            0.428571          0.763975  0.956522   \n",
              "\n",
              "          precision        f1  \n",
              "age_group                      \n",
              "0.0        0.783333  0.806867  \n",
              "1.0        0.807175  0.869565  \n",
              "2.0        0.830189  0.888889  "
            ],
            "text/html": [
              "\n",
              "  <div id=\"df-bbce52cc-b048-41f8-96b0-af58f5b0a208\">\n",
              "    <div class=\"colab-df-container\">\n",
              "      <div>\n",
              "<style scoped>\n",
              "    .dataframe tbody tr th:only-of-type {\n",
              "        vertical-align: middle;\n",
              "    }\n",
              "\n",
              "    .dataframe tbody tr th {\n",
              "        vertical-align: top;\n",
              "    }\n",
              "\n",
              "    .dataframe thead th {\n",
              "        text-align: right;\n",
              "    }\n",
              "</style>\n",
              "<table border=\"1\" class=\"dataframe\">\n",
              "  <thead>\n",
              "    <tr style=\"text-align: right;\">\n",
              "      <th></th>\n",
              "      <th>base_rate</th>\n",
              "      <th>selection_rate</th>\n",
              "      <th>positive_prediction_rate</th>\n",
              "      <th>false_negative_rate</th>\n",
              "      <th>false_positive_rate</th>\n",
              "      <th>balanced_accuracy</th>\n",
              "      <th>recall</th>\n",
              "      <th>precision</th>\n",
              "      <th>f1</th>\n",
              "    </tr>\n",
              "    <tr>\n",
              "      <th>age_group</th>\n",
              "      <th></th>\n",
              "      <th></th>\n",
              "      <th></th>\n",
              "      <th></th>\n",
              "      <th></th>\n",
              "      <th></th>\n",
              "      <th></th>\n",
              "      <th></th>\n",
              "      <th></th>\n",
              "    </tr>\n",
              "  </thead>\n",
              "  <tbody>\n",
              "    <tr>\n",
              "      <th>0.0</th>\n",
              "      <td>0.638418</td>\n",
              "      <td>0.677966</td>\n",
              "      <td>0.677966</td>\n",
              "      <td>0.168142</td>\n",
              "      <td>0.40625</td>\n",
              "      <td>0.712804</td>\n",
              "      <td>0.831858</td>\n",
              "      <td>0.783333</td>\n",
              "      <td>0.806867</td>\n",
              "    </tr>\n",
              "    <tr>\n",
              "      <th>1.0</th>\n",
              "      <td>0.746094</td>\n",
              "      <td>0.871094</td>\n",
              "      <td>0.871094</td>\n",
              "      <td>0.057592</td>\n",
              "      <td>0.661538</td>\n",
              "      <td>0.640435</td>\n",
              "      <td>0.942408</td>\n",
              "      <td>0.807175</td>\n",
              "      <td>0.869565</td>\n",
              "    </tr>\n",
              "    <tr>\n",
              "      <th>2.0</th>\n",
              "      <td>0.686567</td>\n",
              "      <td>0.791045</td>\n",
              "      <td>0.791045</td>\n",
              "      <td>0.043478</td>\n",
              "      <td>0.428571</td>\n",
              "      <td>0.763975</td>\n",
              "      <td>0.956522</td>\n",
              "      <td>0.830189</td>\n",
              "      <td>0.888889</td>\n",
              "    </tr>\n",
              "  </tbody>\n",
              "</table>\n",
              "</div>\n",
              "      <button class=\"colab-df-convert\" onclick=\"convertToInteractive('df-bbce52cc-b048-41f8-96b0-af58f5b0a208')\"\n",
              "              title=\"Convert this dataframe to an interactive table.\"\n",
              "              style=\"display:none;\">\n",
              "        \n",
              "  <svg xmlns=\"http://www.w3.org/2000/svg\" height=\"24px\"viewBox=\"0 0 24 24\"\n",
              "       width=\"24px\">\n",
              "    <path d=\"M0 0h24v24H0V0z\" fill=\"none\"/>\n",
              "    <path d=\"M18.56 5.44l.94 2.06.94-2.06 2.06-.94-2.06-.94-.94-2.06-.94 2.06-2.06.94zm-11 1L8.5 8.5l.94-2.06 2.06-.94-2.06-.94L8.5 2.5l-.94 2.06-2.06.94zm10 10l.94 2.06.94-2.06 2.06-.94-2.06-.94-.94-2.06-.94 2.06-2.06.94z\"/><path d=\"M17.41 7.96l-1.37-1.37c-.4-.4-.92-.59-1.43-.59-.52 0-1.04.2-1.43.59L10.3 9.45l-7.72 7.72c-.78.78-.78 2.05 0 2.83L4 21.41c.39.39.9.59 1.41.59.51 0 1.02-.2 1.41-.59l7.78-7.78 2.81-2.81c.8-.78.8-2.07 0-2.86zM5.41 20L4 18.59l7.72-7.72 1.47 1.35L5.41 20z\"/>\n",
              "  </svg>\n",
              "      </button>\n",
              "      \n",
              "  <style>\n",
              "    .colab-df-container {\n",
              "      display:flex;\n",
              "      flex-wrap:wrap;\n",
              "      gap: 12px;\n",
              "    }\n",
              "\n",
              "    .colab-df-convert {\n",
              "      background-color: #E8F0FE;\n",
              "      border: none;\n",
              "      border-radius: 50%;\n",
              "      cursor: pointer;\n",
              "      display: none;\n",
              "      fill: #1967D2;\n",
              "      height: 32px;\n",
              "      padding: 0 0 0 0;\n",
              "      width: 32px;\n",
              "    }\n",
              "\n",
              "    .colab-df-convert:hover {\n",
              "      background-color: #E2EBFA;\n",
              "      box-shadow: 0px 1px 2px rgba(60, 64, 67, 0.3), 0px 1px 3px 1px rgba(60, 64, 67, 0.15);\n",
              "      fill: #174EA6;\n",
              "    }\n",
              "\n",
              "    [theme=dark] .colab-df-convert {\n",
              "      background-color: #3B4455;\n",
              "      fill: #D2E3FC;\n",
              "    }\n",
              "\n",
              "    [theme=dark] .colab-df-convert:hover {\n",
              "      background-color: #434B5C;\n",
              "      box-shadow: 0px 1px 3px 1px rgba(0, 0, 0, 0.15);\n",
              "      filter: drop-shadow(0px 1px 2px rgba(0, 0, 0, 0.3));\n",
              "      fill: #FFFFFF;\n",
              "    }\n",
              "  </style>\n",
              "\n",
              "      <script>\n",
              "        const buttonEl =\n",
              "          document.querySelector('#df-bbce52cc-b048-41f8-96b0-af58f5b0a208 button.colab-df-convert');\n",
              "        buttonEl.style.display =\n",
              "          google.colab.kernel.accessAllowed ? 'block' : 'none';\n",
              "\n",
              "        async function convertToInteractive(key) {\n",
              "          const element = document.querySelector('#df-bbce52cc-b048-41f8-96b0-af58f5b0a208');\n",
              "          const dataTable =\n",
              "            await google.colab.kernel.invokeFunction('convertToInteractive',\n",
              "                                                     [key], {});\n",
              "          if (!dataTable) return;\n",
              "\n",
              "          const docLinkHtml = 'Like what you see? Visit the ' +\n",
              "            '<a target=\"_blank\" href=https://colab.research.google.com/notebooks/data_table.ipynb>data table notebook</a>'\n",
              "            + ' to learn more about interactive tables.';\n",
              "          element.innerHTML = '';\n",
              "          dataTable['output_type'] = 'display_data';\n",
              "          await google.colab.output.renderOutput(dataTable, element);\n",
              "          const docLink = document.createElement('div');\n",
              "          docLink.innerHTML = docLinkHtml;\n",
              "          element.appendChild(docLink);\n",
              "        }\n",
              "      </script>\n",
              "    </div>\n",
              "  </div>\n",
              "  "
            ]
          },
          "metadata": {},
          "execution_count": 48
        }
      ]
    },
    {
      "cell_type": "code",
      "source": [
        "metricframe_unmitigated.ratio().plot.bar()"
      ],
      "metadata": {
        "colab": {
          "base_uri": "https://localhost:8080/",
          "height": 393
        },
        "id": "G00bAqwE40jS",
        "outputId": "51c3dd07-6b4a-44a8-8182-e954f05609ac"
      },
      "execution_count": 49,
      "outputs": [
        {
          "output_type": "execute_result",
          "data": {
            "text/plain": [
              "<matplotlib.axes._subplots.AxesSubplot at 0x7ff10782cad0>"
            ]
          },
          "metadata": {},
          "execution_count": 49
        },
        {
          "output_type": "display_data",
          "data": {
            "text/plain": [
              "<Figure size 432x288 with 1 Axes>"
            ],
            "image/png": "[encoded data removed]"
          },
          "metadata": {
            "needs_background": "light"
          }
        }
      ]
    },
    {
      "cell_type": "markdown",
      "source": [
        "## Mitigation strategies"
      ],
      "metadata": {
        "id": "OJL3EXIwwScu"
      }
    },
    {
      "cell_type": "markdown",
      "source": [
        "### postprocessing Threshold Optimizer"
      ],
      "metadata": {
        "id": "KfT3oiACMzlg"
      }
    },
    {
      "cell_type": "markdown",
      "source": [
        "possible constraints: demographic_parity, (false/true)_(negative/positive)_rate, equalized_odds  "
      ],
      "metadata": {
        "id": "OATelBn_0ksU"
      }
    },
    {
      "cell_type": "code",
      "source": [
        "# Now we instantite ThresholdOptimizer with the logistic regression estimator\n",
        "postprocess_est = ThresholdOptimizer(\n",
        "    estimator=unmitigated_pipeline,\n",
        "    # constraints=\"false_negative_rate_parity\",\n",
        "    # constraints=\"demographic_parity\",\n",
        "    constraints='equalized_odds',\n",
        "    objective=\"balanced_accuracy_score\",\n",
        "    prefit=True, #  whether the given estimator is already fitted to data\n",
        "    predict_method='predict_proba'\n",
        ")"
      ],
      "metadata": {
        "id": "FAJ3Ane5wToX"
      },
      "execution_count": null,
      "outputs": []
    },
    {
      "cell_type": "markdown",
      "source": [
        "fit the postprocessing (in this case to the same training set)"
      ],
      "metadata": {
        "id": "UL-0nyiIyNt7"
      }
    },
    {
      "cell_type": "code",
      "source": [
        "postprocess_est.fit(X_train, Y_train, sensitive_features=A_train)"
      ],
      "metadata": {
        "colab": {
          "base_uri": "https://localhost:8080/"
        },
        "id": "Gn1FZGzhxEOi",
        "outputId": "bfc89f3a-e0f4-40c7-a7aa-947d35f5fc04"
      },
      "execution_count": null,
      "outputs": [
        {
          "output_type": "execute_result",
          "data": {
            "text/plain": [
              "ThresholdOptimizer(constraints='equalized_odds',\n",
              "                   estimator=Pipeline(steps=[('preprocessing',\n",
              "                                              StandardScaler()),\n",
              "                                             ('logistic_regression',\n",
              "                                              LogisticRegression(max_iter=1000))]),\n",
              "                   objective='balanced_accuracy_score',\n",
              "                   predict_method='predict_proba', prefit=True)"
            ]
          },
          "metadata": {},
          "execution_count": 38
        }
      ]
    },
    {
      "cell_type": "code",
      "source": [
        "Y_pred_postprocess = postprocess_est.predict(X_test, sensitive_features=A_test)\n",
        "\n",
        "metricframe_postprocess = MetricFrame(\n",
        "    metrics=metrics_dict,\n",
        "    y_true=Y_test,\n",
        "    y_pred=Y_pred_postprocess,\n",
        "    sensitive_features=A_test\n",
        ")"
      ],
      "metadata": {
        "id": "7Gfez0CDxLuS"
      },
      "execution_count": null,
      "outputs": []
    },
    {
      "cell_type": "code",
      "source": [
        "pd.concat([metricframe_unmitigated.by_group,\n",
        "                        metricframe_postprocess.by_group],\n",
        "                       keys=['Unmitigated', 'ThresholdMitigation'],\n",
        "                       axis=1)"
      ],
      "metadata": {
        "colab": {
          "base_uri": "https://localhost:8080/",
          "height": 270
        },
        "id": "h_m97pLkxQ4l",
        "outputId": "52c0ef3b-82ad-42e6-aa1f-bc9208ad6526"
      },
      "execution_count": null,
      "outputs": [
        {
          "output_type": "execute_result",
          "data": {
            "text/plain": [
              "          Unmitigated                                          \\\n",
              "            base_rate selection_rate positive_prediction_rate   \n",
              "age_group                                                       \n",
              "0.0          0.638418       0.677966                 0.677966   \n",
              "1.0          0.746094       0.871094                 0.871094   \n",
              "2.0          0.686567       0.791045                 0.791045   \n",
              "\n",
              "                                                                               \\\n",
              "          false_negative_rate false_positive_rate balanced_accuracy    recall   \n",
              "age_group                                                                       \n",
              "0.0                  0.168142             0.40625          0.712804  0.831858   \n",
              "1.0                  0.057592            0.661538          0.640435  0.942408   \n",
              "2.0                  0.043478            0.428571          0.763975  0.956522   \n",
              "\n",
              "                              ThresholdMitigation                 \\\n",
              "          precision        f1           base_rate selection_rate   \n",
              "age_group                                                          \n",
              "0.0        0.783333  0.806867            0.638418       0.548023   \n",
              "1.0        0.807175  0.869565            0.746094       0.738281   \n",
              "2.0        0.830189  0.888889            0.686567       0.671642   \n",
              "\n",
              "                                                                            \\\n",
              "          positive_prediction_rate false_negative_rate false_positive_rate   \n",
              "age_group                                                                    \n",
              "0.0                       0.548023            0.327434            0.328125   \n",
              "1.0                       0.738281            0.162304            0.446154   \n",
              "2.0                       0.671642            0.195652            0.380952   \n",
              "\n",
              "                                                           \n",
              "          balanced_accuracy    recall precision        f1  \n",
              "age_group                                                  \n",
              "0.0                0.672221  0.672566  0.783505   0.72381  \n",
              "1.0                0.695771  0.837696  0.846561  0.842105  \n",
              "2.0                0.711698  0.804348  0.822222  0.813187  "
            ],
            "text/html": [
              "\n",
              "  <div id=\"df-b486acb9-bb53-4a7b-8075-f88ee10f4f9b\">\n",
              "    <div class=\"colab-df-container\">\n",
              "      <div>\n",
              "<style scoped>\n",
              "    .dataframe tbody tr th:only-of-type {\n",
              "        vertical-align: middle;\n",
              "    }\n",
              "\n",
              "    .dataframe tbody tr th {\n",
              "        vertical-align: top;\n",
              "    }\n",
              "\n",
              "    .dataframe thead tr th {\n",
              "        text-align: left;\n",
              "    }\n",
              "\n",
              "    .dataframe thead tr:last-of-type th {\n",
              "        text-align: right;\n",
              "    }\n",
              "</style>\n",
              "<table border=\"1\" class=\"dataframe\">\n",
              "  <thead>\n",
              "    <tr>\n",
              "      <th></th>\n",
              "      <th colspan=\"9\" halign=\"left\">Unmitigated</th>\n",
              "      <th colspan=\"9\" halign=\"left\">ThresholdMitigation</th>\n",
              "    </tr>\n",
              "    <tr>\n",
              "      <th></th>\n",
              "      <th>base_rate</th>\n",
              "      <th>selection_rate</th>\n",
              "      <th>positive_prediction_rate</th>\n",
              "      <th>false_negative_rate</th>\n",
              "      <th>false_positive_rate</th>\n",
              "      <th>balanced_accuracy</th>\n",
              "      <th>recall</th>\n",
              "      <th>precision</th>\n",
              "      <th>f1</th>\n",
              "      <th>base_rate</th>\n",
              "      <th>selection_rate</th>\n",
              "      <th>positive_prediction_rate</th>\n",
              "      <th>false_negative_rate</th>\n",
              "      <th>false_positive_rate</th>\n",
              "      <th>balanced_accuracy</th>\n",
              "      <th>recall</th>\n",
              "      <th>precision</th>\n",
              "      <th>f1</th>\n",
              "    </tr>\n",
              "    <tr>\n",
              "      <th>age_group</th>\n",
              "      <th></th>\n",
              "      <th></th>\n",
              "      <th></th>\n",
              "      <th></th>\n",
              "      <th></th>\n",
              "      <th></th>\n",
              "      <th></th>\n",
              "      <th></th>\n",
              "      <th></th>\n",
              "      <th></th>\n",
              "      <th></th>\n",
              "      <th></th>\n",
              "      <th></th>\n",
              "      <th></th>\n",
              "      <th></th>\n",
              "      <th></th>\n",
              "      <th></th>\n",
              "      <th></th>\n",
              "    </tr>\n",
              "  </thead>\n",
              "  <tbody>\n",
              "    <tr>\n",
              "      <th>0.0</th>\n",
              "      <td>0.638418</td>\n",
              "      <td>0.677966</td>\n",
              "      <td>0.677966</td>\n",
              "      <td>0.168142</td>\n",
              "      <td>0.40625</td>\n",
              "      <td>0.712804</td>\n",
              "      <td>0.831858</td>\n",
              "      <td>0.783333</td>\n",
              "      <td>0.806867</td>\n",
              "      <td>0.638418</td>\n",
              "      <td>0.548023</td>\n",
              "      <td>0.548023</td>\n",
              "      <td>0.327434</td>\n",
              "      <td>0.328125</td>\n",
              "      <td>0.672221</td>\n",
              "      <td>0.672566</td>\n",
              "      <td>0.783505</td>\n",
              "      <td>0.72381</td>\n",
              "    </tr>\n",
              "    <tr>\n",
              "      <th>1.0</th>\n",
              "      <td>0.746094</td>\n",
              "      <td>0.871094</td>\n",
              "      <td>0.871094</td>\n",
              "      <td>0.057592</td>\n",
              "      <td>0.661538</td>\n",
              "      <td>0.640435</td>\n",
              "      <td>0.942408</td>\n",
              "      <td>0.807175</td>\n",
              "      <td>0.869565</td>\n",
              "      <td>0.746094</td>\n",
              "      <td>0.738281</td>\n",
              "      <td>0.738281</td>\n",
              "      <td>0.162304</td>\n",
              "      <td>0.446154</td>\n",
              "      <td>0.695771</td>\n",
              "      <td>0.837696</td>\n",
              "      <td>0.846561</td>\n",
              "      <td>0.842105</td>\n",
              "    </tr>\n",
              "    <tr>\n",
              "      <th>2.0</th>\n",
              "      <td>0.686567</td>\n",
              "      <td>0.791045</td>\n",
              "      <td>0.791045</td>\n",
              "      <td>0.043478</td>\n",
              "      <td>0.428571</td>\n",
              "      <td>0.763975</td>\n",
              "      <td>0.956522</td>\n",
              "      <td>0.830189</td>\n",
              "      <td>0.888889</td>\n",
              "      <td>0.686567</td>\n",
              "      <td>0.671642</td>\n",
              "      <td>0.671642</td>\n",
              "      <td>0.195652</td>\n",
              "      <td>0.380952</td>\n",
              "      <td>0.711698</td>\n",
              "      <td>0.804348</td>\n",
              "      <td>0.822222</td>\n",
              "      <td>0.813187</td>\n",
              "    </tr>\n",
              "  </tbody>\n",
              "</table>\n",
              "</div>\n",
              "      <button class=\"colab-df-convert\" onclick=\"convertToInteractive('df-b486acb9-bb53-4a7b-8075-f88ee10f4f9b')\"\n",
              "              title=\"Convert this dataframe to an interactive table.\"\n",
              "              style=\"display:none;\">\n",
              "        \n",
              "  <svg xmlns=\"http://www.w3.org/2000/svg\" height=\"24px\"viewBox=\"0 0 24 24\"\n",
              "       width=\"24px\">\n",
              "    <path d=\"M0 0h24v24H0V0z\" fill=\"none\"/>\n",
              "    <path d=\"M18.56 5.44l.94 2.06.94-2.06 2.06-.94-2.06-.94-.94-2.06-.94 2.06-2.06.94zm-11 1L8.5 8.5l.94-2.06 2.06-.94-2.06-.94L8.5 2.5l-.94 2.06-2.06.94zm10 10l.94 2.06.94-2.06 2.06-.94-2.06-.94-.94-2.06-.94 2.06-2.06.94z\"/><path d=\"M17.41 7.96l-1.37-1.37c-.4-.4-.92-.59-1.43-.59-.52 0-1.04.2-1.43.59L10.3 9.45l-7.72 7.72c-.78.78-.78 2.05 0 2.83L4 21.41c.39.39.9.59 1.41.59.51 0 1.02-.2 1.41-.59l7.78-7.78 2.81-2.81c.8-.78.8-2.07 0-2.86zM5.41 20L4 18.59l7.72-7.72 1.47 1.35L5.41 20z\"/>\n",
              "  </svg>\n",
              "      </button>\n",
              "      \n",
              "  <style>\n",
              "    .colab-df-container {\n",
              "      display:flex;\n",
              "      flex-wrap:wrap;\n",
              "      gap: 12px;\n",
              "    }\n",
              "\n",
              "    .colab-df-convert {\n",
              "      background-color: #E8F0FE;\n",
              "      border: none;\n",
              "      border-radius: 50%;\n",
              "      cursor: pointer;\n",
              "      display: none;\n",
              "      fill: #1967D2;\n",
              "      height: 32px;\n",
              "      padding: 0 0 0 0;\n",
              "      width: 32px;\n",
              "    }\n",
              "\n",
              "    .colab-df-convert:hover {\n",
              "      background-color: #E2EBFA;\n",
              "      box-shadow: 0px 1px 2px rgba(60, 64, 67, 0.3), 0px 1px 3px 1px rgba(60, 64, 67, 0.15);\n",
              "      fill: #174EA6;\n",
              "    }\n",
              "\n",
              "    [theme=dark] .colab-df-convert {\n",
              "      background-color: #3B4455;\n",
              "      fill: #D2E3FC;\n",
              "    }\n",
              "\n",
              "    [theme=dark] .colab-df-convert:hover {\n",
              "      background-color: #434B5C;\n",
              "      box-shadow: 0px 1px 3px 1px rgba(0, 0, 0, 0.15);\n",
              "      filter: drop-shadow(0px 1px 2px rgba(0, 0, 0, 0.3));\n",
              "      fill: #FFFFFF;\n",
              "    }\n",
              "  </style>\n",
              "\n",
              "      <script>\n",
              "        const buttonEl =\n",
              "          document.querySelector('#df-b486acb9-bb53-4a7b-8075-f88ee10f4f9b button.colab-df-convert');\n",
              "        buttonEl.style.display =\n",
              "          google.colab.kernel.accessAllowed ? 'block' : 'none';\n",
              "\n",
              "        async function convertToInteractive(key) {\n",
              "          const element = document.querySelector('#df-b486acb9-bb53-4a7b-8075-f88ee10f4f9b');\n",
              "          const dataTable =\n",
              "            await google.colab.kernel.invokeFunction('convertToInteractive',\n",
              "                                                     [key], {});\n",
              "          if (!dataTable) return;\n",
              "\n",
              "          const docLinkHtml = 'Like what you see? Visit the ' +\n",
              "            '<a target=\"_blank\" href=https://colab.research.google.com/notebooks/data_table.ipynb>data table notebook</a>'\n",
              "            + ' to learn more about interactive tables.';\n",
              "          element.innerHTML = '';\n",
              "          dataTable['output_type'] = 'display_data';\n",
              "          await google.colab.output.renderOutput(dataTable, element);\n",
              "          const docLink = document.createElement('div');\n",
              "          docLink.innerHTML = docLinkHtml;\n",
              "          element.appendChild(docLink);\n",
              "        }\n",
              "      </script>\n",
              "    </div>\n",
              "  </div>\n",
              "  "
            ]
          },
          "metadata": {},
          "execution_count": 44
        }
      ]
    },
    {
      "cell_type": "code",
      "source": [
        "df_metrics = pd.concat([metricframe_unmitigated.ratio(),\n",
        "                        metricframe_postprocess.ratio()],\n",
        "                       keys=['Unmitigated', 'ThresholdOptimizer'],\n",
        "                       axis=1)"
      ],
      "metadata": {
        "id": "thEz6W7AztHj"
      },
      "execution_count": null,
      "outputs": []
    },
    {
      "cell_type": "code",
      "source": [
        "df_metrics.plot.bar()"
      ],
      "metadata": {
        "colab": {
          "base_uri": "https://localhost:8080/",
          "height": 393
        },
        "id": "CCvkT-P-zE4d",
        "outputId": "ad93ce40-4a13-4547-df0b-d339604a2f5e"
      },
      "execution_count": null,
      "outputs": [
        {
          "output_type": "execute_result",
          "data": {
            "text/plain": [
              "<matplotlib.axes._subplots.AxesSubplot at 0x7fb4f88ef090>"
            ]
          },
          "metadata": {},
          "execution_count": 237
        },
        {
          "output_type": "display_data",
          "data": {
            "text/plain": [
              "<Figure size 432x288 with 1 Axes>"
            ],
            "image/png": "[encoded data removed]"
          },
          "metadata": {
            "needs_background": "light"
          }
        }
      ]
    },
    {
      "cell_type": "markdown",
      "source": [
        "on training data"
      ],
      "metadata": {
        "id": "xZEiSS5W1qz-"
      }
    },
    {
      "cell_type": "code",
      "source": [
        "# Record and evaluate the output of the ThresholdOptimizer on the training data\n",
        "\n",
        "Y_pred_postprocess_training = postprocess_est.predict(X_train, sensitive_features=A_train)\n",
        "metricframe_postprocess_training = MetricFrame(\n",
        "    metrics=metrics_dict,\n",
        "    y_true=Y_train,\n",
        "    y_pred=Y_pred_postprocess_training,\n",
        "    sensitive_features=A_train\n",
        ")\n",
        "metricframe_postprocess_training.by_group"
      ],
      "metadata": {
        "colab": {
          "base_uri": "https://localhost:8080/",
          "height": 175
        },
        "id": "rpZ5zNbb1ru2",
        "outputId": "333b95e1-b4b8-4a8a-cd51-df4fa7da2361"
      },
      "execution_count": null,
      "outputs": [
        {
          "output_type": "execute_result",
          "data": {
            "text/plain": [
              "          base_rate selection_rate positive_prediction_rate  \\\n",
              "age_group                                                     \n",
              "0.0        0.623711       0.613402                 0.613402   \n",
              "1.0        0.741935       0.669355                 0.669355   \n",
              "2.0        0.775862       0.637931                 0.637931   \n",
              "\n",
              "          false_negative_rate false_positive_rate balanced_accuracy    recall  \\\n",
              "age_group                                                                       \n",
              "0.0                  0.206612            0.315068           0.73916  0.793388   \n",
              "1.0                  0.206522              0.3125          0.740489  0.793478   \n",
              "2.0                  0.266667            0.307692          0.712821  0.733333   \n",
              "\n",
              "          precision        f1  \n",
              "age_group                      \n",
              "0.0        0.806723       0.8  \n",
              "1.0        0.879518  0.834286  \n",
              "2.0        0.891892  0.804878  "
            ],
            "text/html": [
              "\n",
              "  <div id=\"df-f3b41dcf-3e79-4ca5-8030-e20698f45be1\">\n",
              "    <div class=\"colab-df-container\">\n",
              "      <div>\n",
              "<style scoped>\n",
              "    .dataframe tbody tr th:only-of-type {\n",
              "        vertical-align: middle;\n",
              "    }\n",
              "\n",
              "    .dataframe tbody tr th {\n",
              "        vertical-align: top;\n",
              "    }\n",
              "\n",
              "    .dataframe thead th {\n",
              "        text-align: right;\n",
              "    }\n",
              "</style>\n",
              "<table border=\"1\" class=\"dataframe\">\n",
              "  <thead>\n",
              "    <tr style=\"text-align: right;\">\n",
              "      <th></th>\n",
              "      <th>base_rate</th>\n",
              "      <th>selection_rate</th>\n",
              "      <th>positive_prediction_rate</th>\n",
              "      <th>false_negative_rate</th>\n",
              "      <th>false_positive_rate</th>\n",
              "      <th>balanced_accuracy</th>\n",
              "      <th>recall</th>\n",
              "      <th>precision</th>\n",
              "      <th>f1</th>\n",
              "    </tr>\n",
              "    <tr>\n",
              "      <th>age_group</th>\n",
              "      <th></th>\n",
              "      <th></th>\n",
              "      <th></th>\n",
              "      <th></th>\n",
              "      <th></th>\n",
              "      <th></th>\n",
              "      <th></th>\n",
              "      <th></th>\n",
              "      <th></th>\n",
              "    </tr>\n",
              "  </thead>\n",
              "  <tbody>\n",
              "    <tr>\n",
              "      <th>0.0</th>\n",
              "      <td>0.623711</td>\n",
              "      <td>0.613402</td>\n",
              "      <td>0.613402</td>\n",
              "      <td>0.206612</td>\n",
              "      <td>0.315068</td>\n",
              "      <td>0.73916</td>\n",
              "      <td>0.793388</td>\n",
              "      <td>0.806723</td>\n",
              "      <td>0.8</td>\n",
              "    </tr>\n",
              "    <tr>\n",
              "      <th>1.0</th>\n",
              "      <td>0.741935</td>\n",
              "      <td>0.669355</td>\n",
              "      <td>0.669355</td>\n",
              "      <td>0.206522</td>\n",
              "      <td>0.3125</td>\n",
              "      <td>0.740489</td>\n",
              "      <td>0.793478</td>\n",
              "      <td>0.879518</td>\n",
              "      <td>0.834286</td>\n",
              "    </tr>\n",
              "    <tr>\n",
              "      <th>2.0</th>\n",
              "      <td>0.775862</td>\n",
              "      <td>0.637931</td>\n",
              "      <td>0.637931</td>\n",
              "      <td>0.266667</td>\n",
              "      <td>0.307692</td>\n",
              "      <td>0.712821</td>\n",
              "      <td>0.733333</td>\n",
              "      <td>0.891892</td>\n",
              "      <td>0.804878</td>\n",
              "    </tr>\n",
              "  </tbody>\n",
              "</table>\n",
              "</div>\n",
              "      <button class=\"colab-df-convert\" onclick=\"convertToInteractive('df-f3b41dcf-3e79-4ca5-8030-e20698f45be1')\"\n",
              "              title=\"Convert this dataframe to an interactive table.\"\n",
              "              style=\"display:none;\">\n",
              "        \n",
              "  <svg xmlns=\"http://www.w3.org/2000/svg\" height=\"24px\"viewBox=\"0 0 24 24\"\n",
              "       width=\"24px\">\n",
              "    <path d=\"M0 0h24v24H0V0z\" fill=\"none\"/>\n",
              "    <path d=\"M18.56 5.44l.94 2.06.94-2.06 2.06-.94-2.06-.94-.94-2.06-.94 2.06-2.06.94zm-11 1L8.5 8.5l.94-2.06 2.06-.94-2.06-.94L8.5 2.5l-.94 2.06-2.06.94zm10 10l.94 2.06.94-2.06 2.06-.94-2.06-.94-.94-2.06-.94 2.06-2.06.94z\"/><path d=\"M17.41 7.96l-1.37-1.37c-.4-.4-.92-.59-1.43-.59-.52 0-1.04.2-1.43.59L10.3 9.45l-7.72 7.72c-.78.78-.78 2.05 0 2.83L4 21.41c.39.39.9.59 1.41.59.51 0 1.02-.2 1.41-.59l7.78-7.78 2.81-2.81c.8-.78.8-2.07 0-2.86zM5.41 20L4 18.59l7.72-7.72 1.47 1.35L5.41 20z\"/>\n",
              "  </svg>\n",
              "      </button>\n",
              "      \n",
              "  <style>\n",
              "    .colab-df-container {\n",
              "      display:flex;\n",
              "      flex-wrap:wrap;\n",
              "      gap: 12px;\n",
              "    }\n",
              "\n",
              "    .colab-df-convert {\n",
              "      background-color: #E8F0FE;\n",
              "      border: none;\n",
              "      border-radius: 50%;\n",
              "      cursor: pointer;\n",
              "      display: none;\n",
              "      fill: #1967D2;\n",
              "      height: 32px;\n",
              "      padding: 0 0 0 0;\n",
              "      width: 32px;\n",
              "    }\n",
              "\n",
              "    .colab-df-convert:hover {\n",
              "      background-color: #E2EBFA;\n",
              "      box-shadow: 0px 1px 2px rgba(60, 64, 67, 0.3), 0px 1px 3px 1px rgba(60, 64, 67, 0.15);\n",
              "      fill: #174EA6;\n",
              "    }\n",
              "\n",
              "    [theme=dark] .colab-df-convert {\n",
              "      background-color: #3B4455;\n",
              "      fill: #D2E3FC;\n",
              "    }\n",
              "\n",
              "    [theme=dark] .colab-df-convert:hover {\n",
              "      background-color: #434B5C;\n",
              "      box-shadow: 0px 1px 3px 1px rgba(0, 0, 0, 0.15);\n",
              "      filter: drop-shadow(0px 1px 2px rgba(0, 0, 0, 0.3));\n",
              "      fill: #FFFFFF;\n",
              "    }\n",
              "  </style>\n",
              "\n",
              "      <script>\n",
              "        const buttonEl =\n",
              "          document.querySelector('#df-f3b41dcf-3e79-4ca5-8030-e20698f45be1 button.colab-df-convert');\n",
              "        buttonEl.style.display =\n",
              "          google.colab.kernel.accessAllowed ? 'block' : 'none';\n",
              "\n",
              "        async function convertToInteractive(key) {\n",
              "          const element = document.querySelector('#df-f3b41dcf-3e79-4ca5-8030-e20698f45be1');\n",
              "          const dataTable =\n",
              "            await google.colab.kernel.invokeFunction('convertToInteractive',\n",
              "                                                     [key], {});\n",
              "          if (!dataTable) return;\n",
              "\n",
              "          const docLinkHtml = 'Like what you see? Visit the ' +\n",
              "            '<a target=\"_blank\" href=https://colab.research.google.com/notebooks/data_table.ipynb>data table notebook</a>'\n",
              "            + ' to learn more about interactive tables.';\n",
              "          element.innerHTML = '';\n",
              "          dataTable['output_type'] = 'display_data';\n",
              "          await google.colab.output.renderOutput(dataTable, element);\n",
              "          const docLink = document.createElement('div');\n",
              "          docLink.innerHTML = docLinkHtml;\n",
              "          element.appendChild(docLink);\n",
              "        }\n",
              "      </script>\n",
              "    </div>\n",
              "  </div>\n",
              "  "
            ]
          },
          "metadata": {},
          "execution_count": 45
        }
      ]
    },
    {
      "cell_type": "code",
      "source": [
        "# Evaluate the difference between the largest and smallest value of each metric\n",
        "metricframe_postprocess_training.ratio()"
      ],
      "metadata": {
        "colab": {
          "base_uri": "https://localhost:8080/"
        },
        "id": "ozdlih4W15fu",
        "outputId": "6c5960e3-90b5-4edf-cef7-5d061d7c9802"
      },
      "execution_count": null,
      "outputs": [
        {
          "output_type": "execute_result",
          "data": {
            "text/plain": [
              "base_rate                   0.803895\n",
              "selection_rate              0.917589\n",
              "positive_prediction_rate    0.917589\n",
              "false_negative_rate         0.966942\n",
              "false_positive_rate         0.765734\n",
              "balanced_accuracy           0.959112\n",
              "recall                      0.990643\n",
              "precision                   0.881563\n",
              "f1                          0.946579\n",
              "dtype: object"
            ]
          },
          "metadata": {},
          "execution_count": 239
        }
      ]
    },
    {
      "cell_type": "markdown",
      "source": [
        "let's see the ROC on *train*"
      ],
      "metadata": {
        "id": "7DPMTia-zKR3"
      }
    },
    {
      "cell_type": "code",
      "source": [
        "metrics_by_group(Y_train, unmitigated_pipeline.predict_proba(X_train)[:, 1], df_train[sensitive])"
      ],
      "metadata": {
        "colab": {
          "base_uri": "https://localhost:8080/",
          "height": 437
        },
        "id": "9VVRYQs8zGnW",
        "outputId": "b9cd9c7d-79db-40cb-ed90-7f5de8364c06"
      },
      "execution_count": null,
      "outputs": [
        {
          "output_type": "execute_result",
          "data": {
            "text/plain": [
              "                acc      prec       rec        F1       AUC       ppr\n",
              "age_group                                                            \n",
              "0.0        0.711340  0.737226  0.834711  0.782946  0.748443  0.706186\n",
              "1.0        0.778226  0.808612  0.918478  0.860051  0.810887  0.842742\n",
              "2.0        0.810345  0.854167  0.911111  0.881720  0.830769  0.827586"
            ],
            "text/html": [
              "\n",
              "  <div id=\"df-80ce2a5e-9f29-4d34-9562-20006accab5d\">\n",
              "    <div class=\"colab-df-container\">\n",
              "      <div>\n",
              "<style scoped>\n",
              "    .dataframe tbody tr th:only-of-type {\n",
              "        vertical-align: middle;\n",
              "    }\n",
              "\n",
              "    .dataframe tbody tr th {\n",
              "        vertical-align: top;\n",
              "    }\n",
              "\n",
              "    .dataframe thead th {\n",
              "        text-align: right;\n",
              "    }\n",
              "</style>\n",
              "<table border=\"1\" class=\"dataframe\">\n",
              "  <thead>\n",
              "    <tr style=\"text-align: right;\">\n",
              "      <th></th>\n",
              "      <th>acc</th>\n",
              "      <th>prec</th>\n",
              "      <th>rec</th>\n",
              "      <th>F1</th>\n",
              "      <th>AUC</th>\n",
              "      <th>ppr</th>\n",
              "    </tr>\n",
              "    <tr>\n",
              "      <th>age_group</th>\n",
              "      <th></th>\n",
              "      <th></th>\n",
              "      <th></th>\n",
              "      <th></th>\n",
              "      <th></th>\n",
              "      <th></th>\n",
              "    </tr>\n",
              "  </thead>\n",
              "  <tbody>\n",
              "    <tr>\n",
              "      <th>0.0</th>\n",
              "      <td>0.711340</td>\n",
              "      <td>0.737226</td>\n",
              "      <td>0.834711</td>\n",
              "      <td>0.782946</td>\n",
              "      <td>0.748443</td>\n",
              "      <td>0.706186</td>\n",
              "    </tr>\n",
              "    <tr>\n",
              "      <th>1.0</th>\n",
              "      <td>0.778226</td>\n",
              "      <td>0.808612</td>\n",
              "      <td>0.918478</td>\n",
              "      <td>0.860051</td>\n",
              "      <td>0.810887</td>\n",
              "      <td>0.842742</td>\n",
              "    </tr>\n",
              "    <tr>\n",
              "      <th>2.0</th>\n",
              "      <td>0.810345</td>\n",
              "      <td>0.854167</td>\n",
              "      <td>0.911111</td>\n",
              "      <td>0.881720</td>\n",
              "      <td>0.830769</td>\n",
              "      <td>0.827586</td>\n",
              "    </tr>\n",
              "  </tbody>\n",
              "</table>\n",
              "</div>\n",
              "      <button class=\"colab-df-convert\" onclick=\"convertToInteractive('df-80ce2a5e-9f29-4d34-9562-20006accab5d')\"\n",
              "              title=\"Convert this dataframe to an interactive table.\"\n",
              "              style=\"display:none;\">\n",
              "        \n",
              "  <svg xmlns=\"http://www.w3.org/2000/svg\" height=\"24px\"viewBox=\"0 0 24 24\"\n",
              "       width=\"24px\">\n",
              "    <path d=\"M0 0h24v24H0V0z\" fill=\"none\"/>\n",
              "    <path d=\"M18.56 5.44l.94 2.06.94-2.06 2.06-.94-2.06-.94-.94-2.06-.94 2.06-2.06.94zm-11 1L8.5 8.5l.94-2.06 2.06-.94-2.06-.94L8.5 2.5l-.94 2.06-2.06.94zm10 10l.94 2.06.94-2.06 2.06-.94-2.06-.94-.94-2.06-.94 2.06-2.06.94z\"/><path d=\"M17.41 7.96l-1.37-1.37c-.4-.4-.92-.59-1.43-.59-.52 0-1.04.2-1.43.59L10.3 9.45l-7.72 7.72c-.78.78-.78 2.05 0 2.83L4 21.41c.39.39.9.59 1.41.59.51 0 1.02-.2 1.41-.59l7.78-7.78 2.81-2.81c.8-.78.8-2.07 0-2.86zM5.41 20L4 18.59l7.72-7.72 1.47 1.35L5.41 20z\"/>\n",
              "  </svg>\n",
              "      </button>\n",
              "      \n",
              "  <style>\n",
              "    .colab-df-container {\n",
              "      display:flex;\n",
              "      flex-wrap:wrap;\n",
              "      gap: 12px;\n",
              "    }\n",
              "\n",
              "    .colab-df-convert {\n",
              "      background-color: #E8F0FE;\n",
              "      border: none;\n",
              "      border-radius: 50%;\n",
              "      cursor: pointer;\n",
              "      display: none;\n",
              "      fill: #1967D2;\n",
              "      height: 32px;\n",
              "      padding: 0 0 0 0;\n",
              "      width: 32px;\n",
              "    }\n",
              "\n",
              "    .colab-df-convert:hover {\n",
              "      background-color: #E2EBFA;\n",
              "      box-shadow: 0px 1px 2px rgba(60, 64, 67, 0.3), 0px 1px 3px 1px rgba(60, 64, 67, 0.15);\n",
              "      fill: #174EA6;\n",
              "    }\n",
              "\n",
              "    [theme=dark] .colab-df-convert {\n",
              "      background-color: #3B4455;\n",
              "      fill: #D2E3FC;\n",
              "    }\n",
              "\n",
              "    [theme=dark] .colab-df-convert:hover {\n",
              "      background-color: #434B5C;\n",
              "      box-shadow: 0px 1px 3px 1px rgba(0, 0, 0, 0.15);\n",
              "      filter: drop-shadow(0px 1px 2px rgba(0, 0, 0, 0.3));\n",
              "      fill: #FFFFFF;\n",
              "    }\n",
              "  </style>\n",
              "\n",
              "      <script>\n",
              "        const buttonEl =\n",
              "          document.querySelector('#df-80ce2a5e-9f29-4d34-9562-20006accab5d button.colab-df-convert');\n",
              "        buttonEl.style.display =\n",
              "          google.colab.kernel.accessAllowed ? 'block' : 'none';\n",
              "\n",
              "        async function convertToInteractive(key) {\n",
              "          const element = document.querySelector('#df-80ce2a5e-9f29-4d34-9562-20006accab5d');\n",
              "          const dataTable =\n",
              "            await google.colab.kernel.invokeFunction('convertToInteractive',\n",
              "                                                     [key], {});\n",
              "          if (!dataTable) return;\n",
              "\n",
              "          const docLinkHtml = 'Like what you see? Visit the ' +\n",
              "            '<a target=\"_blank\" href=https://colab.research.google.com/notebooks/data_table.ipynb>data table notebook</a>'\n",
              "            + ' to learn more about interactive tables.';\n",
              "          element.innerHTML = '';\n",
              "          dataTable['output_type'] = 'display_data';\n",
              "          await google.colab.output.renderOutput(dataTable, element);\n",
              "          const docLink = document.createElement('div');\n",
              "          docLink.innerHTML = docLinkHtml;\n",
              "          element.appendChild(docLink);\n",
              "        }\n",
              "      </script>\n",
              "    </div>\n",
              "  </div>\n",
              "  "
            ]
          },
          "metadata": {},
          "execution_count": 48
        },
        {
          "output_type": "display_data",
          "data": {
            "text/plain": [
              "<Figure size 432x288 with 1 Axes>"
            ],
            "image/png": "[encoded data removed]"
          },
          "metadata": {
            "needs_background": "light"
          }
        }
      ]
    }
  ]
}